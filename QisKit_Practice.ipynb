{
 "cells": [
  {
   "cell_type": "markdown",
   "id": "452959f7-0c65-4214-b271-63dd222d083c",
   "metadata": {},
   "source": [
    "Consider adding this project to my person github repo\n",
    "\n",
    "Remember to change the environment to quantum!\n",
    "\n",
    "Not sure why my IBM quantum account has been disabled. Maybe should contact later about this."
   ]
  },
  {
   "cell_type": "markdown",
   "id": "89a1767d-7da4-4e26-acc5-dc50bbe9ab80",
   "metadata": {},
   "source": [
    "Can just use \"transpile\" without \"assemble\". Transpiling just optimizes circuit for the given hardware."
   ]
  },
  {
   "cell_type": "markdown",
   "id": "611a85f6-f82f-4355-9816-289712afcf61",
   "metadata": {
    "jp-MarkdownHeadingCollapsed": true,
    "tags": []
   },
   "source": [
    "# Imports"
   ]
  },
  {
   "cell_type": "code",
   "execution_count": 2,
   "id": "abdd2fbd-b9cb-4579-9cb3-51bc75b0c1bc",
   "metadata": {},
   "outputs": [],
   "source": [
    "from qiskit import QuantumCircuit, transpile, assemble, QuantumRegister, ClassicalRegister\n",
    "from qiskit_aer import AerSimulator\n",
    "from qiskit.visualization import plot_histogram\n",
    "f = open(\"api_token.txt\", \"r\")\n",
    "api_token = f.readline()\n",
    "from qiskit_ibm_runtime import QiskitRuntimeService, Session, Sampler\n",
    "from qiskit import Aer"
   ]
  },
  {
   "cell_type": "markdown",
   "id": "efc8f365-090e-4f2d-9510-146f4a0f6400",
   "metadata": {
    "jp-MarkdownHeadingCollapsed": true,
    "tags": []
   },
   "source": [
    "# Tutorial"
   ]
  },
  {
   "cell_type": "code",
   "execution_count": 1,
   "id": "93e5d1d8-cc6b-4a58-8e51-728ed1e1f0d2",
   "metadata": {},
   "outputs": [],
   "source": [
    "import qiskit_textbook\n",
    "#from qiskit_textbook import games"
   ]
  },
  {
   "cell_type": "code",
   "execution_count": 1,
   "id": "554bdd5a-13d3-44c2-8e29-b97d4a278ee7",
   "metadata": {},
   "outputs": [],
   "source": [
    "from qiskit import QuantumCircuit, transpile\n",
    "from qiskit_aer import AerSimulator\n",
    "from qiskit.visualization import plot_histogram"
   ]
  },
  {
   "cell_type": "code",
   "execution_count": 6,
   "id": "2bb3fdc1-1998-4d20-a4a2-ac23d80ba4b2",
   "metadata": {},
   "outputs": [
    {
     "name": "stdout",
     "output_type": "stream",
     "text": [
      "\n",
      "Total count for 00 and 11 are: {'00': 508, '11': 492}\n"
     ]
    },
    {
     "data": {
      "image/png": "[encoded data removed]",
      "text/plain": [
       "<Figure size 327.252x204.68 with 1 Axes>"
      ]
     },
     "execution_count": 6,
     "metadata": {},
     "output_type": "execute_result"
    }
   ],
   "source": [
    "# Use Aer's AerSimulator\n",
    "simulator = AerSimulator()\n",
    "\n",
    "# Create a Quantum Circuit acting on the q register\n",
    "circuit = QuantumCircuit(2, 2)\n",
    "\n",
    "# Add a H gate on qubit 0\n",
    "circuit.h(0)\n",
    "\n",
    "# Add a CX (CNOT) gate on control qubit 0 and target qubit 1\n",
    "circuit.cx(0, 1)\n",
    "\n",
    "# Map the quantum measurement to the classical bits\n",
    "circuit.measure([0, 1], [0, 1])\n",
    "\n",
    "# Compile the circuit for the support instruction set (basis_gates)\n",
    "# and topology (coupling_map) of the backend\n",
    "compiled_circuit = transpile(circuit, simulator)\n",
    "\n",
    "# Execute the circuit on the aer simulator\n",
    "job = simulator.run(compiled_circuit, shots=1000)\n",
    "\n",
    "# Grab results from the job\n",
    "result = job.result()\n",
    "\n",
    "# Returns counts\n",
    "counts = result.get_counts(compiled_circuit)\n",
    "print(\"\\nTotal count for 00 and 11 are:\", counts)\n",
    "\n",
    "# Draw the circuit\n",
    "circuit.draw('mpl')"
   ]
  },
  {
   "cell_type": "code",
   "execution_count": 31,
   "id": "5d0640fa-f00b-47cf-9f3c-84bc4f292575",
   "metadata": {},
   "outputs": [
    {
     "data": {
      "image/png": "[encoded data removed]",
      "text/plain": [
       "<Figure size 504x360 with 1 Axes>"
      ]
     },
     "execution_count": 31,
     "metadata": {},
     "output_type": "execute_result"
    }
   ],
   "source": [
    "plot_histogram(counts)"
   ]
  },
  {
   "cell_type": "markdown",
   "id": "03137505-91dc-4edd-9176-3a9e7e5e336b",
   "metadata": {
    "jp-MarkdownHeadingCollapsed": true,
    "tags": []
   },
   "source": [
    "# Circuit Basics"
   ]
  },
  {
   "cell_type": "markdown",
   "id": "773fb86e-0d8f-4c73-9bd7-f2179a400a0c",
   "metadata": {},
   "source": [
    "Creating a circuit"
   ]
  },
  {
   "cell_type": "code",
   "execution_count": 7,
   "id": "4765075f-f8db-4ad1-b613-4101c5c2757e",
   "metadata": {},
   "outputs": [],
   "source": [
    "import numpy as np\n",
    "from qiskit import QuantumCircuit"
   ]
  },
  {
   "cell_type": "code",
   "execution_count": 8,
   "id": "2ce134da-649b-4da7-bdc5-fd073c41488b",
   "metadata": {},
   "outputs": [],
   "source": [
    "circuit = QuantumCircuit(3,3) \n",
    "# first arg is number of qubits, 2nd arg is number of classical bits (for measuring)\n",
    "# by default all qubits start in state |0>"
   ]
  },
  {
   "cell_type": "code",
   "execution_count": 9,
   "id": "8dbbecca-8bfb-4529-a4a7-bc281dfbf7b5",
   "metadata": {},
   "outputs": [
    {
     "data": {
      "text/plain": [
       "<qiskit.circuit.instructionset.InstructionSet at 0x154547a90>"
      ]
     },
     "execution_count": 9,
     "metadata": {},
     "output_type": "execute_result"
    }
   ],
   "source": [
    "circuit.h(0)\n",
    "circuit.cx(0, 1)\n",
    "circuit.cx(0,2)"
   ]
  },
  {
   "cell_type": "code",
   "execution_count": 11,
   "id": "273630ce-fe5c-46a0-b6f5-118185c53e11",
   "metadata": {
    "tags": []
   },
   "outputs": [
    {
     "data": {
      "text/plain": [
       "<qiskit.circuit.instructionset.InstructionSet at 0x1574e74f0>"
      ]
     },
     "execution_count": 11,
     "metadata": {},
     "output_type": "execute_result"
    }
   ],
   "source": [
    "# Not sure why this doesn't work\n",
    "circuit.measure([0,1,2],[0,1,2])"
   ]
  },
  {
   "cell_type": "code",
   "execution_count": 22,
   "id": "4448864e-f749-4712-afca-4389819b449f",
   "metadata": {},
   "outputs": [
    {
     "data": {
      "image/png": "[encoded data removed]",
      "text/plain": [
       "<Figure size 447.797x264.88 with 1 Axes>"
      ]
     },
     "execution_count": 22,
     "metadata": {},
     "output_type": "execute_result"
    }
   ],
   "source": [
    "circuit.draw('mpl')"
   ]
  },
  {
   "cell_type": "code",
   "execution_count": 15,
   "id": "07df8dd9-36ed-4d06-8ab9-76b3a3c76eea",
   "metadata": {},
   "outputs": [],
   "source": [
    "sim = AerSimulator()\n",
    "job = sim.run(circuit) # a \"Result\" object\n",
    "# default is 1024 iterations"
   ]
  },
  {
   "cell_type": "code",
   "execution_count": 20,
   "id": "1b638225-9d17-4d7d-b003-a33a7137f5b9",
   "metadata": {},
   "outputs": [
    {
     "data": {
      "text/plain": [
       "{'111': 506, '000': 518}"
      ]
     },
     "execution_count": 20,
     "metadata": {},
     "output_type": "execute_result"
    }
   ],
   "source": [
    "job.result().get_counts()"
   ]
  },
  {
   "cell_type": "code",
   "execution_count": 21,
   "id": "df3ce384-03f3-4e92-b245-1ec017b2cd2f",
   "metadata": {},
   "outputs": [
    {
     "data": {
      "text/plain": [
       "<qiskit.circuit.instructionset.InstructionSet at 0x157ebe6b0>"
      ]
     },
     "execution_count": 21,
     "metadata": {},
     "output_type": "execute_result"
    }
   ],
   "source": [
    "circuit.x([1,0])"
   ]
  },
  {
   "cell_type": "code",
   "execution_count": 29,
   "id": "5066b70a-750f-4142-a90e-f7871de07d6d",
   "metadata": {},
   "outputs": [
    {
     "data": {
      "image/png": "[encoded data removed]",
      "text/plain": [
       "<Figure size 447.797x325.08 with 1 Axes>"
      ]
     },
     "execution_count": 29,
     "metadata": {},
     "output_type": "execute_result"
    }
   ],
   "source": [
    "# Make a half adder\n",
    "# CNOT is basically an XOR gate\n",
    "# Toffoli is basically an AND gate\n",
    "qc = QuantumCircuit(4, 2)\n",
    "qc.x([0,1])\n",
    "qc.cx([0,1],2)\n",
    "qc.ccx(0,1,3)\n",
    "qc.measure([2, 3],[0,1])\n",
    "qc.draw('mpl')"
   ]
  },
  {
   "cell_type": "code",
   "execution_count": 30,
   "id": "b9fe0fbd-7ecc-4d3c-9547-136412d095aa",
   "metadata": {},
   "outputs": [
    {
     "data": {
      "text/plain": [
       "{'10': 1024}"
      ]
     },
     "execution_count": 30,
     "metadata": {},
     "output_type": "execute_result"
    }
   ],
   "source": [
    "sim = AerSimulator()\n",
    "job = sim.run(qc)\n",
    "res = job.result()\n",
    "res.get_counts()"
   ]
  },
  {
   "cell_type": "code",
   "execution_count": 59,
   "id": "74ae55ac-ce90-4ec6-ab08-26a6fb5330c5",
   "metadata": {},
   "outputs": [],
   "source": [
    "from qiskit.quantum_info import Statevector\n",
    "\n",
    "# Set the intial state of the simulator to the ground state using from_int\n",
    "# first argument is a list of indices where the amplitude is 1, 2nd arg is dimension of the statevector\n",
    "state = Statevector.from_int([0], 2**3)"
   ]
  },
  {
   "cell_type": "code",
   "execution_count": 60,
   "id": "88272a85-a427-4316-aa32-a040fc742c38",
   "metadata": {},
   "outputs": [
    {
     "data": {
      "text/latex": [
       "$$\\frac{\\sqrt{2}}{2} |000\\rangle+\\frac{\\sqrt{2}}{2} |111\\rangle$$"
      ],
      "text/plain": [
       "<IPython.core.display.Latex object>"
      ]
     },
     "execution_count": 60,
     "metadata": {},
     "output_type": "execute_result"
    }
   ],
   "source": [
    "# Evolve the state by the quantum circuit\n",
    "state = state.evolve(circuit)\n",
    "\n",
    "#draw using latex\n",
    "state.draw('latex')"
   ]
  },
  {
   "cell_type": "code",
   "execution_count": 61,
   "id": "32309c07-a6a9-4507-9459-b45f12313213",
   "metadata": {},
   "outputs": [
    {
     "data": {
      "text/latex": [
       "$$\n",
       "\n",
       "\\begin{bmatrix}\n",
       "\\frac{\\sqrt{2}}{2} & 0 & 0 & 0 & 0 & 0 & 0 & \\frac{\\sqrt{2}}{2}  \\\\\n",
       " \\end{bmatrix}\n",
       "$$"
      ],
      "text/plain": [
       "<IPython.core.display.Latex object>"
      ]
     },
     "execution_count": 61,
     "metadata": {},
     "output_type": "execute_result"
    }
   ],
   "source": [
    "from qiskit.visualization import array_to_latex\n",
    "\n",
    "#Alternative way of representing in latex\n",
    "array_to_latex(state)"
   ]
  },
  {
   "cell_type": "code",
   "execution_count": 62,
   "id": "f3903afd-0ae6-4df9-b5e6-761366256df8",
   "metadata": {},
   "outputs": [
    {
     "data": {
      "image/png": "[encoded data removed]",
      "text/plain": [
       "<Figure size 504x504 with 2 Axes>"
      ]
     },
     "execution_count": 62,
     "metadata": {},
     "output_type": "execute_result"
    }
   ],
   "source": [
    "state.draw('qsphere')"
   ]
  },
  {
   "cell_type": "markdown",
   "id": "238c923a-4a35-4e42-b617-d68ee933e46e",
   "metadata": {
    "jp-MarkdownHeadingCollapsed": true,
    "tags": []
   },
   "source": [
    "# Intro Course"
   ]
  },
  {
   "cell_type": "markdown",
   "id": "6baab3a8-aa88-46a8-8de6-a44e1bbcda22",
   "metadata": {
    "jp-MarkdownHeadingCollapsed": true,
    "tags": []
   },
   "source": [
    "## Why quantum computers"
   ]
  },
  {
   "cell_type": "code",
   "execution_count": 3,
   "id": "1902ee02-c1b0-4175-b63d-dac74c7199bd",
   "metadata": {},
   "outputs": [],
   "source": [
    "qc = QuantumCircuit(3)\n",
    "qc.h(0)\n",
    "qc.cx(0, [1, 2]) # this made 2 gates\n",
    "qc.measure_all()"
   ]
  },
  {
   "cell_type": "code",
   "execution_count": 4,
   "id": "b2dd8546-4293-4a00-b1de-7fe657dbcbb9",
   "metadata": {},
   "outputs": [
    {
     "data": {
      "text/html": [
       "<pre style=\"word-wrap: normal;white-space: pre;background: #fff0;line-height: 1.1;font-family: &quot;Courier New&quot;,Courier,monospace\">        ┌───┐           ░ ┌─┐      \n",
       "   q_0: ┤ H ├──■────■───░─┤M├──────\n",
       "        └───┘┌─┴─┐  │   ░ └╥┘┌─┐   \n",
       "   q_1: ─────┤ X ├──┼───░──╫─┤M├───\n",
       "             └───┘┌─┴─┐ ░  ║ └╥┘┌─┐\n",
       "   q_2: ──────────┤ X ├─░──╫──╫─┤M├\n",
       "                  └───┘ ░  ║  ║ └╥┘\n",
       "meas: 3/═══════════════════╩══╩══╩═\n",
       "                           0  1  2 </pre>"
      ],
      "text/plain": [
       "        ┌───┐           ░ ┌─┐      \n",
       "   q_0: ┤ H ├──■────■───░─┤M├──────\n",
       "        └───┘┌─┴─┐  │   ░ └╥┘┌─┐   \n",
       "   q_1: ─────┤ X ├──┼───░──╫─┤M├───\n",
       "             └───┘┌─┴─┐ ░  ║ └╥┘┌─┐\n",
       "   q_2: ──────────┤ X ├─░──╫──╫─┤M├\n",
       "                  └───┘ ░  ║  ║ └╥┘\n",
       "meas: 3/═══════════════════╩══╩══╩═\n",
       "                           0  1  2 "
      ]
     },
     "execution_count": 4,
     "metadata": {},
     "output_type": "execute_result"
    }
   ],
   "source": [
    "qc.draw()"
   ]
  },
  {
   "cell_type": "markdown",
   "id": "ae7ee182-6037-4a8c-9bba-f7e0d869af2d",
   "metadata": {},
   "source": [
    "Need the API key to connect with IBM to work on their quantum computer"
   ]
  },
  {
   "cell_type": "code",
   "execution_count": 10,
   "id": "53f32d57-798b-4854-90d3-17a6ab78f26b",
   "metadata": {},
   "outputs": [
    {
     "name": "stdout",
     "output_type": "stream",
     "text": [
      "Running on <IBMBackend('ibmq_manila')>\n"
     ]
    }
   ],
   "source": [
    "from qiskit_ibm_runtime import QiskitRuntimeService, Session, Sampler\n",
    "#service = QiskitRuntimeService(channel=\"ibm_quantum\")\n",
    "service = QiskitRuntimeService(channel=\"ibm_quantum\", token=api_token)\n",
    "backend = service.least_busy(simulator=False, operational=True)\n",
    "print(f'Running on {backend}')"
   ]
  },
  {
   "cell_type": "code",
   "execution_count": 11,
   "id": "ec6a7948-7534-490a-ac94-16668d7499e1",
   "metadata": {},
   "outputs": [],
   "source": [
    "with Session(backend=backend):\n",
    "    sampler = Sampler()\n",
    "    result = sampler.run(qc).result()"
   ]
  },
  {
   "cell_type": "code",
   "execution_count": 12,
   "id": "765835f6-5dea-4d06-a363-949bec586136",
   "metadata": {},
   "outputs": [
    {
     "data": {
      "image/png": "[encoded data removed]",
      "text/plain": [
       "<Figure size 504x360 with 1 Axes>"
      ]
     },
     "execution_count": 12,
     "metadata": {},
     "output_type": "execute_result"
    }
   ],
   "source": [
    "from qiskit.visualization import plot_histogram\n",
    "distribution = result.quasi_dists[0].binary_probabilities()\n",
    "plot_histogram(distribution)"
   ]
  },
  {
   "cell_type": "markdown",
   "id": "8f83ed80-09cd-43a8-aa94-0926a5f9659f",
   "metadata": {
    "jp-MarkdownHeadingCollapsed": true,
    "tags": []
   },
   "source": [
    "## Visualizing Entanglement"
   ]
  },
  {
   "cell_type": "code",
   "execution_count": 11,
   "id": "0d7384a1-af58-4376-99dd-bc48530d0db4",
   "metadata": {},
   "outputs": [],
   "source": [
    "#from qiskit_textbook.games import hello_quantum\n",
    "#from qiskit_textbook.games import qiskit_game_engine\n"
   ]
  },
  {
   "cell_type": "code",
   "execution_count": 12,
   "id": "ec77f5c9-e46e-4afa-b9a4-1e9af9fba45d",
   "metadata": {},
   "outputs": [],
   "source": [
    "from hello_qiskit import run_puzzle"
   ]
  },
  {
   "cell_type": "code",
   "execution_count": 19,
   "id": "aa36ecda-9e14-4d7f-847a-0270bf63b030",
   "metadata": {},
   "outputs": [
    {
     "data": {
      "application/vnd.jupyter.widget-view+json": {
       "model_id": "7f3d0ef8ccda409091c84e17d444cf4a",
       "version_major": 2,
       "version_minor": 0
      },
      "text/plain": [
       "Image(value=b'\\x89PNG\\r\\n\\x1a\\n\\x00\\x00\\x00\\rIHDR\\x00\\x00\\x01\\xb0\\x00\\x00\\x01\\xb0\\x08\\x06\\x00\\x00\\x00\\xc8N0*\\x…"
      ]
     },
     "metadata": {},
     "output_type": "display_data"
    },
    {
     "data": {
      "application/vnd.jupyter.widget-view+json": {
       "model_id": "fb08eb333b8e4a0f9682bb013c45f678",
       "version_major": 2,
       "version_minor": 0
      },
      "text/plain": [
       "VBox(children=(ToggleButtons(options=('Choose gate', 'x'), value='Choose gate'), ToggleButtons(options=('',), …"
      ]
     },
     "metadata": {},
     "output_type": "display_data"
    }
   ],
   "source": [
    "puzzle = run_puzzle(0)"
   ]
  },
  {
   "cell_type": "markdown",
   "id": "9cd4ee2d-1aca-471a-b719-2b7975c4b4ce",
   "metadata": {},
   "source": [
    "Getting the textbook to run is weirdly hard... Going to just skip that"
   ]
  },
  {
   "cell_type": "markdown",
   "id": "617e2609-9a5c-4b14-917a-c35ac2b95f40",
   "metadata": {
    "jp-MarkdownHeadingCollapsed": true,
    "tags": []
   },
   "source": [
    "## Bell test for quantum variables"
   ]
  },
  {
   "cell_type": "markdown",
   "id": "d6dcb0dd-c5fc-4e86-bc2b-7d7b03ed151b",
   "metadata": {},
   "source": [
    "This explanation of the Bell test is actually a bit more confusing than the CHSH game from CMU.\n",
    "\n",
    "Suppose 2 bits have factors that contibute to their bit value; generated by a random process (e.g. randomly chosen space and time value). Basically if a classical bit's value can be determined by one of 2 rules (e.g. space and time), then if 2 bits are strongly correlated in space they must either be\n",
    "\n",
    "- Strongly correlated in time (if time and space aren't correlated)\n",
    "- One's space is strongly correlated with another's time (if this were not the case then it wouldn't be possible for their spaces to be correlated if their times are always different)"
   ]
  },
  {
   "cell_type": "code",
   "execution_count": 7,
   "id": "76715156-33f7-4b1a-a6ba-e3a722eef8c9",
   "metadata": {},
   "outputs": [],
   "source": [
    "from math import pi\n",
    "from qiskit.quantum_info import Statevector\n",
    "\n",
    "def initialize_program():\n",
    "    qubit = QuantumRegister(2)\n",
    "    A = qubit[0]\n",
    "    B = qubit[1]\n",
    "    \n",
    "    bit = ClassicalRegister(2)\n",
    "    a = bit[0]\n",
    "    b = bit[1]\n",
    "    \n",
    "    qc = QuantumCircuit(qubit, bit)\n",
    "    \n",
    "    return A, B, a, b, qc\n",
    "\n",
    "def hash2bit(variable, hash_type, bit, qc):\n",
    "    if hash_type == 'H': # we'll make x measurement. If not then don't rotate and measure in z.\n",
    "        qc.h(variable)\n",
    "    return qc.measure(variable, bit)"
   ]
  },
  {
   "cell_type": "markdown",
   "id": "6ab12e04-cc2b-4df9-9268-d36c62e45dd7",
   "metadata": {},
   "source": [
    "For qubits this is not true though. For example in the Bell State, the qubits are super correlated in the 0/1 property, but pretty weak in the +/- quantity. Similarly one's 0/1 is pretty randomly associated with another +/-"
   ]
  },
  {
   "cell_type": "code",
   "execution_count": 198,
   "id": "a96ded1a-1acd-4713-83aa-6f210ae354a1",
   "metadata": {},
   "outputs": [
    {
     "data": {
      "text/latex": [
       "$$\\frac{1}{2} |00\\rangle+\\frac{\\sqrt{2}}{2} |01\\rangle+\\frac{1}{2} |10\\rangle$$"
      ],
      "text/plain": [
       "<IPython.core.display.Latex object>"
      ]
     },
     "execution_count": 198,
     "metadata": {},
     "output_type": "execute_result"
    }
   ],
   "source": [
    "# Cool way to draw the quantum state\n",
    "# state = state.evolve(qc)\n",
    "# state.draw('latex')\n",
    "\n",
    "# It is actually a bit confusing to me how to get it in this kind of state. I'll have to think about it"
   ]
  },
  {
   "cell_type": "code",
   "execution_count": 208,
   "id": "e59ad12e-9b5b-4863-b0ce-dbc901ba7db8",
   "metadata": {
    "tags": []
   },
   "outputs": [],
   "source": [
    "# If the max measurement is greater than the sum of the other measurements, Bell's inequality is violated\n",
    "\n",
    "def bell_test(shots = 8192):\n",
    "    sim = AerSimulator()\n",
    "    P = {'HH':0, 'HV':0, 'VH':0, 'VV':0}\n",
    "    #keys = ['HH','HV','VH','VV']\n",
    "    for key in P.keys():\n",
    "    # first initialize bellstate\n",
    "        A, B, a, b, qc = initialize_program()\n",
    "    # This is one possible circuit that initializes a state that violates the test\n",
    "        qc.x(B)\n",
    "        qc.ry(pi/4,B)\n",
    "        qc.h(B)\n",
    "        qc.h(A)\n",
    "        qc.x(A)\n",
    "        qc.cz(A,B)\n",
    "        qc.ry(pi/4,B)\n",
    "        \n",
    "    # then run hash2bit\n",
    "        hash2bit(A, key[0], a, qc)\n",
    "        hash2bit(B, key[1], b, qc)\n",
    "\n",
    "    # Run simluator and get counts for 8192 iterations\n",
    "        counts = sim.run(qc, shots = shots).result().get_counts()\n",
    "        for res in counts.keys():\n",
    "            if res[0] != res[1]:\n",
    "                P[key] += counts[res]/shots\n",
    "    \n",
    "    return (2*max(P.values())) - sum(P.values()), P"
   ]
  },
  {
   "cell_type": "code",
   "execution_count": 209,
   "id": "2e0a50b0-704d-474c-a523-3e103356343d",
   "metadata": {},
   "outputs": [
    {
     "data": {
      "text/plain": [
       "(0.2012939453125,\n",
       " {'HH': 0.14501953125,\n",
       "  'HV': 0.1473388671875,\n",
       "  'VH': 0.74658203125,\n",
       "  'VV': 0.2529296875})"
      ]
     },
     "execution_count": 209,
     "metadata": {},
     "output_type": "execute_result"
    }
   ],
   "source": [
    "bell_test()"
   ]
  },
  {
   "cell_type": "markdown",
   "id": "69d192a4-3c5b-4a7a-a75e-f0be94e20ca2",
   "metadata": {},
   "source": [
    "Now let's dissect how the textbook did it"
   ]
  },
  {
   "cell_type": "code",
   "execution_count": 3,
   "id": "b78aa55c-ce84-4e12-a5e4-f2ca31aec116",
   "metadata": {},
   "outputs": [],
   "source": [
    "def setup_variables(qubit1, qubit2, qc):\n",
    "    \"\"\"initializes the state I want to run the bell test on\"\"\"\n",
    "    # This is one possible circuit that initializes a state that violates the test\n",
    "    qc.x(qubit2)\n",
    "    qc.ry(pi/4,qubit2)\n",
    "    qc.h(qubit2)\n",
    "    qc.h(qubit1)\n",
    "    qc.x(qubit1)\n",
    "    qc.cz(qubit1,qubit2)\n",
    "    qc.ry(pi/4,qubit2)\n",
    "    "
   ]
  },
  {
   "cell_type": "code",
   "execution_count": 51,
   "id": "6dac4bf6-b97d-41cf-8879-5481cb067c66",
   "metadata": {},
   "outputs": [],
   "source": [
    "# The \"assemble\" function is deprecated. Just use the transpile directly\n",
    "# transpile takes in a list of Quantum Circuits and a backend. It optimizes the circuit for the device used\n",
    "\n",
    "shots = 8192\n",
    "from qiskit import transpile\n",
    "\n",
    "def calculate_P(simulator):\n",
    "    P = {}\n",
    "    program = {}\n",
    "    for hashes in ['VV','VH','HH','HV']:\n",
    "        A, B, a, b, program[hashes] = initialize_program()\n",
    "        \n",
    "        setup_variables(A, B, program[hashes]) # I don't think I have access to this, but might be able to ignore\n",
    "        \n",
    "        hash2bit(A, hashes[0], a, program[hashes])\n",
    "        hash2bit(B, hashes[1], b, program[hashes])\n",
    "        \n",
    "    # submit jobs\n",
    "    t_qcs = transpile(list(program.values()), backend)\n",
    "    #qobj = assemble(t_qcs, shots = shots)\n",
    "    job = backend.run(t_qcs)\n",
    "    \n",
    "    # get results\n",
    "    for hashes in ['VV','VH','HH','HV']:\n",
    "        # Note that the same job object is used for all 4 different programs\n",
    "        stats = job.result().get_counts(program[hashes]) # I guess get_counts can take in a QC as an argument..? Maybeis the qobj had multiple QCs\n",
    "        \n",
    "        P[hashes] = 0\n",
    "        for string in stats.keys():\n",
    "            a = string[-1]\n",
    "            b = string[-2]\n",
    "            \n",
    "            if a != b:\n",
    "                P[hashes] += stats[string] / shots\n",
    "    return P"
   ]
  },
  {
   "cell_type": "code",
   "execution_count": 52,
   "id": "3e729136-75bc-4b50-82b3-0120b421649c",
   "metadata": {
    "tags": []
   },
   "outputs": [
    {
     "data": {
      "text/plain": [
       "{'VV': 0.0328369140625,\n",
       " 'VH': 0.0911865234375,\n",
       " 'HH': 0.0167236328125,\n",
       " 'HV': 0.018798828125}"
      ]
     },
     "execution_count": 52,
     "metadata": {},
     "output_type": "execute_result"
    }
   ],
   "source": [
    "backend = Aer.get_backend('aer_simulator')\n",
    "calculate_P(backend)"
   ]
  },
  {
   "cell_type": "markdown",
   "id": "6627983c-eb15-4943-ad02-b718fa2892f5",
   "metadata": {},
   "source": [
    "Play around a little with the \"job.results()\" object and see why get counts can take in a QC as an argument"
   ]
  },
  {
   "cell_type": "code",
   "execution_count": null,
   "id": "f8395bfc-8c8d-42f3-82fc-8b011aff4675",
   "metadata": {},
   "outputs": [],
   "source": [
    "P = {}\n",
    "program = {}\n",
    "for hashes in ['VV','VH','HH','HV']:\n",
    "    A, B, a, b, program[hashes] = initialize_program()\n",
    "\n",
    "    setup_variables(A, B, program[hashes]) # I don't think I have access to this, but might be able to ignore\n",
    "\n",
    "    hash2bit(A, hashes[0], a, program[hashes])\n",
    "    hash2bit(B, hashes[1], b, program[hashes])"
   ]
  },
  {
   "cell_type": "code",
   "execution_count": null,
   "id": "c7156ccd-f87f-4513-a4a1-4482e8b9bd8a",
   "metadata": {},
   "outputs": [],
   "source": [
    "t_qcs = transpile(list(program.values()), backend)\n",
    "#qobj = assemble(t_qcs, shots = 8192)\n",
    "job = backend.run(t_qcs)"
   ]
  },
  {
   "cell_type": "code",
   "execution_count": null,
   "id": "9ba2c645-ebf2-487b-b8f7-4b3d8d6d5796",
   "metadata": {
    "tags": []
   },
   "outputs": [],
   "source": [
    "stats = job.result().get_counts(program['VV'])"
   ]
  },
  {
   "cell_type": "markdown",
   "id": "ae24ac27-e60a-4bda-ad09-86976cd75e25",
   "metadata": {
    "tags": []
   },
   "source": [
    "## Grover's Search Algorithm"
   ]
  },
  {
   "cell_type": "markdown",
   "id": "69a5bf1b-18ac-4380-8003-c26285f1614a",
   "metadata": {},
   "source": [
    "Unorderd lists are hard to search. They are called unstructured."
   ]
  },
  {
   "cell_type": "markdown",
   "id": "9d0f41e9-cb24-4aaf-bda3-d43758a7ef9e",
   "metadata": {},
   "source": [
    "Supposedly, solving SAT is similar to searching"
   ]
  },
  {
   "cell_type": "markdown",
   "id": "491cffcf-2f24-4c99-9a0b-862fb9122ed4",
   "metadata": {
    "jp-MarkdownHeadingCollapsed": true,
    "tags": []
   },
   "source": [
    "### Guided"
   ]
  },
  {
   "cell_type": "code",
   "execution_count": 3,
   "id": "9efc43c4-3dc9-4993-9a80-d9bc0d306909",
   "metadata": {},
   "outputs": [
    {
     "name": "stdout",
     "output_type": "stream",
     "text": [
      "c example DIMACS-CNF 3-SAT\n",
      "p cnf 3 5\n",
      "-1 -2 -3 0\n",
      "1 -2 3 0\n",
      "1 2 -3 0\n",
      "1 -2 -3 0\n",
      "-1 2 3 0\n"
     ]
    }
   ],
   "source": [
    "# Example of a SAT problem\n",
    "\n",
    "with open('3sat.dimacs', 'r', encoding='utf8') as f:\n",
    "    dimacs = f.read()\n",
    "print(dimacs)"
   ]
  },
  {
   "cell_type": "markdown",
   "id": "377da852-5f7d-4d4e-b12b-6ca8cbc62541",
   "metadata": {},
   "source": [
    "The below code draws a circuit that evaluates whether a given assignment satisfies the boolean expression. The input is the assignment and the output is the either the same as the input (if False) or the input phase shifted by -1 (if True)."
   ]
  },
  {
   "cell_type": "code",
   "execution_count": 6,
   "id": "8d36cf7b-cb4c-4b34-9bab-4888022829c9",
   "metadata": {
    "collapsed": true,
    "jupyter": {
     "outputs_hidden": true
    },
    "tags": []
   },
   "outputs": [
    {
     "ename": "ModuleNotFoundError",
     "evalue": "No module named 'tweedledum'",
     "output_type": "error",
     "traceback": [
      "\u001b[0;31m---------------------------------------------------------------------------\u001b[0m",
      "\u001b[0;31mModuleNotFoundError\u001b[0m                       Traceback (most recent call last)",
      "Cell \u001b[0;32mIn[6], line 2\u001b[0m\n\u001b[1;32m      1\u001b[0m \u001b[38;5;28;01mfrom\u001b[39;00m \u001b[38;5;21;01mqiskit\u001b[39;00m\u001b[38;5;21;01m.\u001b[39;00m\u001b[38;5;21;01mcircuit\u001b[39;00m\u001b[38;5;21;01m.\u001b[39;00m\u001b[38;5;21;01mlibrary\u001b[39;00m \u001b[38;5;28;01mimport\u001b[39;00m PhaseOracle\n\u001b[0;32m----> 2\u001b[0m oracle \u001b[38;5;241m=\u001b[39m PhaseOracle\u001b[38;5;241m.\u001b[39mfrom_dimacs_file(\u001b[38;5;124m'\u001b[39m\u001b[38;5;124m3sat.dimacs\u001b[39m\u001b[38;5;124m'\u001b[39m)\n\u001b[1;32m      3\u001b[0m oracle\u001b[38;5;241m.\u001b[39mdraw()\n",
      "File \u001b[0;32m~/opt/anaconda3/envs/quantum/lib/python3.11/site-packages/qiskit/circuit/library/phase_oracle.py:152\u001b[0m, in \u001b[0;36mPhaseOracle.from_dimacs_file\u001b[0;34m(cls, filename)\u001b[0m\n\u001b[1;32m    107\u001b[0m \u001b[38;5;124mr\u001b[39m\u001b[38;5;124;03m\"\"\"Create a PhaseOracle from the string in the DIMACS format.\u001b[39;00m\n\u001b[1;32m    108\u001b[0m \n\u001b[1;32m    109\u001b[0m \u001b[38;5;124;03mIt is possible to build a PhaseOracle from a file in `DIMACS CNF format\u001b[39;00m\n\u001b[0;32m   (...)\u001b[0m\n\u001b[1;32m    148\u001b[0m \u001b[38;5;124;03m    PhaseOracle: A quantum circuit with a phase oracle.\u001b[39;00m\n\u001b[1;32m    149\u001b[0m \u001b[38;5;124;03m\"\"\"\u001b[39;00m\n\u001b[1;32m    150\u001b[0m \u001b[38;5;28;01mfrom\u001b[39;00m \u001b[38;5;21;01mqiskit\u001b[39;00m\u001b[38;5;21;01m.\u001b[39;00m\u001b[38;5;21;01mcircuit\u001b[39;00m\u001b[38;5;21;01m.\u001b[39;00m\u001b[38;5;21;01mclassicalfunction\u001b[39;00m\u001b[38;5;21;01m.\u001b[39;00m\u001b[38;5;21;01mboolean_expression\u001b[39;00m \u001b[38;5;28;01mimport\u001b[39;00m BooleanExpression\n\u001b[0;32m--> 152\u001b[0m expr \u001b[38;5;241m=\u001b[39m BooleanExpression\u001b[38;5;241m.\u001b[39mfrom_dimacs_file(filename)\n\u001b[1;32m    153\u001b[0m \u001b[38;5;28;01mreturn\u001b[39;00m \u001b[38;5;28mcls\u001b[39m(expr)\n",
      "File \u001b[0;32m~/opt/anaconda3/envs/quantum/lib/python3.11/site-packages/qiskit/circuit/classicalfunction/boolean_expression.py:114\u001b[0m, in \u001b[0;36mBooleanExpression.from_dimacs_file\u001b[0;34m(cls, filename)\u001b[0m\n\u001b[1;32m    101\u001b[0m \u001b[38;5;129m@classmethod\u001b[39m\n\u001b[1;32m    102\u001b[0m \u001b[38;5;28;01mdef\u001b[39;00m \u001b[38;5;21mfrom_dimacs_file\u001b[39m(\u001b[38;5;28mcls\u001b[39m, filename: \u001b[38;5;28mstr\u001b[39m):\n\u001b[1;32m    103\u001b[0m     \u001b[38;5;124;03m\"\"\"Create a BooleanExpression from the string in the DIMACS format.\u001b[39;00m\n\u001b[1;32m    104\u001b[0m \u001b[38;5;124;03m    Args:\u001b[39;00m\n\u001b[1;32m    105\u001b[0m \u001b[38;5;124;03m        filename: A file in DIMACS format.\u001b[39;00m\n\u001b[0;32m   (...)\u001b[0m\n\u001b[1;32m    111\u001b[0m \u001b[38;5;124;03m        FileNotFoundError: If filename is not found.\u001b[39;00m\n\u001b[1;32m    112\u001b[0m \u001b[38;5;124;03m    \"\"\"\u001b[39;00m\n\u001b[0;32m--> 114\u001b[0m     \u001b[38;5;28;01mfrom\u001b[39;00m \u001b[38;5;21;01mtweedledum\u001b[39;00m \u001b[38;5;28;01mimport\u001b[39;00m BoolFunction  \u001b[38;5;66;03m# pylint: disable=import-error\u001b[39;00m\n\u001b[1;32m    116\u001b[0m     expr_obj \u001b[38;5;241m=\u001b[39m \u001b[38;5;28mcls\u001b[39m\u001b[38;5;241m.\u001b[39m\u001b[38;5;21m__new__\u001b[39m(\u001b[38;5;28mcls\u001b[39m)\n\u001b[1;32m    117\u001b[0m     \u001b[38;5;28;01mif\u001b[39;00m \u001b[38;5;129;01mnot\u001b[39;00m isfile(filename):\n",
      "\u001b[0;31mModuleNotFoundError\u001b[0m: No module named 'tweedledum'"
     ]
    }
   ],
   "source": [
    "# Code doesn't work locally\n",
    "# from qiskit.circuit.library import PhaseOracle\n",
    "# oracle = PhaseOracle.from_dimacs_file('3sat.dimacs')\n",
    "# oracle.draw()"
   ]
  },
  {
   "cell_type": "code",
   "execution_count": 31,
   "id": "770fe915-3129-42df-8db6-b77656bbad70",
   "metadata": {},
   "outputs": [
    {
     "data": {
      "image/png": "[encoded data removed]",
      "text/plain": [
       "<Figure size 387.597x204.68 with 1 Axes>"
      ]
     },
     "execution_count": 31,
     "metadata": {},
     "output_type": "execute_result"
    }
   ],
   "source": [
    "from qiskit import QuantumCircuit\n",
    "# alternate way \n",
    "oracle = QuantumCircuit(3)\n",
    "oracle.toffoli(0, 2, 1)\n",
    "oracle.x(1)\n",
    "oracle.z(2)\n",
    "oracle.cx(0, 1)\n",
    "oracle.x(1)\n",
    "oracle.z(1)\n",
    "oracle.draw('mpl')"
   ]
  },
  {
   "cell_type": "markdown",
   "id": "348f64d4-fb2d-4385-87ca-e7853fcd5736",
   "metadata": {},
   "source": [
    "Grover's algorithm attempted to find all assignments such that the circuit shifts the phase (searching for assignment in SAT)."
   ]
  },
  {
   "cell_type": "markdown",
   "id": "be7f1da4-7132-4d39-bd66-15f6953af1c1",
   "metadata": {},
   "source": [
    "Main Idea (Rotate, compute, rotate):\n",
    "- Create uniform superposition\n",
    "- Run through Circuit (Oracle)\n",
    "- Run through diffuser which is the same for any oracle\n",
    "- Repeat step 2 and 3 a few times\n",
    "- Measure"
   ]
  },
  {
   "cell_type": "code",
   "execution_count": 19,
   "id": "d49cd1a4-35a4-41da-bd12-9653cbed240a",
   "metadata": {},
   "outputs": [
    {
     "data": {
      "image/png": "[encoded data removed]",
      "text/plain": [
       "<Figure size 146.797x204.68 with 1 Axes>"
      ]
     },
     "execution_count": 19,
     "metadata": {},
     "output_type": "execute_result"
    }
   ],
   "source": [
    "init = QuantumCircuit(3)\n",
    "init.h([0,1,2])\n",
    "init.draw('mpl')"
   ]
  },
  {
   "cell_type": "code",
   "execution_count": 20,
   "id": "a0b93b12-c6b2-4b12-b50c-1441e2f4edff",
   "metadata": {},
   "outputs": [],
   "source": [
    "# steps 2 and 3 of alg. It builds in the diffuser\n",
    "from qiskit.circuit.library import GroverOperator\n",
    "grover_operator = GroverOperator(oracle)"
   ]
  },
  {
   "cell_type": "code",
   "execution_count": 24,
   "id": "e2bac0bf-c8c4-4522-a202-752dcc0c7da0",
   "metadata": {},
   "outputs": [
    {
     "data": {
      "text/html": [
       "<pre style=\"word-wrap: normal;white-space: pre;background: #fff0;line-height: 1.1;font-family: &quot;Courier New&quot;,Courier,monospace\">        ┌───┐┌────┐ ░ ┌─┐      \n",
       "   q_0: ┤ H ├┤0   ├─░─┤M├──────\n",
       "        ├───┤│    │ ░ └╥┘┌─┐   \n",
       "   q_1: ┤ H ├┤1 Q ├─░──╫─┤M├───\n",
       "        ├───┤│    │ ░  ║ └╥┘┌─┐\n",
       "   q_2: ┤ H ├┤2   ├─░──╫──╫─┤M├\n",
       "        └───┘└────┘ ░  ║  ║ └╥┘\n",
       "meas: 3/═══════════════╩══╩══╩═\n",
       "                       0  1  2 </pre>"
      ],
      "text/plain": [
       "        ┌───┐┌────┐ ░ ┌─┐      \n",
       "   q_0: ┤ H ├┤0   ├─░─┤M├──────\n",
       "        ├───┤│    │ ░ └╥┘┌─┐   \n",
       "   q_1: ┤ H ├┤1 Q ├─░──╫─┤M├───\n",
       "        ├───┤│    │ ░  ║ └╥┘┌─┐\n",
       "   q_2: ┤ H ├┤2   ├─░──╫──╫─┤M├\n",
       "        └───┘└────┘ ░  ║  ║ └╥┘\n",
       "meas: 3/═══════════════╩══╩══╩═\n",
       "                       0  1  2 "
      ]
     },
     "execution_count": 24,
     "metadata": {},
     "output_type": "execute_result"
    }
   ],
   "source": [
    "qc = init.compose(grover_operator)\n",
    "qc.measure_all()\n",
    "qc.draw()"
   ]
  },
  {
   "cell_type": "code",
   "execution_count": 32,
   "id": "f73ee524-8ffb-4f48-8b07-6a512f23cd0a",
   "metadata": {},
   "outputs": [
    {
     "data": {
      "image/png": "[encoded data removed]",
      "text/plain": [
       "<Figure size 504x360 with 1 Axes>"
      ]
     },
     "execution_count": 32,
     "metadata": {},
     "output_type": "execute_result"
    }
   ],
   "source": [
    "# Simulate the circuit\n",
    "from qiskit import Aer, transpile\n",
    "sim = Aer.get_backend('aer_simulator')\n",
    "t_qc = transpile(qc, sim)\n",
    "counts = sim.run(t_qc).result().get_counts()\n",
    "\n",
    "# plot the results\n",
    "from qiskit.visualization import plot_histogram\n",
    "plot_histogram(counts)\n",
    "\n",
    "# This works, but you need to build the correct orcale"
   ]
  },
  {
   "cell_type": "markdown",
   "id": "b5e4ab7c-e1b0-424a-aa89-c4e224de8f2e",
   "metadata": {
    "jp-MarkdownHeadingCollapsed": true,
    "tags": []
   },
   "source": [
    "### Solo "
   ]
  },
  {
   "cell_type": "code",
   "execution_count": 33,
   "id": "ad5886bb-5581-4d20-97fe-bf95131d1d57",
   "metadata": {},
   "outputs": [
    {
     "data": {
      "image/png": "[encoded data removed]",
      "text/plain": [
       "<Figure size 146.652x144.48 with 1 Axes>"
      ]
     },
     "execution_count": 33,
     "metadata": {},
     "output_type": "execute_result"
    }
   ],
   "source": [
    "oracle = QuantumCircuit(2)\n",
    "oracle.cz(0, 1)\n",
    "oracle.draw('mpl')"
   ]
  },
  {
   "cell_type": "code",
   "execution_count": 22,
   "id": "a8e830a6-1646-4f97-be8f-cb6560840622",
   "metadata": {},
   "outputs": [],
   "source": [
    "# Shows matrix representation of a given circuit\n",
    "def display_unitary(qc, prefix=\"\"):\n",
    "    \"\"\"Simulates a simple circuit and display its matrix representation.\n",
    "    Args:\n",
    "        qc (QuantumCircuit): The circuit to compile to a unitary matrix\n",
    "        prefix (str): Optional LaTeX to be displayed before the matrix\n",
    "    Returns:\n",
    "        None (displays matrix as side effect)\n",
    "    \"\"\"\n",
    "    from qiskit import Aer\n",
    "    from qiskit.visualization import array_to_latex\n",
    "    sim = Aer.get_backend('aer_simulator')\n",
    "    # Next, we'll create a copy of the circuit and work on\n",
    "    # that so we don't change anything as a side effect\n",
    "    qc = qc.copy()\n",
    "    # Tell the simulator to save the unitary matrix of this circuit\n",
    "    qc.save_unitary()\n",
    "    unitary = sim.run(qc).result().get_unitary()\n",
    "    display(array_to_latex(unitary, prefix=prefix))"
   ]
  },
  {
   "cell_type": "code",
   "execution_count": null,
   "id": "fb9321f6-b93c-4e1c-9dc6-fb8f782db80a",
   "metadata": {},
   "outputs": [],
   "source": [
    "display_unitary(oracle, \"U_\\\\text{oracle}=\")"
   ]
  },
  {
   "cell_type": "code",
   "execution_count": 23,
   "id": "6372b140-32f3-425f-85aa-771caf171d2e",
   "metadata": {},
   "outputs": [
    {
     "data": {
      "text/plain": [
       "<qiskit.circuit.instructionset.InstructionSet at 0x158ce37f0>"
      ]
     },
     "execution_count": 23,
     "metadata": {},
     "output_type": "execute_result"
    }
   ],
   "source": [
    "# Exercise -- Create a circuit that flips the 00 state instead of 11\n",
    "oracle_00 = QuantumCircuit(2)\n",
    "oracle_00.x([0,1])\n",
    "oracle_00.cz(0,1)\n",
    "oracle_00.x([0,1])"
   ]
  },
  {
   "cell_type": "code",
   "execution_count": 25,
   "id": "6bad3033-3e6b-4c54-9419-e5f65a26a406",
   "metadata": {},
   "outputs": [
    {
     "data": {
      "image/png": "[encoded data removed]",
      "text/plain": [
       "<Figure size 267.052x144.48 with 1 Axes>"
      ]
     },
     "execution_count": 25,
     "metadata": {},
     "output_type": "execute_result"
    }
   ],
   "source": [
    "oracle_00.draw('mpl')"
   ]
  },
  {
   "cell_type": "code",
   "execution_count": 24,
   "id": "dd5e179d-7b40-4441-8910-b7ac9420c29e",
   "metadata": {},
   "outputs": [
    {
     "data": {
      "text/latex": [
       "$$\n",
       "\n",
       "\\begin{bmatrix}\n",
       "-1 & 0 & 0 & 0  \\\\\n",
       " 0 & 1 & 0 & 0  \\\\\n",
       " 0 & 0 & 1 & 0  \\\\\n",
       " 0 & 0 & 0 & 1  \\\\\n",
       " \\end{bmatrix}\n",
       "$$"
      ],
      "text/plain": [
       "<IPython.core.display.Latex object>"
      ]
     },
     "metadata": {},
     "output_type": "display_data"
    }
   ],
   "source": [
    "display_unitary(oracle_00)"
   ]
  },
  {
   "cell_type": "markdown",
   "id": "f97aeb3f-1218-465f-a607-0330f4c7a5d7",
   "metadata": {},
   "source": [
    "The cz gate essentially reflects around the 11 state (makes this coordinate negative). The goal is to instead reflect across the 's' state (uniform superposition). To do this, simply transform s into 11, use cz to reflect, then transform back from 11 to s. It seems a little weird, but it works because the cz gate only affects the 11 state and leaves all other states the same, so except for the s state, nothing would get flipped (so transform --> reverse ends up just being the trivial circuit)."
   ]
  },
  {
   "cell_type": "code",
   "execution_count": 46,
   "id": "1f71ac0e-8bbc-480e-af05-3247ba55827c",
   "metadata": {},
   "outputs": [
    {
     "data": {
      "image/png": "[encoded data removed]",
      "text/plain": [
       "<Figure size 387.452x144.48 with 1 Axes>"
      ]
     },
     "execution_count": 46,
     "metadata": {},
     "output_type": "execute_result"
    }
   ],
   "source": [
    "diffuser = QuantumCircuit(2)\n",
    "diffuser.h([0,1])\n",
    "diffuser.x([0,1])\n",
    "diffuser.cz(0,1)\n",
    "diffuser.x([0,1])\n",
    "diffuser.h([0,1])\n",
    "diffuser.draw('mpl')"
   ]
  },
  {
   "cell_type": "code",
   "execution_count": 47,
   "id": "09218c7b-f0b0-4510-a875-d4a621ef0d06",
   "metadata": {},
   "outputs": [
    {
     "data": {
      "image/png": "[encoded data removed]",
      "text/plain": [
       "<Figure size 718.879x204.68 with 1 Axes>"
      ]
     },
     "execution_count": 47,
     "metadata": {},
     "output_type": "execute_result"
    }
   ],
   "source": [
    "grover = QuantumCircuit(2)\n",
    "grover.h([0,1])\n",
    "grover = grover.compose(oracle)\n",
    "grover = grover.compose(diffuser)\n",
    "grover.measure_all()\n",
    "grover.draw('mpl')"
   ]
  },
  {
   "cell_type": "code",
   "execution_count": 48,
   "id": "54545792-9bf0-4c1c-84aa-02b159960451",
   "metadata": {},
   "outputs": [
    {
     "data": {
      "text/plain": [
       "{'11': 1024}"
      ]
     },
     "execution_count": 48,
     "metadata": {},
     "output_type": "execute_result"
    }
   ],
   "source": [
    "from qiskit import Aer\n",
    "sim = Aer.get_backend('aer_simulator')\n",
    "sim.run(grover).result().get_counts()"
   ]
  },
  {
   "cell_type": "markdown",
   "id": "0905a12a-5d21-4a3d-9cb7-540a57109a22",
   "metadata": {
    "tags": []
   },
   "source": [
    "## Project"
   ]
  },
  {
   "cell_type": "markdown",
   "id": "a7623b42-66c7-4a3b-ae53-9a0a3fb408d7",
   "metadata": {},
   "source": [
    "Create a function that takes a binary string and creates the oracle for that string (inverting that string and no other)"
   ]
  },
  {
   "cell_type": "code",
   "execution_count": null,
   "id": "71277131-cebb-49f8-9e7c-8a43d8473439",
   "metadata": {},
   "outputs": [],
   "source": [
    "def create_oracle(binary_string):\n",
    "    # TODO"
   ]
  },
  {
   "cell_type": "code",
   "execution_count": 19,
   "id": "b476d54f-520e-4875-b35f-4ab60a0a07c8",
   "metadata": {},
   "outputs": [
    {
     "data": {
      "text/plain": [
       "<qiskit.circuit.instructionset.InstructionSet at 0x158ce0d90>"
      ]
     },
     "execution_count": 19,
     "metadata": {},
     "output_type": "execute_result"
    }
   ],
   "source": [
    "oracle_111 = QuantumCircuit(5)\n",
    "oracle_111.x(4)\n",
    "oracle_111.cswap(0,1,3)\n",
    "oracle_111.cz(2,3)\n",
    "oracle_111.cswap(1,3,4)\n",
    "oracle_111.swap(1,2)\n",
    "#oracle_111.measure_all()"
   ]
  },
  {
   "cell_type": "code",
   "execution_count": 20,
   "id": "408a3d07-b1db-47ae-a055-0aeba983ce29",
   "metadata": {},
   "outputs": [
    {
     "data": {
      "image/png": "[encoded data removed]",
      "text/plain": [
       "<Figure size 327.397x325.08 with 1 Axes>"
      ]
     },
     "execution_count": 20,
     "metadata": {},
     "output_type": "execute_result"
    }
   ],
   "source": [
    "oracle_111.draw('mpl')"
   ]
  },
  {
   "cell_type": "code",
   "execution_count": 26,
   "id": "d8451f76-58e3-4d07-9de1-3f03f7fc62a6",
   "metadata": {},
   "outputs": [
    {
     "data": {
      "text/latex": [
       "$$\n",
       "\n",
       "\\begin{bmatrix}\n",
       "0 & 0 & 0 & 0 & \\cdots & 0 & 0 & 0  \\\\\n",
       " 0 & 0 & 0 & 0 & \\cdots & 0 & 0 & 0  \\\\\n",
       " 0 & 0 & 0 & 0 & \\cdots & 0 & 0 & 0  \\\\\n",
       " 0 & 0 & 0 & 0 & \\cdots & 0 & 0 & 0  \\\\\n",
       " \\vdots & \\vdots & \\vdots & \\vdots & \\ddots & \\vdots & \\vdots & \\vdots \\\\\n",
       " 0 & 0 & 0 & 0 & \\cdots & 0 & 0 & 0  \\\\\n",
       " 0 & 0 & 0 & 0 & \\cdots & 0 & 0 & 0  \\\\\n",
       " 0 & 0 & 0 & 0 & \\cdots & 0 & 0 & 0  \\\\\n",
       " \\end{bmatrix}\n",
       "$$"
      ],
      "text/plain": [
       "<IPython.core.display.Latex object>"
      ]
     },
     "metadata": {},
     "output_type": "display_data"
    },
    {
     "data": {
      "text/plain": [
       "NoneType"
      ]
     },
     "execution_count": 26,
     "metadata": {},
     "output_type": "execute_result"
    }
   ],
   "source": [
    "display_unitary(oracle_111)"
   ]
  },
  {
   "cell_type": "code",
   "execution_count": 28,
   "id": "a728d3bf-3c99-413a-84db-bbc4df3967e3",
   "metadata": {},
   "outputs": [],
   "source": [
    "from qiskit import Aer\n",
    "from qiskit.visualization import array_to_latex\n",
    "sim = Aer.get_backend('aer_simulator')\n",
    "# Next, we'll create a copy of the circuit and work on\n",
    "# that so we don't change anything as a side effect\n",
    "oracle = oracle_111.copy()\n",
    "# Tell the simulator to save the unitary matrix of this circuit\n",
    "oracle.save_unitary()\n",
    "oracle = sim.run(oracle).result().get_unitary()\n",
    "\n",
    "#display(array_to_latex(unitary, prefix=prefix))"
   ]
  },
  {
   "cell_type": "code",
   "execution_count": 40,
   "id": "ca4dad30-ce5f-4580-a8f2-83b693e504d3",
   "metadata": {},
   "outputs": [
    {
     "name": "stderr",
     "output_type": "stream",
     "text": [
      "/var/folders/06/kt3wlz1x285bzg98r_byq_480000gn/T/ipykernel_35028/2611161609.py:1: DeprecationWarning: The return type of saved unitaries has been changed from a `numpy.ndarray` to a `qiskit.quantum_info.Operator` as of qiskit-aer 0.10. Accessing numpy array attributes is deprecated and will result in an error in a future release. To continue using saved result objects as arrays you can explicitly cast them using  `np.asarray(object)`.\n",
      "  oracle[25]\n"
     ]
    },
    {
     "data": {
      "text/plain": [
       "array([0.+0.j, 0.+0.j, 0.+0.j, 1.+0.j, 0.+0.j, 0.+0.j, 0.+0.j, 0.+0.j,\n",
       "       0.+0.j, 0.+0.j, 0.+0.j, 0.+0.j, 0.+0.j, 0.+0.j, 0.+0.j, 0.+0.j,\n",
       "       0.+0.j, 0.+0.j, 0.+0.j, 0.+0.j, 0.+0.j, 0.+0.j, 0.+0.j, 0.+0.j,\n",
       "       0.+0.j, 0.+0.j, 0.+0.j, 0.+0.j, 0.+0.j, 0.+0.j, 0.+0.j, 0.+0.j])"
      ]
     },
     "execution_count": 40,
     "metadata": {},
     "output_type": "execute_result"
    }
   ],
   "source": [
    "oracle[25]"
   ]
  },
  {
   "cell_type": "code",
   "execution_count": 42,
   "id": "f2314281-5790-46fb-b6a3-677471e68c1a",
   "metadata": {},
   "outputs": [
    {
     "name": "stdout",
     "output_type": "stream",
     "text": [
      "[0.+0.j 0.+0.j 0.+0.j 0.+0.j 0.+0.j 0.+0.j 0.+0.j 0.+0.j 0.+0.j 0.+0.j\n",
      " 0.+0.j 0.+0.j 0.+0.j 0.+0.j 0.+0.j 0.+0.j 1.+0.j 0.+0.j 0.+0.j 0.+0.j\n",
      " 0.+0.j 0.+0.j 0.+0.j 0.+0.j 0.+0.j 0.+0.j 0.+0.j 0.+0.j 0.+0.j 0.+0.j\n",
      " 0.+0.j 0.+0.j]\n",
      "[0.+0.j 0.+0.j 0.+0.j 0.+0.j 0.+0.j 0.+0.j 0.+0.j 0.+0.j 0.+0.j 0.+0.j\n",
      " 0.+0.j 0.+0.j 0.+0.j 0.+0.j 0.+0.j 0.+0.j 0.+0.j 1.+0.j 0.+0.j 0.+0.j\n",
      " 0.+0.j 0.+0.j 0.+0.j 0.+0.j 0.+0.j 0.+0.j 0.+0.j 0.+0.j 0.+0.j 0.+0.j\n",
      " 0.+0.j 0.+0.j]\n",
      "[0.+0.j 0.+0.j 0.+0.j 0.+0.j 0.+0.j 0.+0.j 0.+0.j 0.+0.j 0.+0.j 0.+0.j\n",
      " 0.+0.j 0.+0.j 0.+0.j 0.+0.j 0.+0.j 0.+0.j 0.+0.j 0.+0.j 0.+0.j 0.+0.j\n",
      " 1.+0.j 0.+0.j 0.+0.j 0.+0.j 0.+0.j 0.+0.j 0.+0.j 0.+0.j 0.+0.j 0.+0.j\n",
      " 0.+0.j 0.+0.j]\n",
      "[0.+0.j 0.+0.j 0.+0.j 0.+0.j 0.+0.j 0.+0.j 0.+0.j 0.+0.j 0.+0.j 0.+0.j\n",
      " 0.+0.j 0.+0.j 0.+0.j 0.+0.j 0.+0.j 0.+0.j 0.+0.j 0.+0.j 0.+0.j 0.+0.j\n",
      " 0.+0.j 1.+0.j 0.+0.j 0.+0.j 0.+0.j 0.+0.j 0.+0.j 0.+0.j 0.+0.j 0.+0.j\n",
      " 0.+0.j 0.+0.j]\n",
      "[0.+0.j 0.+0.j 0.+0.j 0.+0.j 0.+0.j 0.+0.j 0.+0.j 0.+0.j 0.+0.j 0.+0.j\n",
      " 0.+0.j 0.+0.j 0.+0.j 0.+0.j 0.+0.j 0.+0.j 0.+0.j 0.+0.j 1.+0.j 0.+0.j\n",
      " 0.+0.j 0.+0.j 0.+0.j 0.+0.j 0.+0.j 0.+0.j 0.+0.j 0.+0.j 0.+0.j 0.+0.j\n",
      " 0.+0.j 0.+0.j]\n",
      "[0.+0.j 0.+0.j 0.+0.j 0.+0.j 0.+0.j 0.+0.j 0.+0.j 0.+0.j 0.+0.j 0.+0.j\n",
      " 0.+0.j 0.+0.j 0.+0.j 0.+0.j 0.+0.j 0.+0.j 0.+0.j 0.+0.j 0.+0.j 0.+0.j\n",
      " 0.+0.j 0.+0.j 0.+0.j 0.+0.j 0.+0.j 1.+0.j 0.+0.j 0.+0.j 0.+0.j 0.+0.j\n",
      " 0.+0.j 0.+0.j]\n",
      "[0.+0.j 0.+0.j 0.+0.j 0.+0.j 0.+0.j 0.+0.j 0.+0.j 0.+0.j 0.+0.j 0.+0.j\n",
      " 0.+0.j 0.+0.j 0.+0.j 0.+0.j 0.+0.j 0.+0.j 0.+0.j 0.+0.j 0.+0.j 0.+0.j\n",
      " 0.+0.j 0.+0.j 1.+0.j 0.+0.j 0.+0.j 0.+0.j 0.+0.j 0.+0.j 0.+0.j 0.+0.j\n",
      " 0.+0.j 0.+0.j]\n",
      "[0.+0.j 0.+0.j 0.+0.j 0.+0.j 0.+0.j 0.+0.j 0.+0.j 0.+0.j 0.+0.j 0.+0.j\n",
      " 0.+0.j 0.+0.j 0.+0.j 0.+0.j 0.+0.j 0.+0.j 0.+0.j 0.+0.j 0.+0.j 0.+0.j\n",
      " 0.+0.j 0.+0.j 0.+0.j 0.+0.j 0.+0.j 0.+0.j 0.+0.j 0.+0.j 0.+0.j 1.+0.j\n",
      " 0.+0.j 0.+0.j]\n",
      "[0.+0.j 0.+0.j 0.+0.j 0.+0.j 0.+0.j 0.+0.j 0.+0.j 0.+0.j 0.+0.j 0.+0.j\n",
      " 0.+0.j 0.+0.j 0.+0.j 0.+0.j 0.+0.j 0.+0.j 0.+0.j 0.+0.j 0.+0.j 0.+0.j\n",
      " 0.+0.j 0.+0.j 0.+0.j 0.+0.j 1.+0.j 0.+0.j 0.+0.j 0.+0.j 0.+0.j 0.+0.j\n",
      " 0.+0.j 0.+0.j]\n",
      "[0.+0.j 0.+0.j 0.+0.j 0.+0.j 0.+0.j 0.+0.j 0.+0.j 0.+0.j 0.+0.j 0.+0.j\n",
      " 0.+0.j 0.+0.j 0.+0.j 0.+0.j 0.+0.j 0.+0.j 0.+0.j 0.+0.j 0.+0.j 1.+0.j\n",
      " 0.+0.j 0.+0.j 0.+0.j 0.+0.j 0.+0.j 0.+0.j 0.+0.j 0.+0.j 0.+0.j 0.+0.j\n",
      " 0.+0.j 0.+0.j]\n",
      "[-0.+0.j -0.+0.j -0.+0.j -0.+0.j -0.+0.j -0.+0.j -0.+0.j -0.+0.j -0.+0.j\n",
      " -0.+0.j -0.+0.j -0.+0.j -0.+0.j -0.+0.j -0.+0.j -0.+0.j -0.+0.j -0.+0.j\n",
      " -0.+0.j -0.+0.j -0.+0.j -0.+0.j -0.+0.j -0.+0.j -0.+0.j -0.+0.j -0.+0.j\n",
      " -0.+0.j -1.+0.j -0.+0.j -0.+0.j -0.+0.j]\n",
      "[-0.+0.j -0.+0.j -0.+0.j -0.+0.j -0.+0.j -0.+0.j -0.+0.j -0.+0.j -0.+0.j\n",
      " -0.+0.j -0.+0.j -0.+0.j -0.+0.j -0.+0.j -0.+0.j -0.+0.j -0.+0.j -0.+0.j\n",
      " -0.+0.j -0.+0.j -0.+0.j -0.+0.j -0.+0.j -1.+0.j -0.+0.j -0.+0.j -0.+0.j\n",
      " -0.+0.j -0.+0.j -0.+0.j -0.+0.j -0.+0.j]\n",
      "[0.+0.j 0.+0.j 1.+0.j 0.+0.j 0.+0.j 0.+0.j 0.+0.j 0.+0.j 0.+0.j 0.+0.j\n",
      " 0.+0.j 0.+0.j 0.+0.j 0.+0.j 0.+0.j 0.+0.j 0.+0.j 0.+0.j 0.+0.j 0.+0.j\n",
      " 0.+0.j 0.+0.j 0.+0.j 0.+0.j 0.+0.j 0.+0.j 0.+0.j 0.+0.j 0.+0.j 0.+0.j\n",
      " 0.+0.j 0.+0.j]\n",
      "[0.+0.j 0.+0.j 0.+0.j 0.+0.j 0.+0.j 0.+0.j 0.+0.j 0.+0.j 0.+0.j 1.+0.j\n",
      " 0.+0.j 0.+0.j 0.+0.j 0.+0.j 0.+0.j 0.+0.j 0.+0.j 0.+0.j 0.+0.j 0.+0.j\n",
      " 0.+0.j 0.+0.j 0.+0.j 0.+0.j 0.+0.j 0.+0.j 0.+0.j 0.+0.j 0.+0.j 0.+0.j\n",
      " 0.+0.j 0.+0.j]\n",
      "[0.+0.j 0.+0.j 0.+0.j 0.+0.j 0.+0.j 0.+0.j 1.+0.j 0.+0.j 0.+0.j 0.+0.j\n",
      " 0.+0.j 0.+0.j 0.+0.j 0.+0.j 0.+0.j 0.+0.j 0.+0.j 0.+0.j 0.+0.j 0.+0.j\n",
      " 0.+0.j 0.+0.j 0.+0.j 0.+0.j 0.+0.j 0.+0.j 0.+0.j 0.+0.j 0.+0.j 0.+0.j\n",
      " 0.+0.j 0.+0.j]\n",
      "[0.+0.j 0.+0.j 0.+0.j 0.+0.j 0.+0.j 0.+0.j 0.+0.j 0.+0.j 0.+0.j 0.+0.j\n",
      " 0.+0.j 0.+0.j 0.+0.j 1.+0.j 0.+0.j 0.+0.j 0.+0.j 0.+0.j 0.+0.j 0.+0.j\n",
      " 0.+0.j 0.+0.j 0.+0.j 0.+0.j 0.+0.j 0.+0.j 0.+0.j 0.+0.j 0.+0.j 0.+0.j\n",
      " 0.+0.j 0.+0.j]\n",
      "[1.+0.j 0.+0.j 0.+0.j 0.+0.j 0.+0.j 0.+0.j 0.+0.j 0.+0.j 0.+0.j 0.+0.j\n",
      " 0.+0.j 0.+0.j 0.+0.j 0.+0.j 0.+0.j 0.+0.j 0.+0.j 0.+0.j 0.+0.j 0.+0.j\n",
      " 0.+0.j 0.+0.j 0.+0.j 0.+0.j 0.+0.j 0.+0.j 0.+0.j 0.+0.j 0.+0.j 0.+0.j\n",
      " 0.+0.j 0.+0.j]\n",
      "[0.+0.j 1.+0.j 0.+0.j 0.+0.j 0.+0.j 0.+0.j 0.+0.j 0.+0.j 0.+0.j 0.+0.j\n",
      " 0.+0.j 0.+0.j 0.+0.j 0.+0.j 0.+0.j 0.+0.j 0.+0.j 0.+0.j 0.+0.j 0.+0.j\n",
      " 0.+0.j 0.+0.j 0.+0.j 0.+0.j 0.+0.j 0.+0.j 0.+0.j 0.+0.j 0.+0.j 0.+0.j\n",
      " 0.+0.j 0.+0.j]\n",
      "[0.+0.j 0.+0.j 0.+0.j 0.+0.j 1.+0.j 0.+0.j 0.+0.j 0.+0.j 0.+0.j 0.+0.j\n",
      " 0.+0.j 0.+0.j 0.+0.j 0.+0.j 0.+0.j 0.+0.j 0.+0.j 0.+0.j 0.+0.j 0.+0.j\n",
      " 0.+0.j 0.+0.j 0.+0.j 0.+0.j 0.+0.j 0.+0.j 0.+0.j 0.+0.j 0.+0.j 0.+0.j\n",
      " 0.+0.j 0.+0.j]\n",
      "[0.+0.j 0.+0.j 0.+0.j 0.+0.j 0.+0.j 1.+0.j 0.+0.j 0.+0.j 0.+0.j 0.+0.j\n",
      " 0.+0.j 0.+0.j 0.+0.j 0.+0.j 0.+0.j 0.+0.j 0.+0.j 0.+0.j 0.+0.j 0.+0.j\n",
      " 0.+0.j 0.+0.j 0.+0.j 0.+0.j 0.+0.j 0.+0.j 0.+0.j 0.+0.j 0.+0.j 0.+0.j\n",
      " 0.+0.j 0.+0.j]\n",
      "[0.+0.j 0.+0.j 0.+0.j 0.+0.j 0.+0.j 0.+0.j 0.+0.j 0.+0.j 0.+0.j 0.+0.j\n",
      " 0.+0.j 0.+0.j 0.+0.j 0.+0.j 0.+0.j 0.+0.j 0.+0.j 0.+0.j 0.+0.j 0.+0.j\n",
      " 0.+0.j 0.+0.j 0.+0.j 0.+0.j 0.+0.j 0.+0.j 1.+0.j 0.+0.j 0.+0.j 0.+0.j\n",
      " 0.+0.j 0.+0.j]\n",
      "[0.+0.j 0.+0.j 0.+0.j 0.+0.j 0.+0.j 0.+0.j 0.+0.j 0.+0.j 0.+0.j 0.+0.j\n",
      " 0.+0.j 0.+0.j 0.+0.j 0.+0.j 0.+0.j 0.+0.j 0.+0.j 0.+0.j 0.+0.j 0.+0.j\n",
      " 0.+0.j 0.+0.j 0.+0.j 0.+0.j 0.+0.j 0.+0.j 0.+0.j 1.+0.j 0.+0.j 0.+0.j\n",
      " 0.+0.j 0.+0.j]\n",
      "[-0.+0.j -0.+0.j -0.+0.j -0.+0.j -0.+0.j -0.+0.j -0.+0.j -0.+0.j -0.+0.j\n",
      " -0.+0.j -0.+0.j -0.+0.j -0.+0.j -0.+0.j -0.+0.j -0.+0.j -0.+0.j -0.+0.j\n",
      " -0.+0.j -0.+0.j -0.+0.j -0.+0.j -0.+0.j -0.+0.j -0.+0.j -0.+0.j -0.+0.j\n",
      " -0.+0.j -0.+0.j -0.+0.j -1.+0.j -0.+0.j]\n",
      "[-0.+0.j -0.+0.j -0.+0.j -0.+0.j -0.+0.j -0.+0.j -0.+0.j -0.+0.j -0.+0.j\n",
      " -0.+0.j -0.+0.j -0.+0.j -0.+0.j -0.+0.j -0.+0.j -0.+0.j -0.+0.j -0.+0.j\n",
      " -0.+0.j -0.+0.j -0.+0.j -0.+0.j -0.+0.j -0.+0.j -0.+0.j -0.+0.j -0.+0.j\n",
      " -0.+0.j -0.+0.j -0.+0.j -0.+0.j -1.+0.j]\n",
      "[0.+0.j 0.+0.j 0.+0.j 0.+0.j 0.+0.j 0.+0.j 0.+0.j 0.+0.j 1.+0.j 0.+0.j\n",
      " 0.+0.j 0.+0.j 0.+0.j 0.+0.j 0.+0.j 0.+0.j 0.+0.j 0.+0.j 0.+0.j 0.+0.j\n",
      " 0.+0.j 0.+0.j 0.+0.j 0.+0.j 0.+0.j 0.+0.j 0.+0.j 0.+0.j 0.+0.j 0.+0.j\n",
      " 0.+0.j 0.+0.j]\n",
      "[0.+0.j 0.+0.j 0.+0.j 1.+0.j 0.+0.j 0.+0.j 0.+0.j 0.+0.j 0.+0.j 0.+0.j\n",
      " 0.+0.j 0.+0.j 0.+0.j 0.+0.j 0.+0.j 0.+0.j 0.+0.j 0.+0.j 0.+0.j 0.+0.j\n",
      " 0.+0.j 0.+0.j 0.+0.j 0.+0.j 0.+0.j 0.+0.j 0.+0.j 0.+0.j 0.+0.j 0.+0.j\n",
      " 0.+0.j 0.+0.j]\n",
      "[-0.+0.j -0.+0.j -0.+0.j -0.+0.j -0.+0.j -0.+0.j -0.+0.j -0.+0.j -0.+0.j\n",
      " -0.+0.j -0.+0.j -0.+0.j -1.+0.j -0.+0.j -0.+0.j -0.+0.j -0.+0.j -0.+0.j\n",
      " -0.+0.j -0.+0.j -0.+0.j -0.+0.j -0.+0.j -0.+0.j -0.+0.j -0.+0.j -0.+0.j\n",
      " -0.+0.j -0.+0.j -0.+0.j -0.+0.j -0.+0.j]\n",
      "[-0.+0.j -0.+0.j -0.+0.j -0.+0.j -0.+0.j -0.+0.j -0.+0.j -1.+0.j -0.+0.j\n",
      " -0.+0.j -0.+0.j -0.+0.j -0.+0.j -0.+0.j -0.+0.j -0.+0.j -0.+0.j -0.+0.j\n",
      " -0.+0.j -0.+0.j -0.+0.j -0.+0.j -0.+0.j -0.+0.j -0.+0.j -0.+0.j -0.+0.j\n",
      " -0.+0.j -0.+0.j -0.+0.j -0.+0.j -0.+0.j]\n",
      "[0.+0.j 0.+0.j 0.+0.j 0.+0.j 0.+0.j 0.+0.j 0.+0.j 0.+0.j 0.+0.j 0.+0.j\n",
      " 1.+0.j 0.+0.j 0.+0.j 0.+0.j 0.+0.j 0.+0.j 0.+0.j 0.+0.j 0.+0.j 0.+0.j\n",
      " 0.+0.j 0.+0.j 0.+0.j 0.+0.j 0.+0.j 0.+0.j 0.+0.j 0.+0.j 0.+0.j 0.+0.j\n",
      " 0.+0.j 0.+0.j]\n",
      "[0.+0.j 0.+0.j 0.+0.j 0.+0.j 0.+0.j 0.+0.j 0.+0.j 0.+0.j 0.+0.j 0.+0.j\n",
      " 0.+0.j 1.+0.j 0.+0.j 0.+0.j 0.+0.j 0.+0.j 0.+0.j 0.+0.j 0.+0.j 0.+0.j\n",
      " 0.+0.j 0.+0.j 0.+0.j 0.+0.j 0.+0.j 0.+0.j 0.+0.j 0.+0.j 0.+0.j 0.+0.j\n",
      " 0.+0.j 0.+0.j]\n",
      "[-0.+0.j -0.+0.j -0.+0.j -0.+0.j -0.+0.j -0.+0.j -0.+0.j -0.+0.j -0.+0.j\n",
      " -0.+0.j -0.+0.j -0.+0.j -0.+0.j -0.+0.j -1.+0.j -0.+0.j -0.+0.j -0.+0.j\n",
      " -0.+0.j -0.+0.j -0.+0.j -0.+0.j -0.+0.j -0.+0.j -0.+0.j -0.+0.j -0.+0.j\n",
      " -0.+0.j -0.+0.j -0.+0.j -0.+0.j -0.+0.j]\n",
      "[-0.+0.j -0.+0.j -0.+0.j -0.+0.j -0.+0.j -0.+0.j -0.+0.j -0.+0.j -0.+0.j\n",
      " -0.+0.j -0.+0.j -0.+0.j -0.+0.j -0.+0.j -0.+0.j -1.+0.j -0.+0.j -0.+0.j\n",
      " -0.+0.j -0.+0.j -0.+0.j -0.+0.j -0.+0.j -0.+0.j -0.+0.j -0.+0.j -0.+0.j\n",
      " -0.+0.j -0.+0.j -0.+0.j -0.+0.j -0.+0.j]\n"
     ]
    },
    {
     "name": "stderr",
     "output_type": "stream",
     "text": [
      "/var/folders/06/kt3wlz1x285bzg98r_byq_480000gn/T/ipykernel_35028/2564620548.py:1: DeprecationWarning: The return type of saved unitaries has been changed from a `numpy.ndarray` to a `qiskit.quantum_info.Operator` as of qiskit-aer 0.10. Accessing numpy array attributes is deprecated and will result in an error in a future release. To continue using saved result objects as arrays you can explicitly cast them using  `np.asarray(object)`.\n",
      "  for i in range(len(oracle)):\n",
      "/var/folders/06/kt3wlz1x285bzg98r_byq_480000gn/T/ipykernel_35028/2564620548.py:2: DeprecationWarning: The return type of saved unitaries has been changed from a `numpy.ndarray` to a `qiskit.quantum_info.Operator` as of qiskit-aer 0.10. Accessing numpy array attributes is deprecated and will result in an error in a future release. To continue using saved result objects as arrays you can explicitly cast them using  `np.asarray(object)`.\n",
      "  print(oracle[i])\n"
     ]
    }
   ],
   "source": [
    "for i in range(len(oracle)):\n",
    "    print(oracle[i])"
   ]
  },
  {
   "cell_type": "markdown",
   "id": "1935a0ad-23d3-4ced-9215-819db9aab587",
   "metadata": {
    "jp-MarkdownHeadingCollapsed": true,
    "tags": []
   },
   "source": [
    "# Basics of Quantum Info Course"
   ]
  },
  {
   "cell_type": "code",
   "execution_count": 2,
   "id": "05579ddf-295f-4b07-bb79-1095d382fb07",
   "metadata": {},
   "outputs": [],
   "source": [
    "from qiskit.quantum_info import Statevector\n",
    "from numpy import sqrt\n",
    "from qiskit.visualization import plot_histogram\n",
    "from qiskit.quantum_info import Operator\n",
    "from qiskit import QuantumCircuit\n",
    "from qiskit.quantum_info import Statevector, Operator\n",
    "from numpy import sqrt"
   ]
  },
  {
   "cell_type": "markdown",
   "id": "4ae7a2ea-fcaa-4b92-bbc9-d366bb53874f",
   "metadata": {
    "jp-MarkdownHeadingCollapsed": true,
    "tags": []
   },
   "source": [
    "## State Vectors"
   ]
  },
  {
   "cell_type": "markdown",
   "id": "73df3559-72a4-499f-8743-0d2239936b1c",
   "metadata": {},
   "source": [
    "Defining statevectors"
   ]
  },
  {
   "cell_type": "code",
   "execution_count": 3,
   "id": "2be5fe20-8a09-4f42-8c26-5d7799e7f4fb",
   "metadata": {},
   "outputs": [],
   "source": [
    "u = Statevector([1/sqrt(2), 1/sqrt(2)])\n",
    "v = Statevector([(1+2.j)/3, -2/3])\n",
    "w = Statevector([1/3, 2/3])"
   ]
  },
  {
   "cell_type": "code",
   "execution_count": 4,
   "id": "db46cf90-b893-4cc8-88e9-3cfbc075da92",
   "metadata": {},
   "outputs": [
    {
     "name": "stdout",
     "output_type": "stream",
     "text": [
      "Statevector([0.70710678+0.j, 0.70710678+0.j],\n",
      "            dims=(2,))\n"
     ]
    }
   ],
   "source": [
    "u"
   ]
  },
  {
   "cell_type": "code",
   "execution_count": 5,
   "id": "18b9c951-045e-43cc-a626-d594ffa7519c",
   "metadata": {},
   "outputs": [
    {
     "data": {
      "text/latex": [
       "$$\\frac{\\sqrt{2}}{2} |0\\rangle+\\frac{\\sqrt{2}}{2} |1\\rangle$$"
      ],
      "text/plain": [
       "<IPython.core.display.Latex object>"
      ]
     },
     "metadata": {},
     "output_type": "display_data"
    }
   ],
   "source": [
    "display(u.draw('latex'))"
   ]
  },
  {
   "cell_type": "code",
   "execution_count": 6,
   "id": "47d330f0-86b3-490f-be90-3a7a5dad9547",
   "metadata": {},
   "outputs": [
    {
     "data": {
      "text/plain": [
       "[ 0.33333333+0.66666667j,-0.66666667+0.j        ]"
      ]
     },
     "metadata": {},
     "output_type": "display_data"
    }
   ],
   "source": [
    "display(v.draw('text'))"
   ]
  },
  {
   "cell_type": "code",
   "execution_count": 8,
   "id": "2698ab43-25e2-4a61-8aab-1d03bf4f8036",
   "metadata": {},
   "outputs": [],
   "source": [
    "# it allows you to create states that aren't normalized\n",
    "p = Statevector([1, 1])\n",
    "\n",
    "# but you can check to see if the norm is 1\n",
    "display(p.is_valid())"
   ]
  },
  {
   "cell_type": "markdown",
   "id": "94ebaf8a-71d3-404d-86b2-5edbaab72634",
   "metadata": {},
   "source": [
    "Making a measurement"
   ]
  },
  {
   "cell_type": "code",
   "execution_count": 18,
   "id": "3363a84c-4385-41f9-9379-175bb54381ad",
   "metadata": {},
   "outputs": [
    {
     "data": {
      "text/plain": [
       "('0',\n",
       " Statevector([0.4472136+0.89442719j, 0.       +0.j        ],\n",
       "             dims=(2,)))"
      ]
     },
     "execution_count": 18,
     "metadata": {},
     "output_type": "execute_result"
    }
   ],
   "source": [
    "v.measure()"
   ]
  },
  {
   "cell_type": "code",
   "execution_count": 27,
   "id": "a47bdd9c-c365-4729-b702-8281e17d193e",
   "metadata": {},
   "outputs": [
    {
     "data": {
      "text/plain": [
       "{'0': 540, '1': 460}"
      ]
     },
     "metadata": {},
     "output_type": "display_data"
    },
    {
     "data": {
      "image/png": "[encoded data removed]",
      "text/plain": [
       "<Figure size 504x360 with 1 Axes>"
      ]
     },
     "execution_count": 27,
     "metadata": {},
     "output_type": "execute_result"
    }
   ],
   "source": [
    "statistics = v.sample_counts(1000)\n",
    "display(statistics)\n",
    "plot_histogram(statistics)"
   ]
  },
  {
   "cell_type": "code",
   "execution_count": 28,
   "id": "87a264c2-56c3-4027-b4a4-76e3ab3a188b",
   "metadata": {},
   "outputs": [
    {
     "data": {
      "text/plain": [
       "529"
      ]
     },
     "execution_count": 28,
     "metadata": {},
     "output_type": "execute_result"
    }
   ],
   "source": [
    "v.sample_counts(1000)['0']"
   ]
  },
  {
   "cell_type": "code",
   "execution_count": 43,
   "id": "d8f21569-0741-4168-a41b-57c3091e7e25",
   "metadata": {},
   "outputs": [],
   "source": [
    "# Each list in the operator is a row. It is written in row order.\n",
    "\n",
    "X = Operator([ [0,1],[1,0] ])\n",
    "Y = Operator([ [0,-1.j],[1.j,0] ])\n",
    "Z = Operator([ [1,0],[0,-1] ])\n",
    "H = Operator([ [1/sqrt(2),1/sqrt(2)],[1/sqrt(2),-1/sqrt(2)] ])\n",
    "S = Operator([ [1,0],[0,1.j] ])\n",
    "T = Operator([ [1,0],[0,(1+1.j)/sqrt(2)] ])"
   ]
  },
  {
   "cell_type": "code",
   "execution_count": 60,
   "id": "238fa88d-b439-4437-85fa-703deccd89ac",
   "metadata": {},
   "outputs": [],
   "source": [
    "v = Statevector([1, 0])"
   ]
  },
  {
   "cell_type": "code",
   "execution_count": 61,
   "id": "36ff1b03-73a9-4fdb-b19b-88fb1069fde2",
   "metadata": {},
   "outputs": [
    {
     "data": {
      "text/latex": [
       "$$\\frac{\\sqrt{2}}{2} |0\\rangle+\\frac{\\sqrt{2}}{2} |1\\rangle$$"
      ],
      "text/plain": [
       "<IPython.core.display.Latex object>"
      ]
     },
     "execution_count": 61,
     "metadata": {},
     "output_type": "execute_result"
    }
   ],
   "source": [
    "# have to actually assign the output of the evolve function to a variable\n",
    "v = v.evolve(H)\n",
    "v.draw('latex')"
   ]
  },
  {
   "cell_type": "code",
   "execution_count": 54,
   "id": "1e159ece-ceed-4ea8-849e-ae8be03aeaeb",
   "metadata": {},
   "outputs": [],
   "source": [
    "V = V.evolve(H)\n",
    "#stats = V.sample_counts(1024)"
   ]
  },
  {
   "cell_type": "code",
   "execution_count": 56,
   "id": "4771418d-c75d-43b1-9c44-775d3618876b",
   "metadata": {},
   "outputs": [
    {
     "data": {
      "text/latex": [
       "$$\\frac{\\sqrt{2}}{2} |0\\rangle+\\frac{\\sqrt{2}}{2} |1\\rangle$$"
      ],
      "text/plain": [
       "<IPython.core.display.Latex object>"
      ]
     },
     "execution_count": 58,
     "metadata": {},
     "output_type": "execute_result"
    }
   ],
   "source": [
    "V.draw('latex')"
   ]
  },
  {
   "cell_type": "code",
   "execution_count": 38,
   "id": "4a933dbb-9b95-4fa5-ad1e-ece1d927a531",
   "metadata": {},
   "outputs": [
    {
     "data": {
      "image/png": "[encoded data removed]",
      "text/plain": [
       "<Figure size 504x360 with 1 Axes>"
      ]
     },
     "execution_count": 38,
     "metadata": {},
     "output_type": "execute_result"
    }
   ],
   "source": [
    "plot_histogram(stats)"
   ]
  },
  {
   "cell_type": "markdown",
   "id": "4b79a779-068c-4680-9ac8-7072dd49000b",
   "metadata": {
    "jp-MarkdownHeadingCollapsed": true,
    "tags": []
   },
   "source": [
    "## Multiple qubits"
   ]
  },
  {
   "cell_type": "markdown",
   "id": "bdf13719-064b-4b2a-8129-291207116803",
   "metadata": {},
   "source": [
    "The Operator class creates matrices"
   ]
  },
  {
   "cell_type": "code",
   "execution_count": 2,
   "id": "3f1b6f07-09eb-458a-bf24-2ab6472850c4",
   "metadata": {},
   "outputs": [
    {
     "name": "stdout",
     "output_type": "stream",
     "text": [
      "Statevector([0.+0.j, 1.+0.j, 0.+0.j, 0.+0.j],\n",
      "            dims=(2, 2))\n"
     ]
    }
   ],
   "source": [
    "# creates the (0,1) ket\n",
    "zero, one = Statevector.from_label('0'), Statevector.from_label('1')\n",
    "zero.tensor(one)"
   ]
  },
  {
   "cell_type": "code",
   "execution_count": 8,
   "id": "8ae27083-9acd-49ac-8625-41463476d232",
   "metadata": {},
   "outputs": [],
   "source": [
    "plus = Statevector.from_label('+')\n",
    "i_state = Statevector([1/sqrt(2), 1j/sqrt(2)])\n",
    "psi = plus.tensor(i_state)"
   ]
  },
  {
   "cell_type": "code",
   "execution_count": 9,
   "id": "19147399-63a1-46d1-a88f-7429c2766d58",
   "metadata": {},
   "outputs": [
    {
     "data": {
      "text/plain": [
       "Operator([[0.+0.j, 0.+0.j, 1.+0.j, 0.+0.j],\n",
       "          [0.+0.j, 0.+0.j, 0.+0.j, 1.+0.j],\n",
       "          [1.+0.j, 0.+0.j, 0.+0.j, 0.+0.j],\n",
       "          [0.+0.j, 1.+0.j, 0.+0.j, 0.+0.j]],\n",
       "         input_dims=(2, 2), output_dims=(2, 2))"
      ]
     },
     "execution_count": 9,
     "metadata": {},
     "output_type": "execute_result"
    }
   ],
   "source": [
    "X = Operator([ [0, 1],\n",
    "              [1, 0] ])\n",
    "I = Operator([ [1, 0],\n",
    "              [0, 1] ])\n",
    "X.tensor(I)"
   ]
  },
  {
   "cell_type": "code",
   "execution_count": 10,
   "id": "12e65189-9524-4210-bcd7-b8f33942e46e",
   "metadata": {},
   "outputs": [
    {
     "name": "stdout",
     "output_type": "stream",
     "text": [
      "Statevector([0. +0.5j, 0.5+0.j , 0. +0.5j, 0.5+0.j ],\n",
      "            dims=(2, 2))\n"
     ]
    }
   ],
   "source": [
    "psi.evolve(I ^ X)"
   ]
  },
  {
   "cell_type": "code",
   "execution_count": 22,
   "id": "b7f484b3-5c1b-46e0-91ab-25aaefe32722",
   "metadata": {},
   "outputs": [],
   "source": [
    "# Challenge: Try to create the bell state\n",
    "zero = Statevector.from_label('0')\n",
    "state = zero.tensor(zero)\n",
    "hadamar = Operator([ [1/sqrt(2), 1/sqrt(2)],\n",
    "                    [1/sqrt(2), -1/sqrt(2)]])\n",
    "identity = Operator([ [1, 0], \n",
    "                     [0, 1] ])\n",
    "\n",
    "had_id = hadamar.tensor(identity)\n",
    "\n",
    "#state = state.evolve(had_id)\n",
    "\n",
    "CNOT = Operator([ [1, 0, 0, 0],\n",
    "                 [0, 1, 0, 0],\n",
    "                 [0, 0, 0, 1],\n",
    "                 [0, 0, 1, 0] ])\n",
    "\n",
    "bell_transform = had_id.compose(CNOT)\n",
    "\n",
    "state = state.evolve(bell_transform)"
   ]
  },
  {
   "cell_type": "code",
   "execution_count": 25,
   "id": "3f9a6937-db98-4568-a00f-753939186924",
   "metadata": {},
   "outputs": [
    {
     "data": {
      "text/latex": [
       "$$\\frac{\\sqrt{2}}{2} |00\\rangle+\\frac{\\sqrt{2}}{2} |11\\rangle$$"
      ],
      "text/plain": [
       "<IPython.core.display.Latex object>"
      ]
     },
     "execution_count": 25,
     "metadata": {},
     "output_type": "execute_result"
    }
   ],
   "source": [
    "state.draw('latex')"
   ]
  },
  {
   "cell_type": "code",
   "execution_count": 26,
   "id": "350ec5dc-5298-47f2-9064-e565c3cfca9f",
   "metadata": {},
   "outputs": [
    {
     "data": {
      "text/latex": [
       "$$\\frac{\\sqrt{3}}{3} |001\\rangle+\\frac{\\sqrt{3}}{3} |010\\rangle+\\frac{\\sqrt{3}}{3} |100\\rangle$$"
      ],
      "text/plain": [
       "<IPython.core.display.Latex object>"
      ]
     },
     "execution_count": 26,
     "metadata": {},
     "output_type": "execute_result"
    }
   ],
   "source": [
    "W = Statevector([0, 1, 1, 0, 1, 0, 0, 0]/sqrt(3))\n",
    "W.draw('latex')"
   ]
  },
  {
   "cell_type": "markdown",
   "id": "75f58c68-8dde-47b6-8e70-f94f6c39c301",
   "metadata": {},
   "source": [
    "You can choose to measure just one of the qubits"
   ]
  },
  {
   "cell_type": "code",
   "execution_count": 30,
   "id": "fe62a8c2-0265-432d-9627-bb498d96ab1b",
   "metadata": {},
   "outputs": [
    {
     "name": "stdout",
     "output_type": "stream",
     "text": [
      "Measured: 0 \n",
      "State after measurement:\n"
     ]
    },
    {
     "data": {
      "text/latex": [
       "$$\\frac{\\sqrt{2}}{2} |010\\rangle+\\frac{\\sqrt{2}}{2} |100\\rangle$$"
      ],
      "text/plain": [
       "<IPython.core.display.Latex object>"
      ]
     },
     "execution_count": 30,
     "metadata": {},
     "output_type": "execute_result"
    }
   ],
   "source": [
    "result, new_sv = W.measure([0]) # pass in a list of indices you want measured\n",
    "print(f'Measured: {result} \\nState after measurement:')\n",
    "new_sv.draw('latex')"
   ]
  },
  {
   "cell_type": "markdown",
   "id": "4453f1c6-7ebd-415a-8c38-195abe7e3a15",
   "metadata": {
    "jp-MarkdownHeadingCollapsed": true,
    "tags": []
   },
   "source": [
    "## Quantum Circuits "
   ]
  },
  {
   "cell_type": "code",
   "execution_count": 63,
   "id": "eae7daa7-b074-4063-be0e-972ca06f5223",
   "metadata": {},
   "outputs": [
    {
     "data": {
      "text/html": [
       "<pre style=\"word-wrap: normal;white-space: pre;background: #fff0;line-height: 1.1;font-family: &quot;Courier New&quot;,Courier,monospace\">   ┌───┐┌───┐┌───┐┌───┐┌───┐\n",
       "q: ┤ H ├┤ T ├┤ H ├┤ T ├┤ Z ├\n",
       "   └───┘└───┘└───┘└───┘└───┘</pre>"
      ],
      "text/plain": [
       "   ┌───┐┌───┐┌───┐┌───┐┌───┐\n",
       "q: ┤ H ├┤ T ├┤ H ├┤ T ├┤ Z ├\n",
       "   └───┘└───┘└───┘└───┘└───┘"
      ]
     },
     "execution_count": 63,
     "metadata": {},
     "output_type": "execute_result"
    }
   ],
   "source": [
    "circuit = QuantumCircuit(1)\n",
    "\n",
    "circuit.h(0)\n",
    "circuit.t(0)\n",
    "circuit.h(0)\n",
    "circuit.t(0)\n",
    "circuit.z(0)\n",
    "\n",
    "circuit.draw()"
   ]
  },
  {
   "cell_type": "code",
   "execution_count": 65,
   "id": "7af5a66f-7418-469a-af71-b4f1a1e553fa",
   "metadata": {},
   "outputs": [
    {
     "data": {
      "text/latex": [
       "$$(0.8535533906 + 0.3535533906 i) |0\\rangle+(-0.3535533906 + 0.1464466094 i) |1\\rangle$$"
      ],
      "text/plain": [
       "<IPython.core.display.Latex object>"
      ]
     },
     "execution_count": 65,
     "metadata": {},
     "output_type": "execute_result"
    }
   ],
   "source": [
    "ket0 = Statevector([1,0])\n",
    "v = ket0.evolve(circuit)\n",
    "v.draw('latex')"
   ]
  },
  {
   "cell_type": "code",
   "execution_count": 66,
   "id": "bead6471-e712-4509-9e36-8e9f5b97a082",
   "metadata": {},
   "outputs": [
    {
     "data": {
      "image/png": "[encoded data removed]",
      "text/plain": [
       "<Figure size 504x360 with 1 Axes>"
      ]
     },
     "execution_count": 66,
     "metadata": {},
     "output_type": "execute_result"
    }
   ],
   "source": [
    "statistics = v.sample_counts(4000)\n",
    "plot_histogram(statistics)"
   ]
  },
  {
   "cell_type": "markdown",
   "id": "be7298ff-309d-4f6a-8b30-dea3801e3a9c",
   "metadata": {},
   "source": [
    "You can name your qubit using a quantum register"
   ]
  },
  {
   "cell_type": "code",
   "execution_count": 5,
   "id": "24667d90-6d78-42b1-b32b-a4374c97ff4d",
   "metadata": {},
   "outputs": [
    {
     "data": {
      "image/png": "[encoded data removed]",
      "text/plain": [
       "<Figure size 192.861x84.28 with 1 Axes>"
      ]
     },
     "execution_count": 5,
     "metadata": {},
     "output_type": "execute_result"
    }
   ],
   "source": [
    "from qiskit import QuantumRegister\n",
    "X = QuantumRegister(1, \"x\")\n",
    "circuit = QuantumCircuit(X)\n",
    "\n",
    "\n",
    "circuit.h(X)\n",
    "circuit.s(X)\n",
    "circuit.draw('mpl')\n"
   ]
  },
  {
   "cell_type": "code",
   "execution_count": 8,
   "id": "cdf5cb55-f3f6-4da8-8daf-fde3eca50cf9",
   "metadata": {},
   "outputs": [
    {
     "data": {
      "image/png": "[encoded data removed]",
      "text/plain": [
       "<Figure size 314.271x264.88 with 1 Axes>"
      ]
     },
     "execution_count": 8,
     "metadata": {},
     "output_type": "execute_result"
    }
   ],
   "source": [
    "# More complex example\n",
    "\n",
    "X = QuantumRegister(1, \"x\")\n",
    "Y = QuantumRegister(1, \"y\")\n",
    "A = ClassicalRegister(1, \"a\")\n",
    "B = ClassicalRegister(1, \"b\")\n",
    "\n",
    "circuit = QuantumCircuit(Y, X, B, A)\n",
    "circuit.h(Y)\n",
    "circuit.cx(Y, X)\n",
    "circuit.measure(Y, B)\n",
    "circuit.measure(X, A)\n",
    "circuit.draw('mpl')"
   ]
  },
  {
   "cell_type": "code",
   "execution_count": 9,
   "id": "5575c6a4-9495-4afa-9b6c-3fee8cc39d56",
   "metadata": {},
   "outputs": [
    {
     "data": {
      "image/png": "[encoded data removed]",
      "text/plain": [
       "<Figure size 504x360 with 1 Axes>"
      ]
     },
     "execution_count": 9,
     "metadata": {},
     "output_type": "execute_result"
    }
   ],
   "source": [
    "simulator = AerSimulator()\n",
    "simulation = simulator.run(transpile(circuit, simulator), shots=1000)\n",
    "stats = simulation.result().get_counts()\n",
    "plot_histogram(stats)"
   ]
  },
  {
   "cell_type": "markdown",
   "id": "f8da4ba6-48a3-4f61-bdea-d7b9c2ed1b86",
   "metadata": {},
   "source": [
    "## Entanglement in Action"
   ]
  },
  {
   "cell_type": "markdown",
   "id": "7d9e639d-7358-4fb1-8461-4824a4c56956",
   "metadata": {
    "jp-MarkdownHeadingCollapsed": true,
    "tags": []
   },
   "source": [
    "### Teleportation"
   ]
  },
  {
   "cell_type": "markdown",
   "id": "4e7cca64-225b-44ce-80bd-de2222411906",
   "metadata": {},
   "source": [
    "Below is a pretty compliated circuit that teleports the contents of Q into B"
   ]
  },
  {
   "cell_type": "code",
   "execution_count": 5,
   "id": "ceb5775a-aea7-4765-872b-52eb5bf65148",
   "metadata": {},
   "outputs": [
    {
     "data": {
      "image/png": "[encoded data removed]",
      "text/plain": [
       "<Figure size 859.097x325.08 with 1 Axes>"
      ]
     },
     "execution_count": 5,
     "metadata": {},
     "output_type": "execute_result"
    }
   ],
   "source": [
    "from qiskit import QuantumRegister, QuantumCircuit, ClassicalRegister\n",
    "ebit0 = QuantumRegister(1, \"A\")\n",
    "ebit1 = QuantumRegister(1, \"B\")\n",
    "a = ClassicalRegister(1, \"a\")\n",
    "b = ClassicalRegister(1, \"b\")\n",
    "qubit = QuantumRegister(1, \"Q\")\n",
    "\n",
    "qc = QuantumCircuit(qubit, ebit0, ebit1, a, b)\n",
    "\n",
    "\n",
    "#prepare ebit\n",
    "qc.h(ebit0)\n",
    "qc.cx(ebit0, ebit1)\n",
    "qc.barrier()\n",
    "\n",
    "# Alice\n",
    "qc.cx(qubit, ebit0)\n",
    "qc.h(qubit)\n",
    "qc.barrier()\n",
    "\n",
    "\n",
    "# Classical bits\n",
    "qc.measure(ebit0, a)\n",
    "qc.measure(qubit, b)\n",
    "qc.barrier()\n",
    "\n",
    "with qc.if_test((a, 1)):\n",
    "    qc.z(ebit1)\n",
    "with qc.if_test((b, 1)):\n",
    "    qc.x(ebit1)\n",
    "\n",
    "qc.draw('mpl')"
   ]
  },
  {
   "cell_type": "markdown",
   "id": "2a1ec3c7-3078-4f10-b2c4-dec7ea99ee1c",
   "metadata": {},
   "source": [
    "Below shows how to compose circuits together to include an auxiliary qubit just in case Q is entangled with R"
   ]
  },
  {
   "cell_type": "code",
   "execution_count": 7,
   "id": "dc9e6b17-00a5-4766-a6e8-f19033b4c1c3",
   "metadata": {},
   "outputs": [
    {
     "data": {
      "image/png": "[encoded data removed]",
      "text/plain": [
       "<Figure size 1039.7x385.28 with 1 Axes>"
      ]
     },
     "execution_count": 7,
     "metadata": {},
     "output_type": "execute_result"
    }
   ],
   "source": [
    "aux = QuantumRegister(1, \"R\")\n",
    "test = QuantumCircuit(aux, qubit, ebit0, ebit1, a, b)\n",
    "test.h(aux)\n",
    "test.cx(aux, qubit)\n",
    "test.barrier()\n",
    "\n",
    "test = test.compose(qc, qubits = [1,2,3]) # qubits=[1,2,3] tells the composition to skip qubit R\n",
    "test.draw('mpl')"
   ]
  },
  {
   "cell_type": "code",
   "execution_count": 11,
   "id": "505b1568-fbf5-41b5-9c48-4b0c9fd6a3fc",
   "metadata": {},
   "outputs": [
    {
     "data": {
      "image/png": "[encoded data removed]",
      "text/plain": [
       "<Figure size 504x360 with 1 Axes>"
      ]
     },
     "execution_count": 11,
     "metadata": {},
     "output_type": "execute_result"
    }
   ],
   "source": [
    "from qiskit_aer import AerSimulator\n",
    "from qiskit.visualization import plot_histogram\n",
    "# Result counts always show you the classical bits\n",
    "# the bottom most register appearing on the left side of the bit string\n",
    "\n",
    "counts = AerSimulator().run(test).result().get_counts()\n",
    "plot_histogram(counts)"
   ]
  },
  {
   "cell_type": "code",
   "execution_count": 13,
   "id": "e9ecf7e3-dbf7-49c3-98e0-bb012b6e6ab6",
   "metadata": {},
   "outputs": [
    {
     "data": {
      "text/plain": [
       "dict_items([('0 1', 260), ('1 1', 238), ('0 0', 247), ('1 0', 279)])"
      ]
     },
     "execution_count": 13,
     "metadata": {},
     "output_type": "execute_result"
    }
   ],
   "source": [
    "# interesting dictionary structure that could be useful\n",
    "counts.items()"
   ]
  },
  {
   "cell_type": "markdown",
   "id": "ec4307ba-a247-4012-9d7e-2ca13ce9b234",
   "metadata": {
    "tags": []
   },
   "source": [
    "### Superdense coding"
   ]
  },
  {
   "cell_type": "markdown",
   "id": "72c5b22b-1fee-421b-8b5d-46697570e7f3",
   "metadata": {},
   "source": [
    "Superdense coding is a more intuitive (and less magical) idea than teleportation. Essentially you can send 2 classical bits of info by burning 1 ebit (and sending the other half of the ebit).\n",
    "\n",
    "Essentially you put the EPR pair into 1 of 4 states and then your partner measures it."
   ]
  },
  {
   "cell_type": "code",
   "execution_count": 17,
   "id": "724b2a34-da51-4892-87b2-667986342376",
   "metadata": {},
   "outputs": [
    {
     "data": {
      "image/png": "[encoded data removed]",
      "text/plain": [
       "<Figure size 718.879x204.68 with 1 Axes>"
      ]
     },
     "execution_count": 17,
     "metadata": {},
     "output_type": "execute_result"
    }
   ],
   "source": [
    "# Can change this\n",
    "bit0 = \"1\"\n",
    "bit1 = \"0\"\n",
    "\n",
    "ebit0 = QuantumRegister(1, \"X\")\n",
    "ebit1 = QuantumRegister(1, \"Y\")\n",
    "\n",
    "protocol = QuantumCircuit(ebit0, ebit1)\n",
    "\n",
    "# set up EPR pair\n",
    "protocol.h(0)\n",
    "protocol.cx(0, 1)\n",
    "protocol.barrier()\n",
    "\n",
    "if bit0 == \"1\":\n",
    "    protocol.z(0)\n",
    "if bit1 == \"1\":\n",
    "    protocol.x(0)\n",
    "protocol.barrier()\n",
    "\n",
    "protocol.cx(0, 1)\n",
    "protocol.h(0)\n",
    "\n",
    "protocol.measure_all()\n",
    "\n",
    "protocol.draw('mpl')"
   ]
  },
  {
   "cell_type": "code",
   "execution_count": 18,
   "id": "8353804a-d9f5-4e17-a83d-d1ee6e16347e",
   "metadata": {},
   "outputs": [],
   "source": [
    "counts = AerSimulator().run(protocol).result().get_counts()"
   ]
  },
  {
   "cell_type": "code",
   "execution_count": 19,
   "id": "b521b1fb-ba3e-4e77-afbf-f5fb9c049ef1",
   "metadata": {},
   "outputs": [
    {
     "data": {
      "text/plain": [
       "dict_items([('01', 1024)])"
      ]
     },
     "execution_count": 19,
     "metadata": {},
     "output_type": "execute_result"
    }
   ],
   "source": [
    "counts.items()"
   ]
  },
  {
   "cell_type": "code",
   "execution_count": 21,
   "id": "6bb7d5d9-9341-4951-8158-28c5e4f9fd27",
   "metadata": {},
   "outputs": [
    {
     "data": {
      "image/png": "[encoded data removed]",
      "text/plain": [
       "<Figure size 504x360 with 1 Axes>"
      ]
     },
     "execution_count": 21,
     "metadata": {},
     "output_type": "execute_result"
    }
   ],
   "source": [
    "plot_histogram(counts)"
   ]
  },
  {
   "cell_type": "code",
   "execution_count": 22,
   "id": "edd4e221-8ebc-45f3-a24c-63a89f065a82",
   "metadata": {},
   "outputs": [],
   "source": [
    "# Potential Exercise: Use another qubit as a random bit generator (using hadamars and measures) \n",
    "# to randomly select the 2 classical bit message"
   ]
  },
  {
   "cell_type": "markdown",
   "id": "2d3f8d29-fae3-4338-9afb-a57108ef0901",
   "metadata": {},
   "source": [
    "### CHSH Game"
   ]
  },
  {
   "cell_type": "markdown",
   "id": "7f027217-6750-4b2c-a631-efa0582a150d",
   "metadata": {},
   "source": [
    "Non-local games have the structure where some ref asks a pair of questions (x,y) to separated individuals, and the individuals each give an answer so the pair gives (a,b). The individuals win the game if (a,b) is a solution for (x, y). The game below is one such game where the solutions for (x,y) are described."
   ]
  },
  {
   "cell_type": "code",
   "execution_count": 2,
   "id": "43e0220e-b787-46b9-a94c-8f782cacba53",
   "metadata": {},
   "outputs": [],
   "source": [
    "from numpy.random import randint\n",
    "\n",
    "def chsh_game(strategy):\n",
    "    \"\"\"Plays the CHSH game\n",
    "    Args:\n",
    "        strategy (callable): A function that takes two bits (as `int`s) and\n",
    "            returns two bits (also as `int`s). The strategy must follow the\n",
    "            rules of the CHSH game.\n",
    "    Returns:\n",
    "        int: 1 for a win, 0 for a loss.\n",
    "    \"\"\"\n",
    "    # Referee chooses x and y randomly\n",
    "    x, y = randint(0, 2), randint(0, 2)\n",
    "\n",
    "    # Use strategy to choose a and b\n",
    "    a, b = strategy(x, y)\n",
    "\n",
    "    # Referee decides if Alice and Bob win or lose\n",
    "    if (a != b) == (x & y):\n",
    "        return 1  # Win\n",
    "    return 0  # Lose"
   ]
  },
  {
   "cell_type": "code",
   "execution_count": 4,
   "id": "0de87914-87e9-48c2-bfde-303e6abd613d",
   "metadata": {},
   "outputs": [],
   "source": [
    "from qiskit import QuantumCircuit\n",
    "from numpy import pi"
   ]
  },
  {
   "cell_type": "code",
   "execution_count": 9,
   "id": "0231ef73-1dd7-4e9b-bc1c-ea3c423a88f5",
   "metadata": {},
   "outputs": [],
   "source": [
    "def chsh_circuit(x, y):\n",
    "    \n",
    "    # just making the EPR pair\n",
    "    qc = QuantumCircuit(2, 2)\n",
    "    qc.h(0)\n",
    "    qc.cx(0, 1)\n",
    "    qc.barrier()\n",
    "    \n",
    "    #Alice\n",
    "    if x == 0:\n",
    "        qc.ry(0, 0)\n",
    "    else:\n",
    "        qc.ry(-pi / 2, 0)\n",
    "    qc.measure(0, 0)\n",
    "    \n",
    "    \n",
    "    #Bob\n",
    "    if x == 0:\n",
    "        qc.ry(-pi/4, 1)\n",
    "    else:\n",
    "        qc.ry(pi/4, 1)\n",
    "    qc.measure\n",
    "    \n",
    "    return qc\n",
    "    "
   ]
  },
  {
   "cell_type": "code",
   "execution_count": 10,
   "id": "a542fcfa-f116-4de3-9cc7-3749773350bb",
   "metadata": {},
   "outputs": [],
   "source": [
    "qc = chsh_circuit(1, 1)"
   ]
  },
  {
   "cell_type": "code",
   "execution_count": 11,
   "id": "1c95f374-7e78-419b-913f-518ba698f8de",
   "metadata": {},
   "outputs": [
    {
     "data": {
      "image/png": "[encoded data removed]",
      "text/plain": [
       "<Figure size 387.452x204.68 with 1 Axes>"
      ]
     },
     "execution_count": 11,
     "metadata": {},
     "output_type": "execute_result"
    }
   ],
   "source": [
    "qc.draw('mpl')"
   ]
  },
  {
   "cell_type": "code",
   "execution_count": 12,
   "id": "3fa89932-f7af-474e-b4f0-c732b74745c3",
   "metadata": {},
   "outputs": [],
   "source": [
    "from qiskit_aer import AerSimulator\n",
    "\n",
    "simulator = AerSimulator()\n",
    "\n",
    "def quantum_strategy(x, y):\n",
    "    \n",
    "    job = simulator.run(chsh_circuit(x, y), shots=1, memory=True) # memory seems to be a place to store results?\n",
    "    result = job.result().get_memory()[0]\n",
    "    a, b = result[0], result[1]\n",
    "    return a, b"
   ]
  },
  {
   "cell_type": "code",
   "execution_count": 13,
   "id": "8f71bf37-887f-4cee-902c-febe2283fedd",
   "metadata": {},
   "outputs": [
    {
     "name": "stdout",
     "output_type": "stream",
     "text": [
      "Fraction of games won: 0.49\n"
     ]
    }
   ],
   "source": [
    "NUM_GAMES = 1000\n",
    "TOTAL_SCORE = 0\n",
    "\n",
    "for _ in range(NUM_GAMES):\n",
    "    TOTAL_SCORE += chsh_game(quantum_strategy)\n",
    "\n",
    "print(\"Fraction of games won:\", TOTAL_SCORE / NUM_GAMES)"
   ]
  },
  {
   "cell_type": "markdown",
   "id": "33b57b6e-2c7c-4e83-9476-f0992bffabc8",
   "metadata": {},
   "source": [
    "# Quantum Query Algorithms Course"
   ]
  },
  {
   "cell_type": "markdown",
   "id": "9fb2af0f-b6a5-4e7c-9562-58fc17f4df9b",
   "metadata": {},
   "source": [
    "In the query model, we are trying to figure out information about a function. This function can sometimes be thought of as a string (where the alphabet can potentially be very large like \"COLORS\"), indexed by all possible inputs of the function (a bit confusing, but makes sense)."
   ]
  },
  {
   "cell_type": "markdown",
   "id": "d05a4ae2-5f71-4467-9a50-f598c583c3ae",
   "metadata": {},
   "source": [
    "When thought of in the \"String\" case, ew can think of the problem as cmoputing\n",
    "- OR (binary alphabet)\n",
    "- Parity/XOR (binary alphabet)\n",
    "- Minimum (alphabet is m-bit binary strings; so 2^m elements)"
   ]
  },
  {
   "cell_type": "markdown",
   "id": "b6850d4c-45e9-4857-be0f-df589e845645",
   "metadata": {},
   "source": [
    "## Deutsch's Algorithm "
   ]
  },
  {
   "cell_type": "markdown",
   "id": "85e3d9f7-2370-4167-8e1c-88c4ef2247ef",
   "metadata": {},
   "source": [
    "Deutsch's problem is simply to find the partiy of an unknown function that takes in 1 bit and spits out 1 bit. There are only 4 such possible functions\n",
    "\n",
    "- f(0) = f(1) = 0\n",
    "- f(0) = 0, f(1) = 1\n",
    "- f(0) = 1, f(1) = 0\n",
    "- f(0) = f(1) = 1\n",
    "\n",
    "These can be thought of as the 4 strings (00, 01, 10, 11)\n",
    "\n",
    "Classically you'd need 2 queries to solvet his problem"
   ]
  },
  {
   "cell_type": "markdown",
   "id": "6a565169-055f-4e28-b5dd-0f4632f12b2d",
   "metadata": {},
   "source": [
    "The Deutsch and DJ algorithms are the simplest in that all they require is for you to bookend your input qubits with hadamars and measure. The subtlety is that you have \n",
    "to use the sign implementation by letting the output qubit be ket-minus. You also have to OR the resultant input qubits."
   ]
  },
  {
   "cell_type": "code",
   "execution_count": 1,
   "id": "e169b20f-9125-4cd2-a14e-6b74e61f2aa7",
   "metadata": {},
   "outputs": [
    {
     "data": {
      "image/png": "[encoded data removed]",
      "text/plain": [
       "<Figure size 146.652x144.48 with 1 Axes>"
      ]
     },
     "execution_count": 1,
     "metadata": {},
     "output_type": "execute_result"
    }
   ],
   "source": [
    "from qiskit import QuantumCircuit\n",
    "qc = QuantumCircuit(2)\n",
    "qc.h([1,0])\n",
    "qc.draw('mpl')\n",
    "\n",
    "# unable to draw placeholder function.."
   ]
  },
  {
   "cell_type": "markdown",
   "id": "79025d10-1ce7-48a4-b0c7-03aedb550323",
   "metadata": {},
   "source": [
    "The book remarks on an interesting phenomenon known as \"phase kickback\" where the input bit gets changed instead of the output bit (in the Qf circuit). This occurs when then output bit is an eigen vector? Not completely clear to me yet."
   ]
  },
  {
   "cell_type": "code",
   "execution_count": 3,
   "id": "e4a79311-de99-4c79-8589-ebcec5fc9802",
   "metadata": {},
   "outputs": [],
   "source": [
    "# Ignore the logic and focus on syntax for now\n",
    "def deutsch_function(case: int):\n",
    "    \"\"\"\n",
    "    Generate a valid Deutsch function as a 'QuantumCircuit'.\n",
    "    \"\"\"\n",
    "    if case not in [1,2,3,4]:\n",
    "        raise ValueError(\"`case` must be 1,2,3, or 4.\")\n",
    "    \n",
    "    f = QuantumCircuit(2)\n",
    "    if case in [2,3]:\n",
    "        f.cx(0, 1)\n",
    "    if case in [3, 4]:\n",
    "        f.x(1)\n",
    "    return f"
   ]
  },
  {
   "cell_type": "code",
   "execution_count": 5,
   "id": "e0abb8cf-049d-4a89-afc0-fa0078cc88f8",
   "metadata": {},
   "outputs": [
    {
     "data": {
      "image/png": "[encoded data removed]",
      "text/plain": [
       "<Figure size 206.852x144.48 with 1 Axes>"
      ]
     },
     "execution_count": 5,
     "metadata": {},
     "output_type": "execute_result"
    }
   ],
   "source": [
    "deutsch_function(3).draw('mpl')"
   ]
  },
  {
   "cell_type": "code",
   "execution_count": 7,
   "id": "66c206a2-dd7e-46bf-a019-5edd305ef0e3",
   "metadata": {},
   "outputs": [],
   "source": [
    "def compile_circuit(function: QuantumCircuit):\n",
    "    \"\"\"\n",
    "    Compiles a circuit for use in Deutsch's algorithm\n",
    "    \"\"\"\n",
    "    n = function.num_qubits-1\n",
    "    qc = QuantumCircuit(n+1, n)\n",
    "    \n",
    "    qc.x(n)\n",
    "    qc.h(range(n+1)) # lets you put an H gate on all qubits\n",
    "    \n",
    "    qc.barrier()\n",
    "    qc.compose(function, inplace=True)\n",
    "    qc.barrier()\n",
    "    \n",
    "    qc.h(range(n))\n",
    "    qc.measure(range(n), range(n))\n",
    "    \n",
    "    return qc"
   ]
  },
  {
   "cell_type": "code",
   "execution_count": 10,
   "id": "55830f88-8d12-4dc0-99ff-9b1ac92c34cc",
   "metadata": {},
   "outputs": [
    {
     "data": {
      "image/png": "[encoded data removed]",
      "text/plain": [
       "<Figure size 568.052x204.68 with 1 Axes>"
      ]
     },
     "execution_count": 10,
     "metadata": {},
     "output_type": "execute_result"
    }
   ],
   "source": [
    "compile_circuit(deutsch_function(3)).draw('mpl')"
   ]
  },
  {
   "cell_type": "code",
   "execution_count": 12,
   "id": "3c8dd8c9-59b3-4324-b668-d5db4ba3e229",
   "metadata": {},
   "outputs": [],
   "source": [
    "# Remember that in the Quantum Algorithm way, '0' is balanced\n",
    "def deutsch_algorithm(function: QuantumCircuit):\n",
    "    \"\"\"\n",
    "    Determine if a Deutsch function is constant or balanced.\n",
    "    \"\"\"\n",
    "    qc = compile_circuit(function)\n",
    "    result = AerSimulator().run(qc, shots=1,memory=True).result()\n",
    "    measurements = result.get_memory()\n",
    "    \n",
    "    if measurements[0] == '0':\n",
    "        return \"constant\"\n",
    "    return \"balanced\""
   ]
  },
  {
   "cell_type": "code",
   "execution_count": 14,
   "id": "73f53273-6acd-4139-8ac1-a31519af2346",
   "metadata": {},
   "outputs": [
    {
     "data": {
      "image/png": "[encoded data removed]",
      "text/plain": [
       "<Figure size 206.852x144.48 with 1 Axes>"
      ]
     },
     "metadata": {},
     "output_type": "display_data"
    },
    {
     "data": {
      "text/plain": [
       "'balanced'"
      ]
     },
     "execution_count": 14,
     "metadata": {},
     "output_type": "execute_result"
    }
   ],
   "source": [
    "f = deutsch_function(3)\n",
    "display(f.draw('mpl'))\n",
    "deutsch_algorithm(f)"
   ]
  },
  {
   "cell_type": "markdown",
   "id": "c11078ba-a8f1-4cb7-bd4e-1c3c25887f32",
   "metadata": {},
   "source": [
    "The Deutsch Algorithm has a 1 vs 2 advantage, but the Deutsch Jozsa algorithm can do even better. As before it has a single output register (that is initialized to the minus ket before being fed into the function - similar to the sign implementation of functions). However now it has an arbitrary number input bits so we are querying a much longer string.\n",
    "\n",
    "Again it is the input bits that are measured at the end, not the output register."
   ]
  },
  {
   "cell_type": "markdown",
   "id": "637d58c1-3e91-4034-a23f-cf05a40f66c7",
   "metadata": {},
   "source": [
    "The Deutsch-Jozsa problem is a \"partial\" function in that it only cares about functions (strings) that are either balanced or constant (the goal is to figure out which) -- other functions are \"don't care\" inputs.\n",
    "\n",
    "The algorithm solves this with a single query using a uniform superposition input. If a single measured bit is 1 then the function is balanced, otherwise the function is constant (so there is a post-processing OR calculation)."
   ]
  },
  {
   "cell_type": "markdown",
   "id": "0e119295-7f03-4d6d-a126-382609266efd",
   "metadata": {},
   "source": [
    "This algorithm is the same as the Bernstein-Vazirani (XOR), but just with a different promise"
   ]
  },
  {
   "cell_type": "code",
   "execution_count": 7,
   "id": "0de9d646-9be9-4c40-a059-e507f462e31f",
   "metadata": {},
   "outputs": [],
   "source": [
    "# create random promise function\n",
    "import numpy as np\n",
    "\n",
    "def dj_function(num_qubits):\n",
    "    \"\"\"\n",
    "    Creates a random Deutsch-Jozsa function\n",
    "    \"\"\"\n",
    "    \n",
    "    qc = QuantumCircuit(num_qubits + 1)\n",
    "    if np.random.randint(0, 2): # flip output bit randomly half of the time\n",
    "        qc.x(num_qubits)\n",
    "    if np.random.randint(0,2):\n",
    "        return qc # this returns a constant circuit (either constantly 1 or constantly 0)\n",
    "    \n",
    "    # if you make it here you are trying to make the balanced function\n",
    "    on_states = np.random.choice(range(2**num_qubits), 2**num_qubits//2, replace=False)\n",
    "    \n",
    "    def add_cx(qc, bit_string):\n",
    "        for qubit, bit in enumerate(reversed(bit_string)):\n",
    "            if bit == '1':\n",
    "                qc.x(qubit)\n",
    "        return qc\n",
    "    \n",
    "    for state in on_states:\n",
    "        qc.barrier()\n",
    "        qc = add_cx(qc, f\"{state:0b}\") # write state in binary!\n",
    "        qc.mct(list(range(num_qubits)), num_qubits)\n",
    "        qc = add_cx(qc, f\"{state:0b}\")\n",
    "    \n",
    "    qc.barrier()\n",
    "    \n",
    "    return qc\n",
    "    \n",
    "    \n",
    "        "
   ]
  },
  {
   "cell_type": "code",
   "execution_count": 32,
   "id": "f79b89dd-499a-4e25-a051-033c7dfbd054",
   "metadata": {
    "collapsed": true,
    "jupyter": {
     "outputs_hidden": true
    },
    "tags": []
   },
   "outputs": [
    {
     "data": {
      "image/png": "[encoded data removed]",
      "text/plain": [
       "<Figure size 1591.6x686.28 with 1 Axes>"
      ]
     },
     "execution_count": 32,
     "metadata": {},
     "output_type": "execute_result"
    }
   ],
   "source": [
    "func = dj_function(4)\n",
    "func.draw('mpl')"
   ]
  },
  {
   "cell_type": "code",
   "execution_count": 4,
   "id": "a7186ab1-1e51-4a93-a5f9-4b0c1d4f6038",
   "metadata": {},
   "outputs": [],
   "source": [
    "# This function takes in a \"Function\" that is either balanced or constant and build the DJ circuit around it\n",
    "def compile_circuit(function: QuantumCircuit):\n",
    "    \"\"\"\n",
    "    Compiles a circuit for use in the Deutsch-Jozsa algorithm.\n",
    "    \"\"\"\n",
    "    n = function.num_qubits-1\n",
    "    qc = QuantumCircuit(n+1, n)\n",
    "    qc.x(n)\n",
    "    qc.h(range(n+1))\n",
    "    qc.compose(function, inplace=True)\n",
    "    qc.h(range(n))\n",
    "    qc.measure(range(n), range(n))\n",
    "    return qc"
   ]
  },
  {
   "cell_type": "code",
   "execution_count": 5,
   "id": "8b44b4c2-88e8-47eb-a41d-6aa874d39dca",
   "metadata": {},
   "outputs": [],
   "source": [
    "def dj_algorithm(function: QuantumCircuit):\n",
    "    \"\"\"\n",
    "    Determine if a Deutsch-Jozsa function is constant or balanced.\n",
    "    \"\"\"\n",
    "    qc = compile_circuit(function)\n",
    "    \n",
    "    result = AerSimulator().run(qc,shots=1,memory=True).result()\n",
    "    measurements = result.get_memory()\n",
    "    if '1' in measurements[0]:\n",
    "        return 'balanced'\n",
    "    return 'constant'"
   ]
  },
  {
   "cell_type": "code",
   "execution_count": 8,
   "id": "a1f48e9e-4d5a-455d-b476-35853812ecc2",
   "metadata": {},
   "outputs": [],
   "source": [
    "qc = compile_circuit(dj_function(1))"
   ]
  },
  {
   "cell_type": "code",
   "execution_count": 10,
   "id": "0bfaead0-636e-4c78-8902-86591cb205d0",
   "metadata": {},
   "outputs": [
    {
     "data": {
      "image/png": "[encoded data removed]",
      "text/plain": [
       "<Figure size 507.852x204.68 with 1 Axes>"
      ]
     },
     "execution_count": 10,
     "metadata": {},
     "output_type": "execute_result"
    }
   ],
   "source": [
    "qc.draw('mpl')"
   ]
  },
  {
   "cell_type": "markdown",
   "id": "85d37398-f087-4e9f-af72-7e7263193488",
   "metadata": {},
   "source": [
    "## Bernstein-Vazirani problem"
   ]
  },
  {
   "cell_type": "markdown",
   "id": "67bd1f3d-0258-43ba-85d5-ae3c64a1d135",
   "metadata": {},
   "source": [
    "I found the BV problem more clear when I read it in the Qiskit textbook. The bottom-line is that the \"secret\" function f(x) is the binrary dot product of s and x (where s is some constant) and the goal is to find s. Interestingly the same algorithm as DJ solves this problem (but doesn't OR the resultant input)."
   ]
  },
  {
   "cell_type": "markdown",
   "id": "ec3928ad-62c1-431f-8d04-f01d5614704a",
   "metadata": {},
   "source": [
    "By the way, the above is equivalent to an XOR between the bits of x \"indicated\" by s."
   ]
  },
  {
   "cell_type": "code",
   "execution_count": null,
   "id": "0b2dd249-56c6-43e5-9260-84591653e819",
   "metadata": {},
   "outputs": [],
   "source": []
  },
  {
   "cell_type": "code",
   "execution_count": null,
   "id": "bed10ac6-3347-4534-86f0-9d5cf07570a0",
   "metadata": {},
   "outputs": [],
   "source": []
  },
  {
   "cell_type": "code",
   "execution_count": null,
   "id": "47ba77f7-84dc-41a8-bf22-7270c4e04e60",
   "metadata": {},
   "outputs": [],
   "source": []
  },
  {
   "cell_type": "markdown",
   "id": "2d9b170b-678c-443d-8249-8e0df3fe71ac",
   "metadata": {
    "jp-MarkdownHeadingCollapsed": true,
    "tags": []
   },
   "source": [
    "# Qiskit Documentation"
   ]
  },
  {
   "cell_type": "code",
   "execution_count": 27,
   "id": "44b5c55b-8a7a-4953-9752-e62309866f19",
   "metadata": {},
   "outputs": [],
   "source": [
    "from qiskit import QuantumRegister, ClassicalRegister, QuantumCircuit\n",
    "from qiskit.circuit.random import random_circuit"
   ]
  },
  {
   "cell_type": "markdown",
   "id": "87c25483-7b9a-441b-95fc-a813ef21b1a3",
   "metadata": {
    "jp-MarkdownHeadingCollapsed": true,
    "tags": []
   },
   "source": [
    "## Quantum Circuit"
   ]
  },
  {
   "cell_type": "markdown",
   "id": "fdd2b071-a8c1-4bb4-a4a3-9fea4de3310f",
   "metadata": {},
   "source": [
    "Making conditional gates with c_if"
   ]
  },
  {
   "cell_type": "code",
   "execution_count": 22,
   "id": "e5fa0e61-0380-4d5e-8373-701d5d2c8e78",
   "metadata": {},
   "outputs": [
    {
     "data": {
      "image/png": "[encoded data removed]",
      "text/plain": [
       "<Figure size 266.907x144.48 with 1 Axes>"
      ]
     },
     "execution_count": 22,
     "metadata": {},
     "output_type": "execute_result"
    }
   ],
   "source": [
    "qr = QuantumRegister(1)\n",
    "cr = ClassicalRegister(1)\n",
    "qc = QuantumCircuit(qr, cr)\n",
    "qc.h(0)\n",
    "qc.measure(0, 0)\n",
    "\n",
    "qc.x(0).c_if(cr, 0)\n",
    "qc.draw('mpl')"
   ]
  },
  {
   "cell_type": "markdown",
   "id": "4d1ffbfc-c5d0-4cd6-ad26-d5c714d29656",
   "metadata": {},
   "source": [
    "Getting properties of the circuit"
   ]
  },
  {
   "cell_type": "code",
   "execution_count": 24,
   "id": "988085d7-6eb3-4ab3-a3f8-a86033cffa4d",
   "metadata": {},
   "outputs": [
    {
     "data": {
      "text/plain": [
       "OrderedDict([('cx', 8), ('h', 5), ('x', 3), ('swap', 3)])"
      ]
     },
     "execution_count": 24,
     "metadata": {},
     "output_type": "execute_result"
    }
   ],
   "source": [
    "qc = QuantumCircuit(12)\n",
    "for idx in range(5):\n",
    "    qc.h(idx)\n",
    "    qc.cx(idx, idx+5)\n",
    "qc.cx(1, 7)\n",
    "qc.x(8)\n",
    "qc.cx(1, 9)\n",
    "qc.x(7)\n",
    "qc.cx(1, 11)\n",
    "qc.swap(6, 11)\n",
    "qc.swap(6, 9)\n",
    "qc.swap(6, 10)\n",
    "qc.x(6)\n",
    "\n",
    "qc.width() # qubits AND classical bits\n",
    "qc.num_qubits\n",
    "qc.count_ops() # value counts of different gates\n",
    "qc.size() # sum of value counts\n",
    "qc.depth()\n"
   ]
  },
  {
   "cell_type": "markdown",
   "id": "903eed0b-7bd7-4aff-b50c-d2f529e61a50",
   "metadata": {},
   "source": [
    "Draw a random circuit! Could be useful"
   ]
  },
  {
   "cell_type": "code",
   "execution_count": 29,
   "id": "17552e37-463c-421a-8a76-2aebaf90898b",
   "metadata": {},
   "outputs": [
    {
     "data": {
      "image/png": "[encoded data removed]",
      "text/plain": [
       "<Figure size 327.252x204.68 with 1 Axes>"
      ]
     },
     "execution_count": 29,
     "metadata": {},
     "output_type": "execute_result"
    }
   ],
   "source": [
    "qc = random_circuit(2, 2, measure=True)\n",
    "qc.draw('mpl')"
   ]
  },
  {
   "cell_type": "markdown",
   "id": "1317312c-5ec3-4253-b22c-857df13240ca",
   "metadata": {
    "jp-MarkdownHeadingCollapsed": true,
    "tags": []
   },
   "source": [
    "## Quantum/Classical Register"
   ]
  },
  {
   "cell_type": "markdown",
   "id": "63c08db2-7b83-455e-a047-b2c35a406074",
   "metadata": {},
   "source": [
    "Takes in a size, names, and specific bits (all optional). It is basically just a named set of qubits/bits that you can put into a circuit."
   ]
  },
  {
   "cell_type": "code",
   "execution_count": null,
   "id": "0a28cac5-812a-42ee-99cf-699ca6da3785",
   "metadata": {},
   "outputs": [],
   "source": []
  }
 ],
 "metadata": {
  "kernelspec": {
   "display_name": "quantum",
   "language": "python",
   "name": "quantum"
  },
  "language_info": {
   "codemirror_mode": {
    "name": "ipython",
    "version": 3
   },
   "file_extension": ".py",
   "mimetype": "text/x-python",
   "name": "python",
   "nbconvert_exporter": "python",
   "pygments_lexer": "ipython3",
   "version": "3.11.3"
  }
 },
 "nbformat": 4,
 "nbformat_minor": 5
}

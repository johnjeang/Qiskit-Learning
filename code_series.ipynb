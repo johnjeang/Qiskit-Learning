{
 "cells": [
  {
   "cell_type": "code",
   "execution_count": 48,
   "id": "747b3691-19d0-44ab-adb8-9acedd3b962f",
   "metadata": {},
   "outputs": [],
   "source": [
    "from qiskit import *\n",
    "from qiskit.tools.visualization import plot_histogram"
   ]
  },
  {
   "cell_type": "markdown",
   "id": "e008d9f3-cb7f-4dce-9459-84da9a4c2c34",
   "metadata": {
    "jp-MarkdownHeadingCollapsed": true
   },
   "source": [
    "# Season One (Basics)"
   ]
  },
  {
   "cell_type": "markdown",
   "id": "51827102-e4a7-4a88-9688-3eb77b3a62de",
   "metadata": {
    "jp-MarkdownHeadingCollapsed": true,
    "tags": []
   },
   "source": [
    "## Setting up IBM Token"
   ]
  },
  {
   "cell_type": "code",
   "execution_count": 2,
   "id": "352f2e3f-4ca5-48e1-8b93-963aa86c715a",
   "metadata": {},
   "outputs": [],
   "source": [
    "from qiskit import IBMQ"
   ]
  },
  {
   "cell_type": "code",
   "execution_count": 3,
   "id": "97759c85-a9f1-4765-a2e3-e94e9058be62",
   "metadata": {},
   "outputs": [
    {
     "name": "stderr",
     "output_type": "stream",
     "text": [
      "/var/folders/06/kt3wlz1x285bzg98r_byq_480000gn/T/ipykernel_14421/4190701262.py:1: DeprecationWarning: The package qiskit.providers.ibmq is being deprecated. Please see https://ibm.biz/provider_migration_guide to get instructions on how to migrate to qiskit-ibm-provider (https://github.com/Qiskit/qiskit-ibm-provider) and qiskit-ibm-runtime (https://github.com/Qiskit/qiskit-ibm-runtime).\n",
      "  IBMQ.save_account('0c83235dfdb38f43eb41f2e7c2962cc95af284fe46d1434151cd439eab3f5ce9d53a6805cede3054a985a10e43874de7f4dff0a9eb3b7388150d290c0ebe9bda')\n",
      "/var/folders/06/kt3wlz1x285bzg98r_byq_480000gn/T/ipykernel_14421/4190701262.py:1: DeprecationWarning: The qiskit.IBMQ entrypoint and the qiskit-ibmq-provider package (accessible from 'qiskit.providers.ibmq`) are deprecated and will be removed in a future release. Instead you should use the qiskit-ibm-provider package which is accessible from 'qiskit_ibm_provider'. You can install it with 'pip install qiskit_ibm_provider'. Just replace 'qiskit.IBMQ' with 'qiskit_ibm_provider.IBMProvider'\n",
      "  IBMQ.save_account('0c83235dfdb38f43eb41f2e7c2962cc95af284fe46d1434151cd439eab3f5ce9d53a6805cede3054a985a10e43874de7f4dff0a9eb3b7388150d290c0ebe9bda')\n"
     ]
    }
   ],
   "source": [
    "IBMQ.save_account('0c83235dfdb38f43eb41f2e7c2962cc95af284fe46d1434151cd439eab3f5ce9d53a6805cede3054a985a10e43874de7f4dff0a9eb3b7388150d290c0ebe9bda')"
   ]
  },
  {
   "cell_type": "code",
   "execution_count": 2,
   "id": "fef767d1-c029-4408-b9cc-cd469f7f75b0",
   "metadata": {},
   "outputs": [
    {
     "name": "stderr",
     "output_type": "stream",
     "text": [
      "/var/folders/06/kt3wlz1x285bzg98r_byq_480000gn/T/ipykernel_27552/485379158.py:1: DeprecationWarning: The package qiskit.providers.ibmq is being deprecated. Please see https://ibm.biz/provider_migration_guide to get instructions on how to migrate to qiskit-ibm-provider (https://github.com/Qiskit/qiskit-ibm-provider) and qiskit-ibm-runtime (https://github.com/Qiskit/qiskit-ibm-runtime).\n",
      "  IBMQ.load_account()\n",
      "/var/folders/06/kt3wlz1x285bzg98r_byq_480000gn/T/ipykernel_27552/485379158.py:1: DeprecationWarning: The qiskit.IBMQ entrypoint and the qiskit-ibmq-provider package (accessible from 'qiskit.providers.ibmq`) are deprecated and will be removed in a future release. Instead you should use the qiskit-ibm-provider package which is accessible from 'qiskit_ibm_provider'. You can install it with 'pip install qiskit_ibm_provider'. Just replace 'qiskit.IBMQ' with 'qiskit_ibm_provider.IBMProvider'\n",
      "  IBMQ.load_account()\n"
     ]
    },
    {
     "data": {
      "text/plain": [
       "<AccountProvider for IBMQ(hub='ibm-q', group='open', project='main')>"
      ]
     },
     "execution_count": 2,
     "metadata": {},
     "output_type": "execute_result"
    }
   ],
   "source": [
    "IBMQ.load_account()"
   ]
  },
  {
   "cell_type": "markdown",
   "id": "984ec4d9-a2f9-40cf-b660-1811c0323645",
   "metadata": {
    "jp-MarkdownHeadingCollapsed": true,
    "tags": []
   },
   "source": [
    "## Hello World"
   ]
  },
  {
   "cell_type": "code",
   "execution_count": 17,
   "id": "a41732d4-2777-4a4b-a1f8-6f857bd352e2",
   "metadata": {},
   "outputs": [],
   "source": [
    "qr = QuantumRegister(2)\n",
    "cr = ClassicalRegister(2)\n",
    "quantum_ckt = QuantumCircuit(qr, cr)"
   ]
  },
  {
   "cell_type": "code",
   "execution_count": 18,
   "id": "3ed540df-add9-40ce-86b7-aee4a8f76b77",
   "metadata": {},
   "outputs": [
    {
     "data": {
      "image/png": "[encoded data removed]",
      "text/plain": [
       "<Figure size 129.533x204.68 with 1 Axes>"
      ]
     },
     "execution_count": 18,
     "metadata": {},
     "output_type": "execute_result"
    }
   ],
   "source": [
    "quantum_ckt.draw('mpl')"
   ]
  },
  {
   "cell_type": "code",
   "execution_count": 19,
   "id": "f54ff997-d8e5-4053-8ca1-57d2c16afe39",
   "metadata": {},
   "outputs": [
    {
     "data": {
      "text/plain": [
       "<qiskit.circuit.instructionset.InstructionSet at 0x15456f3a0>"
      ]
     },
     "execution_count": 19,
     "metadata": {},
     "output_type": "execute_result"
    }
   ],
   "source": [
    "# create bell state\n",
    "quantum_ckt.h(qr[0])\n",
    "quantum_ckt.cnot(qr[0], qr[1])"
   ]
  },
  {
   "cell_type": "code",
   "execution_count": 20,
   "id": "488f420b-b485-484c-959a-1982bcfe3440",
   "metadata": {},
   "outputs": [
    {
     "data": {
      "text/plain": [
       "<qiskit.circuit.instructionset.InstructionSet at 0x15456f9a0>"
      ]
     },
     "execution_count": 20,
     "metadata": {},
     "output_type": "execute_result"
    }
   ],
   "source": [
    "quantum_ckt.measure(qr, cr)"
   ]
  },
  {
   "cell_type": "code",
   "execution_count": 21,
   "id": "302e0cb2-8ce2-456b-b42a-68e34a78bb83",
   "metadata": {},
   "outputs": [
    {
     "data": {
      "image/png": "[encoded data removed]",
      "text/plain": [
       "<Figure size 340.233x204.68 with 1 Axes>"
      ]
     },
     "execution_count": 21,
     "metadata": {},
     "output_type": "execute_result"
    }
   ],
   "source": [
    "quantum_ckt.draw('mpl')"
   ]
  },
  {
   "cell_type": "code",
   "execution_count": 24,
   "id": "f6c3c6d9-0e36-489e-bd33-c995decc6043",
   "metadata": {},
   "outputs": [],
   "source": [
    "simulator = Aer.get_backend('qasm_simulator')"
   ]
  },
  {
   "cell_type": "code",
   "execution_count": 25,
   "id": "9aeb93c9-aa91-427f-9fd4-e1a04575f03a",
   "metadata": {},
   "outputs": [],
   "source": [
    "results = execute(quantum_ckt, backend=simulator).result()"
   ]
  },
  {
   "cell_type": "code",
   "execution_count": 28,
   "id": "808d45cc-fcfa-4d0e-9680-e0ca68d03d69",
   "metadata": {},
   "outputs": [
    {
     "data": {
      "image/png": "[encoded data removed]",
      "text/plain": [
       "<Figure size 504x360 with 1 Axes>"
      ]
     },
     "execution_count": 28,
     "metadata": {},
     "output_type": "execute_result"
    }
   ],
   "source": [
    "plot_histogram(results.get_counts(quantum_ckt))"
   ]
  },
  {
   "cell_type": "code",
   "execution_count": 5,
   "id": "d76b815b-b717-4a90-bfbd-9f295b1721e5",
   "metadata": {},
   "outputs": [
    {
     "name": "stderr",
     "output_type": "stream",
     "text": [
      "ibmqfactory.load_account:WARNING:2024-03-25 16:19:16,811: Credentials are already in use. The existing account in the session will be replaced.\n"
     ]
    },
    {
     "data": {
      "text/plain": [
       "<AccountProvider for IBMQ(hub='ibm-q', group='open', project='main')>"
      ]
     },
     "execution_count": 5,
     "metadata": {},
     "output_type": "execute_result"
    }
   ],
   "source": [
    "IBMQ.load_account()"
   ]
  },
  {
   "cell_type": "code",
   "execution_count": 6,
   "id": "f559c211-bd2d-4249-b183-ce0b66cf2563",
   "metadata": {},
   "outputs": [],
   "source": [
    "provider = IBMQ.get_provider('ibm-q')"
   ]
  },
  {
   "cell_type": "code",
   "execution_count": 8,
   "id": "49414adf-2ded-427b-83e4-bf06b8a1bee2",
   "metadata": {},
   "outputs": [
    {
     "data": {
      "text/plain": [
       "[<IBMQSimulator('ibmq_qasm_simulator') from IBMQ(hub='ibm-q', group='open', project='main')>,\n",
       " <IBMQSimulator('simulator_statevector') from IBMQ(hub='ibm-q', group='open', project='main')>,\n",
       " <IBMQSimulator('simulator_mps') from IBMQ(hub='ibm-q', group='open', project='main')>,\n",
       " <IBMQSimulator('simulator_extended_stabilizer') from IBMQ(hub='ibm-q', group='open', project='main')>,\n",
       " <IBMQSimulator('simulator_stabilizer') from IBMQ(hub='ibm-q', group='open', project='main')>,\n",
       " <IBMQBackend('ibm_brisbane') from IBMQ(hub='ibm-q', group='open', project='main')>,\n",
       " <IBMQBackend('ibm_kyoto') from IBMQ(hub='ibm-q', group='open', project='main')>,\n",
       " <IBMQBackend('ibm_osaka') from IBMQ(hub='ibm-q', group='open', project='main')>]"
      ]
     },
     "execution_count": 8,
     "metadata": {},
     "output_type": "execute_result"
    }
   ],
   "source": [
    "provider.backends()"
   ]
  },
  {
   "cell_type": "code",
   "execution_count": 11,
   "id": "143c0105-ccfa-4c06-bed8-dce4b8726ac5",
   "metadata": {},
   "outputs": [],
   "source": [
    "qcomp = provider.get_backend('ibm_osaka')"
   ]
  },
  {
   "cell_type": "code",
   "execution_count": 29,
   "id": "0b235d1f-e0a8-475a-9608-5700ef9accfc",
   "metadata": {},
   "outputs": [],
   "source": [
    "job = execute(quantum_ckt, backend=qcomp)"
   ]
  },
  {
   "cell_type": "markdown",
   "id": "11600ffb-a5b7-445e-8f60-a6f7d5574228",
   "metadata": {},
   "source": [
    "Basically the job was sent to a literal quantum computer so it gets shoved into an actual queue"
   ]
  },
  {
   "cell_type": "code",
   "execution_count": 30,
   "id": "4de4270d-74bb-424d-94e1-1d5ee4529e25",
   "metadata": {},
   "outputs": [],
   "source": [
    "from qiskit.tools.monitor import job_monitor"
   ]
  },
  {
   "cell_type": "code",
   "execution_count": 43,
   "id": "49aa2839-31bc-4313-b528-9f9383320e6b",
   "metadata": {},
   "outputs": [
    {
     "name": "stdout",
     "output_type": "stream",
     "text": [
      "Job Status: job has successfully run\n"
     ]
    }
   ],
   "source": [
    "job_monitor(job)"
   ]
  },
  {
   "cell_type": "code",
   "execution_count": 44,
   "id": "3d969abc-020c-48bd-83b8-b6f2e968b0b1",
   "metadata": {
    "tags": []
   },
   "outputs": [],
   "source": [
    "result = job.result()"
   ]
  },
  {
   "cell_type": "markdown",
   "id": "c608ec35-7abc-410e-b342-d90e36c26d08",
   "metadata": {},
   "source": [
    "The simulator simulates a perfect quantum computer, but the actual quantum computer has some associated noise so there are occasional unexpected values. For example, the $$|01>$$ state shouldn't be measurable here but it is because of hardware errors"
   ]
  },
  {
   "cell_type": "markdown",
   "id": "9f7819ed-f55c-424b-b908-a54672b4aec8",
   "metadata": {},
   "source": [
    "UPDATE: this job is successfully get submitted and run! It is possible to check on the IBM account!"
   ]
  },
  {
   "cell_type": "markdown",
   "id": "071dcde4-79d8-4e8c-98ae-f781803b392f",
   "metadata": {
    "tags": []
   },
   "source": [
    "## Building blocks of Quantum Circuits"
   ]
  },
  {
   "cell_type": "code",
   "execution_count": 3,
   "id": "e2fe1f93-c568-461a-9882-c1c7ef356597",
   "metadata": {},
   "outputs": [],
   "source": [
    "from qiskit.tools.visualization import plot_bloch_multivector"
   ]
  },
  {
   "cell_type": "markdown",
   "id": "fef4b9ef-9dc1-40a3-8f9d-bdd69612ea14",
   "metadata": {},
   "source": [
    "It seems that the simulator used actually affects what capabilities the backend actually has..?"
   ]
  },
  {
   "cell_type": "code",
   "execution_count": 4,
   "id": "f7501d9d-2446-4790-bd2c-7406660ceb55",
   "metadata": {},
   "outputs": [],
   "source": [
    "ckt = QuantumCircuit(1)\n",
    "ckt.x(0)\n",
    "simulator = Aer.get_backend('aer_simulator_statevector')"
   ]
  },
  {
   "cell_type": "code",
   "execution_count": 5,
   "id": "26a0ba78-6118-43a8-997f-55d0a7eb3d78",
   "metadata": {},
   "outputs": [
    {
     "data": {
      "image/png": "[encoded data removed]",
      "text/plain": [
       "<Figure size 133.526x84.28 with 1 Axes>"
      ]
     },
     "execution_count": 5,
     "metadata": {},
     "output_type": "execute_result"
    }
   ],
   "source": [
    "ckt.draw('mpl')"
   ]
  },
  {
   "cell_type": "code",
   "execution_count": 87,
   "id": "a2e7fe1f-236b-449c-b3c4-3cf73143cd8a",
   "metadata": {},
   "outputs": [],
   "source": [
    "ckt.save_statevector()\n",
    "#result = simulator.run(transpile(ckt, simulator)).result()\n",
    "result = execute(ckt, backend=simulator).result()\n",
    "\n",
    "statevector = result.get_statevector(ckt)"
   ]
  },
  {
   "cell_type": "code",
   "execution_count": 88,
   "id": "4727f9cc-a662-480e-8a7f-948ee6efb84c",
   "metadata": {},
   "outputs": [
    {
     "name": "stdout",
     "output_type": "stream",
     "text": [
      "Statevector([0.+0.j, 1.+0.j],\n",
      "            dims=(2,))\n"
     ]
    }
   ],
   "source": [
    "statevector"
   ]
  },
  {
   "cell_type": "code",
   "execution_count": 89,
   "id": "672cf6e1-8080-4bd8-9daa-3ad6609544eb",
   "metadata": {},
   "outputs": [
    {
     "data": {
      "image/png": "[encoded data removed]",
      "text/plain": [
       "<Figure size 288x288 with 1 Axes>"
      ]
     },
     "execution_count": 89,
     "metadata": {},
     "output_type": "execute_result"
    }
   ],
   "source": [
    "plot_bloch_multivector(statevector)"
   ]
  },
  {
   "cell_type": "code",
   "execution_count": 91,
   "id": "9ff64bac-957b-4d16-98ae-f47d70d47677",
   "metadata": {},
   "outputs": [
    {
     "data": {
      "image/png": "[encoded data removed]",
      "text/plain": [
       "<Figure size 504x360 with 1 Axes>"
      ]
     },
     "execution_count": 91,
     "metadata": {},
     "output_type": "execute_result"
    }
   ],
   "source": [
    "ckt.measure(0, 0)\n",
    "backend = Aer.get_backend('qasm_simulator')\n",
    "result = execute(ckt, backend = backend, shots = 1024).result()\n",
    "plot_histogram(result.get_counts())"
   ]
  },
  {
   "cell_type": "code",
   "execution_count": 107,
   "id": "1831a3c0-80cd-4b23-8c02-4f54b207fe15",
   "metadata": {},
   "outputs": [
    {
     "data": {
      "image/png": "[encoded data removed]",
      "text/plain": [
       "<Figure size 133.526x144.48 with 1 Axes>"
      ]
     },
     "execution_count": 107,
     "metadata": {},
     "output_type": "execute_result"
    }
   ],
   "source": [
    "ckt.draw('mpl')"
   ]
  },
  {
   "cell_type": "code",
   "execution_count": 8,
   "id": "58c71fe1-b2b0-4064-b13f-ca6b64dcc697",
   "metadata": {},
   "outputs": [],
   "source": [
    "ckt.save_unitary()\n",
    "backend = Aer.get_backend('aer_simulator_unitary')\n",
    "result = execute(ckt, backend = backend).result()\n",
    "#unitary = result.get_unitary()"
   ]
  },
  {
   "cell_type": "code",
   "execution_count": 9,
   "id": "f8c1166c-d238-4c50-a44d-35d78c950fd7",
   "metadata": {},
   "outputs": [
    {
     "data": {
      "text/plain": [
       "Operator([[0.+0.j, 1.+0.j],\n",
       "          [1.+0.j, 0.+0.j]],\n",
       "         input_dims=(2,), output_dims=(2,))"
      ]
     },
     "execution_count": 9,
     "metadata": {},
     "output_type": "execute_result"
    }
   ],
   "source": [
    "result.get_unitary(ckt)"
   ]
  },
  {
   "cell_type": "markdown",
   "id": "4ed30d67-a7ad-49a8-bb66-e8e28aadc6f8",
   "metadata": {
    "jp-MarkdownHeadingCollapsed": true,
    "tags": []
   },
   "source": [
    "## Quantum Teleportation"
   ]
  },
  {
   "cell_type": "code",
   "execution_count": 16,
   "id": "e44da8c6-25d2-4eb7-9ded-e00be08ec713",
   "metadata": {},
   "outputs": [
    {
     "data": {
      "text/plain": [
       "<qiskit.circuit.instructionset.InstructionSet at 0x1589404f0>"
      ]
     },
     "execution_count": 16,
     "metadata": {},
     "output_type": "execute_result"
    }
   ],
   "source": [
    "# initialize the first qubit to be in state |1>\n",
    "qc = QuantumCircuit(3, 3)\n",
    "qc.x(0)\n",
    "qc.barrier()\n",
    "\n",
    "# creating bell state\n",
    "qc.h(1)\n",
    "qc.cx(1, 2)\n",
    "qc.barrier()\n",
    "\n",
    "# teleportation protocol\n",
    "qc.cx(0,1)\n",
    "qc.h(0)\n",
    "qc.measure([0,1], [0,1])\n",
    "qc.barrier()\n",
    "\n",
    "# now based on the measured outcomes we can teleport qubit 0 to qubit 2\n",
    "qc.cx(1,2)\n",
    "qc.cz(0,2)\n",
    "qc.measure(2, 2)"
   ]
  },
  {
   "cell_type": "code",
   "execution_count": 17,
   "id": "d883e7b8-52ed-4618-8f3a-e9cdb5cf5ffc",
   "metadata": {},
   "outputs": [
    {
     "data": {
      "image/png": "[encoded data removed]",
      "text/plain": [
       "<Figure size 808.997x264.88 with 1 Axes>"
      ]
     },
     "execution_count": 17,
     "metadata": {},
     "output_type": "execute_result"
    }
   ],
   "source": [
    "qc.draw('mpl')"
   ]
  },
  {
   "cell_type": "markdown",
   "id": "17d5584c-2bc7-43f6-a22f-4cbc5c9f1ea2",
   "metadata": {},
   "source": [
    "Could I have achieved this by creating the bell state separately? Kind of.. I didn't find a much better way than this"
   ]
  },
  {
   "cell_type": "code",
   "execution_count": 14,
   "id": "f9f249aa-cedb-4b57-8abb-38c8ffef4032",
   "metadata": {},
   "outputs": [
    {
     "data": {
      "image/png": "[encoded data removed]",
      "text/plain": [
       "<Figure size 220.123x204.68 with 1 Axes>"
      ]
     },
     "execution_count": 14,
     "metadata": {},
     "output_type": "execute_result"
    }
   ],
   "source": [
    "bell = QuantumRegister(2)\n",
    "one = QuantumRegister(1)\n",
    "\n",
    "qc = QuantumCircuit(one, bell)\n",
    "qc.x(one[0])\n",
    "qc.h(bell[0])\n",
    "qc.cx(bell[0], bell[1])\n",
    "\n",
    "qc.draw('mpl')"
   ]
  },
  {
   "cell_type": "code",
   "execution_count": 18,
   "id": "0eaf5b44-602f-490c-9de5-cae5013bd366",
   "metadata": {},
   "outputs": [],
   "source": [
    "simulator = Aer.get_backend('qasm_simulator')\n",
    "result = execute(qc, backend = simulator, shots = 1024).result()\n",
    "counts = result.get_counts()"
   ]
  },
  {
   "cell_type": "markdown",
   "id": "ebebb759-5096-4acc-a544-bba4786fa7cf",
   "metadata": {},
   "source": [
    "Qubit order is read \"upwards\" the same as circuit going upwards"
   ]
  },
  {
   "cell_type": "code",
   "execution_count": 19,
   "id": "5cffeffa-e4f4-4549-b056-119c543cd822",
   "metadata": {},
   "outputs": [
    {
     "data": {
      "image/png": "[encoded data removed]",
      "text/plain": [
       "<Figure size 504x360 with 1 Axes>"
      ]
     },
     "execution_count": 19,
     "metadata": {},
     "output_type": "execute_result"
    }
   ],
   "source": [
    "plot_histogram(counts)"
   ]
  },
  {
   "cell_type": "markdown",
   "id": "e31f4466-ee67-4b40-adea-966d3ab1a3ae",
   "metadata": {},
   "source": [
    "What happens if you get results without measurement?"
   ]
  },
  {
   "cell_type": "code",
   "execution_count": 35,
   "id": "5facfea4-6665-41e0-bd90-65bbbe7a3758",
   "metadata": {},
   "outputs": [
    {
     "data": {
      "text/plain": [
       "<qiskit.circuit.instructionset.InstructionSet at 0x15a481210>"
      ]
     },
     "execution_count": 35,
     "metadata": {},
     "output_type": "execute_result"
    }
   ],
   "source": [
    "# initialize the first qubit to be in state |1>\n",
    "qc = QuantumCircuit(3, 3)\n",
    "qc.x(0)\n",
    "qc.barrier()\n",
    "\n",
    "# creating bell state\n",
    "qc.h(1)\n",
    "qc.cx(1, 2)\n",
    "qc.barrier()\n",
    "\n",
    "# teleportation protocol\n",
    "qc.cx(0,1)\n",
    "qc.h(0)\n",
    "qc.barrier()\n",
    "\n",
    "# now based on the measured outcomes we can teleport qubit 0 to qubit 2\n",
    "# the classical info transport is equivalent to just using control gates\n",
    "qc.cx(1,2)\n",
    "qc.cz(0,2)"
   ]
  },
  {
   "cell_type": "code",
   "execution_count": 36,
   "id": "3a9a6bf5-d42d-4438-977c-52540ead5786",
   "metadata": {},
   "outputs": [
    {
     "data": {
      "image/png": "[encoded data removed]",
      "text/plain": [
       "<Figure size 688.597x264.88 with 1 Axes>"
      ]
     },
     "execution_count": 36,
     "metadata": {},
     "output_type": "execute_result"
    }
   ],
   "source": [
    "qc.draw('mpl')"
   ]
  },
  {
   "cell_type": "markdown",
   "id": "bede7bb3-b1d2-4ee3-869c-c988cc5ead65",
   "metadata": {},
   "source": [
    "Ah ok, you get an error. So I guess you cannot do that"
   ]
  },
  {
   "cell_type": "code",
   "execution_count": 37,
   "id": "c0c59d23-22a7-4523-996e-030e6cf6c3ba",
   "metadata": {},
   "outputs": [
    {
     "ename": "QiskitError",
     "evalue": "'No counts for experiment \"0\"'",
     "output_type": "error",
     "traceback": [
      "\u001b[0;31m---------------------------------------------------------------------------\u001b[0m",
      "\u001b[0;31mQiskitError\u001b[0m                               Traceback (most recent call last)",
      "Cell \u001b[0;32mIn[37], line 3\u001b[0m\n\u001b[1;32m      1\u001b[0m simulator \u001b[38;5;241m=\u001b[39m Aer\u001b[38;5;241m.\u001b[39mget_backend(\u001b[38;5;124m'\u001b[39m\u001b[38;5;124mqasm_simulator\u001b[39m\u001b[38;5;124m'\u001b[39m)\n\u001b[1;32m      2\u001b[0m result \u001b[38;5;241m=\u001b[39m execute(qc, backend \u001b[38;5;241m=\u001b[39m simulator, shots \u001b[38;5;241m=\u001b[39m \u001b[38;5;241m1024\u001b[39m)\u001b[38;5;241m.\u001b[39mresult()\n\u001b[0;32m----> 3\u001b[0m counts \u001b[38;5;241m=\u001b[39m result\u001b[38;5;241m.\u001b[39mget_counts()\n",
      "File \u001b[0;32m~/opt/anaconda3/envs/quantum/lib/python3.11/site-packages/qiskit/result/result.py:289\u001b[0m, in \u001b[0;36mResult.get_counts\u001b[0;34m(self, experiment)\u001b[0m\n\u001b[1;32m    287\u001b[0m         dict_list\u001b[38;5;241m.\u001b[39mappend(statevector\u001b[38;5;241m.\u001b[39mStatevector(vec)\u001b[38;5;241m.\u001b[39mprobabilities_dict(decimals\u001b[38;5;241m=\u001b[39m\u001b[38;5;241m15\u001b[39m))\n\u001b[1;32m    288\u001b[0m     \u001b[38;5;28;01melse\u001b[39;00m:\n\u001b[0;32m--> 289\u001b[0m         \u001b[38;5;28;01mraise\u001b[39;00m QiskitError(\u001b[38;5;124mf\u001b[39m\u001b[38;5;124m'\u001b[39m\u001b[38;5;124mNo counts for experiment \u001b[39m\u001b[38;5;124m\"\u001b[39m\u001b[38;5;132;01m{\u001b[39;00m\u001b[38;5;28mrepr\u001b[39m(key)\u001b[38;5;132;01m}\u001b[39;00m\u001b[38;5;124m\"\u001b[39m\u001b[38;5;124m'\u001b[39m)\n\u001b[1;32m    291\u001b[0m \u001b[38;5;66;03m# Return first item of dict_list if size is 1\u001b[39;00m\n\u001b[1;32m    292\u001b[0m \u001b[38;5;28;01mif\u001b[39;00m \u001b[38;5;28mlen\u001b[39m(dict_list) \u001b[38;5;241m==\u001b[39m \u001b[38;5;241m1\u001b[39m:\n",
      "\u001b[0;31mQiskitError\u001b[0m: 'No counts for experiment \"0\"'"
     ]
    }
   ],
   "source": [
    "simulator = Aer.get_backend('qasm_simulator')\n",
    "result = execute(qc, backend = simulator, shots = 1024).result()\n",
    "counts = result.get_counts()"
   ]
  },
  {
   "cell_type": "markdown",
   "id": "46e50073-c716-4199-a37f-6d219b8142b6",
   "metadata": {
    "jp-MarkdownHeadingCollapsed": true,
    "tags": []
   },
   "source": [
    "## Bernstein Vazirani Algorithm"
   ]
  },
  {
   "cell_type": "markdown",
   "id": "6dffb2aa-a07b-4aa0-b2f7-4b0743554ea7",
   "metadata": {},
   "source": [
    "The situation is that the quantum computer has to guess a \"secret sting\". The secret string is a parameter for an UNKNOWN FUNCTION that XORs an input on the indices of the \"secret string\""
   ]
  },
  {
   "cell_type": "code",
   "execution_count": null,
   "id": "1ea8cd6a-0964-43da-a6f6-3f21a4dc4547",
   "metadata": {},
   "outputs": [],
   "source": [
    "# 101001 - pretend this is the secret number"
   ]
  },
  {
   "cell_type": "code",
   "execution_count": 40,
   "id": "b98c2919-2e64-4ca9-9a2b-543924f6b66f",
   "metadata": {},
   "outputs": [
    {
     "data": {
      "text/plain": [
       "<qiskit.circuit.instructionset.InstructionSet at 0x15a69c070>"
      ]
     },
     "execution_count": 40,
     "metadata": {},
     "output_type": "execute_result"
    }
   ],
   "source": [
    "# Here are are simply preparing our input with the uniform state and a minus ancilla\n",
    "\n",
    "\n",
    "qc = QuantumCircuit(6 + 1, 6) # you have 1 extra qubit for a secret string of length n\n",
    "qc.h([0,1,2,3,4,5])\n",
    "qc.x(6)\n",
    "qc.h(6)\n",
    "qc.barrier()"
   ]
  },
  {
   "cell_type": "code",
   "execution_count": 41,
   "id": "b86d3f2d-07ca-4f71-bf32-e205843aaf36",
   "metadata": {},
   "outputs": [
    {
     "data": {
      "image/png": "[encoded data removed]",
      "text/plain": [
       "<Figure size 267.197x505.68 with 1 Axes>"
      ]
     },
     "execution_count": 41,
     "metadata": {},
     "output_type": "execute_result"
    }
   ],
   "source": [
    "qc.draw('mpl')"
   ]
  },
  {
   "cell_type": "code",
   "execution_count": 42,
   "id": "a820ca7e-3177-4920-a8bf-a3fbaa40d45e",
   "metadata": {},
   "outputs": [
    {
     "data": {
      "text/plain": [
       "<qiskit.circuit.instructionset.InstructionSet at 0x15a2e8fd0>"
      ]
     },
     "execution_count": 42,
     "metadata": {},
     "output_type": "execute_result"
    }
   ],
   "source": [
    "# Here are are implementing the UNKNOWN XOR FUNCTION\n",
    "# In general you would not know this function and could only read the outputs\n",
    "\n",
    "# cx on each of 101001 to the ancilla qubit makes this XOR function. Note that the bits are read in reverse\n",
    "qc.cx(5, 6)\n",
    "qc.cx(3, 6)\n",
    "qc.cx(0, 6)\n",
    "qc.barrier()"
   ]
  },
  {
   "cell_type": "code",
   "execution_count": 43,
   "id": "a8d8adb1-ac6d-48e4-8f76-a0105cbb19e2",
   "metadata": {},
   "outputs": [
    {
     "data": {
      "image/png": "[encoded data removed]",
      "text/plain": [
       "<Figure size 447.797x505.68 with 1 Axes>"
      ]
     },
     "execution_count": 43,
     "metadata": {},
     "output_type": "execute_result"
    }
   ],
   "source": [
    "qc.draw('mpl')"
   ]
  },
  {
   "cell_type": "code",
   "execution_count": 44,
   "id": "50885ff2-e2a9-4153-9510-27bc9fb10624",
   "metadata": {},
   "outputs": [
    {
     "data": {
      "text/plain": [
       "<qiskit.circuit.instructionset.InstructionSet at 0x15a2ebd30>"
      ]
     },
     "execution_count": 44,
     "metadata": {},
     "output_type": "execute_result"
    }
   ],
   "source": [
    "qc.h([0,1,2,3,4,5])\n",
    "qc.measure([0,1,2,3,4,5], [0,1,2,3,4,5])"
   ]
  },
  {
   "cell_type": "code",
   "execution_count": 46,
   "id": "79f02ad0-0a12-4ef5-82c3-fd780650196f",
   "metadata": {},
   "outputs": [],
   "source": [
    "simulator = Aer.get_backend('qasm_simulator')\n",
    "results = execute(qc, simulator, shots=1024).result()"
   ]
  },
  {
   "cell_type": "markdown",
   "id": "56116e29-e3e1-4df0-a4be-5934eebb6bd0",
   "metadata": {},
   "source": [
    "And voila, the measurement always returns what the function was!"
   ]
  },
  {
   "cell_type": "code",
   "execution_count": 47,
   "id": "c71978e0-83c6-4509-a603-dbc974173bd8",
   "metadata": {},
   "outputs": [
    {
     "data": {
      "text/plain": [
       "{'101001': 1024}"
      ]
     },
     "execution_count": 47,
     "metadata": {},
     "output_type": "execute_result"
    }
   ],
   "source": [
    "results.get_counts()"
   ]
  },
  {
   "cell_type": "markdown",
   "id": "92871c07-9fa2-42a7-8c2f-e20cd40f461e",
   "metadata": {
    "jp-MarkdownHeadingCollapsed": true
   },
   "source": [
    "## Mitigating Noise on Teal Quantum Computers"
   ]
  },
  {
   "cell_type": "markdown",
   "id": "fba98ed5-495c-4eca-b039-15ab2b33fcc5",
   "metadata": {},
   "source": [
    "Ignius was the original component that dealt with noise; it is now deprecated so I don't know exaclty what works with it now."
   ]
  },
  {
   "cell_type": "markdown",
   "id": "b809f609-36c6-443f-8107-5c10081f6c4f",
   "metadata": {},
   "source": [
    "## Measurement error mitigation"
   ]
  },
  {
   "cell_type": "code",
   "execution_count": 50,
   "id": "0e795516-c79c-487d-bfbf-29b806a2810b",
   "metadata": {},
   "outputs": [
    {
     "data": {
      "text/plain": [
       "<qiskit.circuit.instructionset.InstructionSet at 0x15a1cd330>"
      ]
     },
     "execution_count": 50,
     "metadata": {},
     "output_type": "execute_result"
    }
   ],
   "source": [
    "nqubits = 3\n",
    "ncbits = 3\n",
    "qc = QuantumCircuit(nqubits, ncbits)\n",
    "qc.h(0)\n",
    "qc.cx(0, 1)\n",
    "qc.cx(1,2)\n",
    "qc.measure([0,1,2], [0,1,2])"
   ]
  },
  {
   "cell_type": "code",
   "execution_count": 51,
   "id": "64132152-0eae-4a47-b65d-2e1ac19aed4c",
   "metadata": {},
   "outputs": [
    {
     "data": {
      "image/png": "[encoded data removed]",
      "text/plain": [
       "<Figure size 447.797x264.88 with 1 Axes>"
      ]
     },
     "execution_count": 51,
     "metadata": {},
     "output_type": "execute_result"
    }
   ],
   "source": [
    "qc.draw('mpl')"
   ]
  },
  {
   "cell_type": "markdown",
   "id": "c17a0565-b818-433d-85a7-15f5167b7a3b",
   "metadata": {},
   "source": [
    "Perfect simulator"
   ]
  },
  {
   "cell_type": "code",
   "execution_count": 53,
   "id": "025f5890-6a49-4b99-ad3e-e047de25a4e1",
   "metadata": {},
   "outputs": [],
   "source": [
    "simulator = Aer.get_backend('qasm_simulator')\n",
    "results = execute(qc, backend=simulator, shots=1024).result()"
   ]
  },
  {
   "cell_type": "code",
   "execution_count": 54,
   "id": "4f061c03-23cd-4389-a338-b6339575b338",
   "metadata": {},
   "outputs": [
    {
     "data": {
      "image/png": "[encoded data removed]",
      "text/plain": [
       "<Figure size 504x360 with 1 Axes>"
      ]
     },
     "execution_count": 54,
     "metadata": {},
     "output_type": "execute_result"
    }
   ],
   "source": [
    "plot_histogram(results.get_counts())"
   ]
  },
  {
   "cell_type": "markdown",
   "id": "74d54fcf-b1e2-4c6f-ae66-784fbb4aafcb",
   "metadata": {},
   "source": [
    "Noise real device"
   ]
  },
  {
   "cell_type": "code",
   "execution_count": 55,
   "id": "cb862bfe-ef86-416e-8638-b1120deaa851",
   "metadata": {},
   "outputs": [
    {
     "name": "stderr",
     "output_type": "stream",
     "text": [
      "/var/folders/06/kt3wlz1x285bzg98r_byq_480000gn/T/ipykernel_60652/1004786031.py:1: DeprecationWarning: The package qiskit.providers.ibmq is being deprecated. Please see https://ibm.biz/provider_migration_guide to get instructions on how to migrate to qiskit-ibm-provider (https://github.com/Qiskit/qiskit-ibm-provider) and qiskit-ibm-runtime (https://github.com/Qiskit/qiskit-ibm-runtime).\n",
      "  IBMQ.load_account()\n",
      "/var/folders/06/kt3wlz1x285bzg98r_byq_480000gn/T/ipykernel_60652/1004786031.py:1: DeprecationWarning: The qiskit.IBMQ entrypoint and the qiskit-ibmq-provider package (accessible from 'qiskit.providers.ibmq`) are deprecated and will be removed in a future release. Instead you should use the qiskit-ibm-provider package which is accessible from 'qiskit_ibm_provider'. You can install it with 'pip install qiskit_ibm_provider'. Just replace 'qiskit.IBMQ' with 'qiskit_ibm_provider.IBMProvider'\n",
      "  IBMQ.load_account()\n"
     ]
    }
   ],
   "source": [
    "IBMQ.load_account()\n",
    "provider = IBMQ.get_provider(hub='ibm-q')\n",
    "device = provider.get_backend('ibm_osaka')\n",
    "\n",
    "\n",
    "# seems that in the newer qiskit use \"qiskit_ibm_provider.IMBProvider intead of qiskit.IBMQ\n",
    "# should consider migrating to qiskit-ibm-runtime and qiskit-ibm-provider"
   ]
  },
  {
   "cell_type": "code",
   "execution_count": 60,
   "id": "73bcf7bf-41c4-491a-822d-9be57715e168",
   "metadata": {},
   "outputs": [],
   "source": [
    "# This is how you'd send the job over and monitor it\n",
    "\n",
    "job = execute(qc, backend = device, shots = 1024)\n",
    "print(job.job_id())\n",
    "from qiskit.tools.monitor import job_monitor\n",
    "job_monitor(job)"
   ]
  },
  {
   "cell_type": "code",
   "execution_count": null,
   "id": "7f0e9add-eb0e-4852-b23b-70feb22c9c91",
   "metadata": {},
   "outputs": [],
   "source": [
    "device_result = job.result()\n",
    "plot_histogram(device_result.get_counts(qc))"
   ]
  },
  {
   "cell_type": "markdown",
   "id": "1f4ada67-ed3f-45fd-bf19-3f48dce9a161",
   "metadata": {},
   "source": [
    "From results we can see a small amount of noise, how can we mitigate this?"
   ]
  },
  {
   "cell_type": "code",
   "execution_count": 62,
   "id": "70b811eb-bb05-4eb8-a8ae-2dd97e96b526",
   "metadata": {},
   "outputs": [
    {
     "ename": "ModuleNotFoundError",
     "evalue": "No module named 'qiskit_experiments'",
     "output_type": "error",
     "traceback": [
      "\u001b[0;31m---------------------------------------------------------------------------\u001b[0m",
      "\u001b[0;31mModuleNotFoundError\u001b[0m                       Traceback (most recent call last)",
      "Cell \u001b[0;32mIn[62], line 1\u001b[0m\n\u001b[0;32m----> 1\u001b[0m \u001b[38;5;28;01mfrom\u001b[39;00m \u001b[38;5;21;01mqiskit_experiments\u001b[39;00m\u001b[38;5;21;01m.\u001b[39;00m\u001b[38;5;21;01mlibrary\u001b[39;00m \u001b[38;5;28;01mimport\u001b[39;00m LocalReadoutError, CorrelatedReadoutError\n",
      "\u001b[0;31mModuleNotFoundError\u001b[0m: No module named 'qiskit_experiments'"
     ]
    }
   ],
   "source": [
    "from qiskit_experiments.library import LocalReadoutError, CorrelatedReadoutError"
   ]
  },
  {
   "cell_type": "code",
   "execution_count": null,
   "id": "2eff1378-ad23-45d6-a085-45fa8906d94e",
   "metadata": {},
   "outputs": [],
   "source": []
  },
  {
   "cell_type": "code",
   "execution_count": null,
   "id": "eb4fc4e3-f95d-44a5-9acc-9174f7bfdae9",
   "metadata": {},
   "outputs": [],
   "source": []
  },
  {
   "cell_type": "code",
   "execution_count": null,
   "id": "e18a0381-486c-42a4-a40c-4a918ec23938",
   "metadata": {},
   "outputs": [],
   "source": []
  },
  {
   "cell_type": "markdown",
   "id": "b4ab1fec-947c-43bf-a52d-6688def8e0c0",
   "metadata": {},
   "source": [
    "# Season 2 (Algorithms)"
   ]
  },
  {
   "cell_type": "markdown",
   "id": "295e99ee-e223-4332-8de0-1c2dea92cd98",
   "metadata": {
    "jp-MarkdownHeadingCollapsed": true
   },
   "source": [
    "## Fourier Checking circuit"
   ]
  },
  {
   "cell_type": "markdown",
   "id": "4ab7347e-1af9-4613-853c-545a29d4f7c2",
   "metadata": {},
   "source": [
    "Fourier checking is aparently a subroutine used in a lot of algorithms including Shor's algorithm"
   ]
  },
  {
   "cell_type": "code",
   "execution_count": 58,
   "id": "baa73e1f-9fb1-45ad-97f5-8d909dc11e3d",
   "metadata": {},
   "outputs": [],
   "source": [
    "import qiskit.quantum_info as qi\n",
    "from qiskit.circuit.library import FourierChecking\n",
    "from qiskit.visualization import plot_histogram"
   ]
  },
  {
   "cell_type": "code",
   "execution_count": 60,
   "id": "a9b351c5-44c9-4667-8fff-7be4dea3a953",
   "metadata": {},
   "outputs": [],
   "source": [
    "f=[1,-1, -1, -1]\n",
    "g=[1, 1, -1, -1]"
   ]
  },
  {
   "cell_type": "markdown",
   "id": "14d2fa02-2122-4270-9fa9-3651d7da0e10",
   "metadata": {},
   "source": [
    "Basically the Fourier checking circuit sees if the Fourier Transform of g is correlated with the function f. It does this in a weird way by outputting a probability of |00> and if the probability is greater than 0.05 then we consider them correlated."
   ]
  },
  {
   "cell_type": "code",
   "execution_count": 61,
   "id": "28480f12-1112-4ab0-8263-52bf8089dd8d",
   "metadata": {},
   "outputs": [],
   "source": [
    "ckt = FourierChecking(f, g)\n",
    "zero = qi.Statevector.from_label('00')\n",
    "sv = zero.evolve(ckt)"
   ]
  },
  {
   "cell_type": "code",
   "execution_count": 66,
   "id": "9b7aad26-6999-4516-9b56-4d4de67a45c8",
   "metadata": {},
   "outputs": [
    {
     "data": {
      "image/png": "[encoded data removed]",
      "text/plain": [
       "<Figure size 538.128x200.667 with 1 Axes>"
      ]
     },
     "execution_count": 66,
     "metadata": {},
     "output_type": "execute_result"
    }
   ],
   "source": [
    "ckt.draw('mpl')"
   ]
  },
  {
   "cell_type": "code",
   "execution_count": 68,
   "id": "c3d03902-2526-465e-9dbd-a3ca77e3e003",
   "metadata": {},
   "outputs": [],
   "source": [
    "ps = sv.probabilities_dict()"
   ]
  },
  {
   "cell_type": "code",
   "execution_count": 69,
   "id": "28029e58-6886-4633-8436-d54122df5acc",
   "metadata": {},
   "outputs": [
    {
     "data": {
      "image/png": "[encoded data removed]",
      "text/plain": [
       "<Figure size 700x500 with 1 Axes>"
      ]
     },
     "execution_count": 69,
     "metadata": {},
     "output_type": "execute_result"
    }
   ],
   "source": [
    "plot_histogram(ps)"
   ]
  },
  {
   "cell_type": "markdown",
   "id": "93670608-7f9d-42ce-82ba-b211ea2c94a5",
   "metadata": {
    "jp-MarkdownHeadingCollapsed": true
   },
   "source": [
    "## Grover"
   ]
  },
  {
   "cell_type": "markdown",
   "id": "f04f7344-bf35-47b6-b1d9-eaaff513e9b0",
   "metadata": {},
   "source": [
    "Grover's algoritm is a search algorithm that identifies the \"special string\" (when inputted to a mystery function has a characteristic result). For example, if the \"mystery\" function is CZ, and we're looking for the input that is a negative 1 eigenstate, then |11> is the \"special state\" and Grover helps us search for this."
   ]
  },
  {
   "cell_type": "markdown",
   "id": "6370533b-39cc-40ed-baf6-4269a422b7c2",
   "metadata": {},
   "source": [
    "Ingredients for Amplitude amplification:\n",
    "- Oracle\n",
    "- Reflection\n",
    "\n",
    "Together these mae the Grover \"Diffusion\" operation"
   ]
  },
  {
   "cell_type": "markdown",
   "id": "a756eea8-c1d3-4170-b44d-5e654ea190ea",
   "metadata": {},
   "source": [
    "TODO: Read up a little more on what grover actually does"
   ]
  },
  {
   "cell_type": "code",
   "execution_count": 2,
   "id": "8804b97a-df18-4b68-9325-bc81d9065446",
   "metadata": {},
   "outputs": [],
   "source": [
    "from qiskit import *\n",
    "import matplotlib.pyplot as plt\n",
    "import numpy as np"
   ]
  },
  {
   "cell_type": "code",
   "execution_count": 3,
   "id": "7e0eb5f4-78b4-442f-bbc1-8916ad99c1c3",
   "metadata": {},
   "outputs": [
    {
     "data": {
      "text/plain": [
       "<qiskit.circuit.instructionset.InstructionSet at 0x132f4a410>"
      ]
     },
     "execution_count": 3,
     "metadata": {},
     "output_type": "execute_result"
    }
   ],
   "source": [
    "oracle = QuantumCircuit(2, name='oracle') # what does the name do?\n",
    "oracle.cz(0,1)\n",
    "oracle.to_gate() # interesting -- doesn't seem to change the drawing\n",
    "# If you want to get the circuit back then you can decompose()"
   ]
  },
  {
   "cell_type": "code",
   "execution_count": 33,
   "id": "b197eb01-5c6d-4825-977c-d204acb18c35",
   "metadata": {},
   "outputs": [],
   "source": [
    "from qiskit_aer import AerSimulator, StatevectorSimulator"
   ]
  },
  {
   "cell_type": "code",
   "execution_count": 34,
   "id": "f0fd6641-f8c5-446e-b6ad-9c8f3630e8d6",
   "metadata": {},
   "outputs": [
    {
     "data": {
      "image/png": "[encoded data removed]",
      "text/plain": [
       "<Figure size 370.906x284.278 with 1 Axes>"
      ]
     },
     "execution_count": 34,
     "metadata": {},
     "output_type": "execute_result"
    }
   ],
   "source": [
    "simulator = StatevectorSimulator()\n",
    "grover_ckt = QuantumCircuit(2, 2)\n",
    "grover_ckt.h([0,1])\n",
    "grover_ckt.append(oracle, [0, 1])\n",
    "grover_ckt.draw('mpl')"
   ]
  },
  {
   "cell_type": "markdown",
   "id": "e81c1a2c-17a5-40bb-8066-0e9d43860c27",
   "metadata": {},
   "source": [
    "The oracle gate is a compound gate that is a little too difficult for the simulator to know as an instruction, but if you decompose it, then it will know the building blocks that make up the gate so it will know how to run it"
   ]
  },
  {
   "cell_type": "code",
   "execution_count": 42,
   "id": "791052dc-0dbd-4fbf-a175-7104cafd74f4",
   "metadata": {},
   "outputs": [],
   "source": [
    "result = simulator.run(grover_ckt.decompose()).result()"
   ]
  },
  {
   "cell_type": "code",
   "execution_count": 45,
   "id": "2dc66df1-aa74-43f7-8d2f-6d0957f27507",
   "metadata": {},
   "outputs": [
    {
     "data": {
      "text/latex": [
       "$$\\frac{1}{2} |00\\rangle+\\frac{1}{2} |01\\rangle+\\frac{1}{2} |10\\rangle- \\frac{1}{2} |11\\rangle$$"
      ],
      "text/plain": [
       "<IPython.core.display.Latex object>"
      ]
     },
     "execution_count": 45,
     "metadata": {},
     "output_type": "execute_result"
    }
   ],
   "source": [
    "result.get_statevector().draw('latex')"
   ]
  },
  {
   "cell_type": "markdown",
   "id": "8da4926f-1889-4093-bb38-c02256358788",
   "metadata": {},
   "source": [
    "Grover's algorithm has a geometric interpretation where you iteratively reflect across different vectors (the first reflection is across a \"hidden\" orthogonal vector of the oracle, and the 2nd reflection is across a the original uniform superposition state). Doing this sqrt(N) times will arrive you at the correct \"winner\" vector"
   ]
  },
  {
   "cell_type": "code",
   "execution_count": 46,
   "id": "92f44d13-9648-42df-bc30-4f9ca6c2ad96",
   "metadata": {},
   "outputs": [
    {
     "data": {
      "text/plain": [
       "Instruction(name='refection', num_qubits=2, num_clbits=0, params=[])"
      ]
     },
     "execution_count": 46,
     "metadata": {},
     "output_type": "execute_result"
    }
   ],
   "source": [
    "# Refection operator\n",
    "reflection = QuantumCircuit(2, name='refection')\n",
    "reflection.h([0, 1])\n",
    "reflection.z([0, 1])\n",
    "reflection.cz(0, 1)\n",
    "reflection.h([0,1])\n",
    "reflection.to_gate()"
   ]
  },
  {
   "cell_type": "code",
   "execution_count": 48,
   "id": "e398e278-f64a-4ce1-8438-aa0e3f0113c1",
   "metadata": {},
   "outputs": [
    {
     "data": {
      "text/plain": [
       "<qiskit.circuit.instructionset.InstructionSet at 0x13b92ceb0>"
      ]
     },
     "execution_count": 48,
     "metadata": {},
     "output_type": "execute_result"
    }
   ],
   "source": [
    "grover = QuantumCircuit(2, 2)\n",
    "grover.h([0, 1])\n",
    "grover.append(oracle, [0, 1])\n",
    "grover.append(reflection, [0, 1])\n",
    "grover.measure([0,1], [0,1])"
   ]
  },
  {
   "cell_type": "code",
   "execution_count": 54,
   "id": "eb45ac41-89e4-4727-ac44-07735ee30aca",
   "metadata": {},
   "outputs": [],
   "source": [
    "simulator = AerSimulator()\n",
    "result = simulator.run(grover.decompose(), shots = 1024).result()"
   ]
  },
  {
   "cell_type": "code",
   "execution_count": 56,
   "id": "f58be7e3-e899-43a9-9536-48a74f0232aa",
   "metadata": {},
   "outputs": [
    {
     "data": {
      "text/plain": [
       "{'11': 1024}"
      ]
     },
     "execution_count": 56,
     "metadata": {},
     "output_type": "execute_result"
    }
   ],
   "source": [
    "result.get_counts()"
   ]
  },
  {
   "cell_type": "markdown",
   "id": "ef6cec4a-cef7-45f9-941a-6eee535306b9",
   "metadata": {
    "jp-MarkdownHeadingCollapsed": true
   },
   "source": [
    "## Grover Application (Satisfiability)"
   ]
  },
  {
   "cell_type": "markdown",
   "id": "2c89d47f-948a-4cb3-b648-8749f9d92722",
   "metadata": {},
   "source": [
    "Wasn't able to complete this because the PhaseOracle doesn't work. I asked the Qiskit slack about this"
   ]
  },
  {
   "cell_type": "markdown",
   "id": "926f61c2-83c6-4168-b033-1f475c9878e4",
   "metadata": {},
   "source": [
    "One application of Grover is to finding inputs to functions that output True (a satisfying output)"
   ]
  },
  {
   "cell_type": "code",
   "execution_count": 71,
   "id": "043b551a-10fa-4d38-9387-5ec0c91b3ed6",
   "metadata": {},
   "outputs": [],
   "source": [
    "from qiskit_aer import AerSimulator\n",
    "from qiskit_algorithms import Grover, AmplificationProblem\n",
    "from qiskit.exceptions import MissingOptionalLibraryError\n",
    "from qiskit.circuit.library import PhaseOracle"
   ]
  },
  {
   "cell_type": "code",
   "execution_count": 72,
   "id": "6b635d70-8610-407f-864d-18f628098133",
   "metadata": {},
   "outputs": [
    {
     "ename": "MissingOptionalLibraryError",
     "evalue": "\"The 'tweedledum' library is required to use 'PhaseOracle'. You can install it with 'pip install tweedledum'.\"",
     "output_type": "error",
     "traceback": [
      "\u001b[0;31m---------------------------------------------------------------------------\u001b[0m",
      "\u001b[0;31mMissingOptionalLibraryError\u001b[0m               Traceback (most recent call last)",
      "Cell \u001b[0;32mIn[72], line 2\u001b[0m\n\u001b[1;32m      1\u001b[0m logical_expr \u001b[38;5;241m=\u001b[39m \u001b[38;5;124m'\u001b[39m\u001b[38;5;124m((John & Pete) | (Jake & Amir)) & ~(Jeff & Jared)\u001b[39m\u001b[38;5;124m'\u001b[39m\n\u001b[0;32m----> 2\u001b[0m algorithm \u001b[38;5;241m=\u001b[39m Grover(\u001b[43mPhaseOracle\u001b[49m\u001b[43m(\u001b[49m\u001b[43mlogical_expr\u001b[49m\u001b[43m)\u001b[49m)\n",
      "File \u001b[0;32m~/opt/anaconda3/envs/qiskit/lib/python3.12/site-packages/qiskit/utils/classtools.py:111\u001b[0m, in \u001b[0;36m_WrappedMethod.__get__.<locals>.out\u001b[0;34m(*args, **kwargs)\u001b[0m\n\u001b[1;32m    108\u001b[0m \u001b[38;5;129m@functools\u001b[39m\u001b[38;5;241m.\u001b[39mwraps(method)\n\u001b[1;32m    109\u001b[0m \u001b[38;5;28;01mdef\u001b[39;00m \u001b[38;5;21mout\u001b[39m(\u001b[38;5;241m*\u001b[39margs, \u001b[38;5;241m*\u001b[39m\u001b[38;5;241m*\u001b[39mkwargs):\n\u001b[1;32m    110\u001b[0m     \u001b[38;5;28;01mfor\u001b[39;00m callback \u001b[38;5;129;01min\u001b[39;00m \u001b[38;5;28mself\u001b[39m\u001b[38;5;241m.\u001b[39m_before:\n\u001b[0;32m--> 111\u001b[0m         \u001b[43mcallback\u001b[49m\u001b[38;5;241;43m.\u001b[39;49m\u001b[38;5;21;43m__get__\u001b[39;49m\u001b[43m(\u001b[49m\u001b[43mobj\u001b[49m\u001b[43m,\u001b[49m\u001b[43m \u001b[49m\u001b[43mobjtype\u001b[49m\u001b[43m)\u001b[49m\u001b[43m(\u001b[49m\u001b[38;5;241;43m*\u001b[39;49m\u001b[43margs\u001b[49m\u001b[43m,\u001b[49m\u001b[43m \u001b[49m\u001b[38;5;241;43m*\u001b[39;49m\u001b[38;5;241;43m*\u001b[39;49m\u001b[43mkwargs\u001b[49m\u001b[43m)\u001b[49m\n\u001b[1;32m    112\u001b[0m     retval \u001b[38;5;241m=\u001b[39m method(\u001b[38;5;241m*\u001b[39margs, \u001b[38;5;241m*\u001b[39m\u001b[38;5;241m*\u001b[39mkwargs)\n\u001b[1;32m    113\u001b[0m     \u001b[38;5;28;01mfor\u001b[39;00m callback \u001b[38;5;129;01min\u001b[39;00m \u001b[38;5;28mself\u001b[39m\u001b[38;5;241m.\u001b[39m_after:\n",
      "File \u001b[0;32m~/opt/anaconda3/envs/qiskit/lib/python3.12/site-packages/qiskit/utils/lazy_tester.py:41\u001b[0m, in \u001b[0;36m_RequireNow.__call__\u001b[0;34m(self, *_args, **_kwargs)\u001b[0m\n\u001b[1;32m     40\u001b[0m \u001b[38;5;28;01mdef\u001b[39;00m \u001b[38;5;21m__call__\u001b[39m(\u001b[38;5;28mself\u001b[39m, \u001b[38;5;241m*\u001b[39m_args, \u001b[38;5;241m*\u001b[39m\u001b[38;5;241m*\u001b[39m_kwargs):\n\u001b[0;32m---> 41\u001b[0m     \u001b[38;5;28;43mself\u001b[39;49m\u001b[38;5;241;43m.\u001b[39;49m\u001b[43m_tester\u001b[49m\u001b[38;5;241;43m.\u001b[39;49m\u001b[43mrequire_now\u001b[49m\u001b[43m(\u001b[49m\u001b[38;5;28;43mself\u001b[39;49m\u001b[38;5;241;43m.\u001b[39;49m\u001b[43m_feature\u001b[49m\u001b[43m)\u001b[49m\n",
      "File \u001b[0;32m~/opt/anaconda3/envs/qiskit/lib/python3.12/site-packages/qiskit/utils/lazy_tester.py:221\u001b[0m, in \u001b[0;36mLazyDependencyManager.require_now\u001b[0;34m(self, feature)\u001b[0m\n\u001b[1;32m    219\u001b[0m \u001b[38;5;28;01mif\u001b[39;00m \u001b[38;5;28mself\u001b[39m:\n\u001b[1;32m    220\u001b[0m     \u001b[38;5;28;01mreturn\u001b[39;00m\n\u001b[0;32m--> 221\u001b[0m \u001b[38;5;28;01mraise\u001b[39;00m MissingOptionalLibraryError(\n\u001b[1;32m    222\u001b[0m     libname\u001b[38;5;241m=\u001b[39m\u001b[38;5;28mself\u001b[39m\u001b[38;5;241m.\u001b[39m_name, name\u001b[38;5;241m=\u001b[39mfeature, pip_install\u001b[38;5;241m=\u001b[39m\u001b[38;5;28mself\u001b[39m\u001b[38;5;241m.\u001b[39m_install, msg\u001b[38;5;241m=\u001b[39m\u001b[38;5;28mself\u001b[39m\u001b[38;5;241m.\u001b[39m_msg\n\u001b[1;32m    223\u001b[0m )\n",
      "\u001b[0;31mMissingOptionalLibraryError\u001b[0m: \"The 'tweedledum' library is required to use 'PhaseOracle'. You can install it with 'pip install tweedledum'.\""
     ]
    }
   ],
   "source": [
    "logical_expr = '((John & Pete) | (Jake & Amir)) & ~(Jeff & Jared)'\n",
    "algorithm = Grover(PhaseOracle(logical_expr))"
   ]
  },
  {
   "cell_type": "code",
   "execution_count": 73,
   "id": "2386d47e-37b7-46c5-998a-a4eaa158efa5",
   "metadata": {
    "collapsed": true,
    "jupyter": {
     "outputs_hidden": true
    }
   },
   "outputs": [
    {
     "name": "stdout",
     "output_type": "stream",
     "text": [
      "Package                   Version\n",
      "------------------------- --------------\n",
      "annotated-types           0.6.0\n",
      "anyio                     4.3.0\n",
      "appnope                   0.1.4\n",
      "argon2-cffi               23.1.0\n",
      "argon2-cffi-bindings      21.2.0\n",
      "arrow                     1.3.0\n",
      "asttokens                 2.4.1\n",
      "async-lru                 2.0.4\n",
      "attrs                     23.2.0\n",
      "Babel                     2.14.0\n",
      "beautifulsoup4            4.12.3\n",
      "bleach                    6.1.0\n",
      "certifi                   2024.2.2\n",
      "cffi                      1.16.0\n",
      "charset-normalizer        3.3.2\n",
      "comm                      0.2.2\n",
      "contourpy                 1.2.0\n",
      "cryptography              42.0.5\n",
      "cycler                    0.12.1\n",
      "debugpy                   1.8.1\n",
      "decorator                 5.1.1\n",
      "defusedxml                0.7.1\n",
      "dill                      0.3.8\n",
      "executing                 2.0.1\n",
      "fastjsonschema            2.19.1\n",
      "fonttools                 4.50.0\n",
      "fqdn                      1.5.1\n",
      "h11                       0.14.0\n",
      "httpcore                  1.0.5\n",
      "httpx                     0.27.0\n",
      "ibm-cloud-sdk-core        3.19.2\n",
      "ibm-platform-services     0.53.0\n",
      "idna                      3.6\n",
      "ipykernel                 6.29.4\n",
      "ipython                   8.23.0\n",
      "isoduration               20.11.0\n",
      "jedi                      0.19.1\n",
      "Jinja2                    3.1.3\n",
      "json5                     0.9.24\n",
      "jsonpointer               2.4\n",
      "jsonschema                4.21.1\n",
      "jsonschema-specifications 2023.12.1\n",
      "jupyter_client            8.6.1\n",
      "jupyter_core              5.7.2\n",
      "jupyter-events            0.10.0\n",
      "jupyter-lsp               2.2.4\n",
      "jupyter_server            2.13.0\n",
      "jupyter_server_terminals  0.5.3\n",
      "jupyterlab                4.1.5\n",
      "jupyterlab_pygments       0.3.0\n",
      "jupyterlab_server         2.25.4\n",
      "kiwisolver                1.4.5\n",
      "MarkupSafe                2.1.5\n",
      "matplotlib                3.8.3\n",
      "matplotlib-inline         0.1.6\n",
      "mistune                   3.0.2\n",
      "mpmath                    1.3.0\n",
      "nbclient                  0.10.0\n",
      "nbconvert                 7.16.3\n",
      "nbformat                  5.10.3\n",
      "nest-asyncio              1.6.0\n",
      "notebook_shim             0.2.4\n",
      "numpy                     1.26.4\n",
      "overrides                 7.7.0\n",
      "packaging                 24.0\n",
      "pandocfilters             1.5.1\n",
      "parso                     0.8.3\n",
      "pbr                       6.0.0\n",
      "pexpect                   4.9.0\n",
      "pillow                    10.2.0\n",
      "pip                       24.0\n",
      "platformdirs              4.2.0\n",
      "prometheus_client         0.20.0\n",
      "prompt-toolkit            3.0.43\n",
      "psutil                    5.9.8\n",
      "ptyprocess                0.7.0\n",
      "pure-eval                 0.2.2\n",
      "pycparser                 2.22\n",
      "pydantic                  2.6.4\n",
      "pydantic_core             2.16.3\n",
      "Pygments                  2.17.2\n",
      "PyJWT                     2.8.0\n",
      "pylatexenc                2.10\n",
      "pyparsing                 3.1.2\n",
      "pyspnego                  0.10.2\n",
      "python-dateutil           2.9.0.post0\n",
      "python-json-logger        2.0.7\n",
      "PyYAML                    6.0.1\n",
      "pyzmq                     25.1.2\n",
      "qiskit                    1.0.2\n",
      "qiskit-aer                0.13.3\n",
      "qiskit-algorithms         0.3.0\n",
      "qiskit-ibm-provider       0.10.0\n",
      "qiskit-ibm-runtime        0.22.0\n",
      "referencing               0.34.0\n",
      "requests                  2.31.0\n",
      "requests-ntlm             1.2.0\n",
      "rfc3339-validator         0.1.4\n",
      "rfc3986-validator         0.1.1\n",
      "rpds-py                   0.18.0\n",
      "rustworkx                 0.14.2\n",
      "scipy                     1.12.0\n",
      "Send2Trash                1.8.2\n",
      "setuptools                69.2.0\n",
      "six                       1.16.0\n",
      "sniffio                   1.3.1\n",
      "soupsieve                 2.5\n",
      "stack-data                0.6.3\n",
      "stevedore                 5.2.0\n",
      "symengine                 0.11.0\n",
      "sympy                     1.12\n",
      "terminado                 0.18.1\n",
      "tinycss2                  1.2.1\n",
      "tornado                   6.4\n",
      "traitlets                 5.14.2\n",
      "types-python-dateutil     2.9.0.20240316\n",
      "typing_extensions         4.10.0\n",
      "uri-template              1.3.0\n",
      "urllib3                   2.2.1\n",
      "wcwidth                   0.2.13\n",
      "webcolors                 1.13\n",
      "webencodings              0.5.1\n",
      "websocket-client          1.7.0\n",
      "websockets                12.0\n",
      "wheel                     0.43.0\n"
     ]
    }
   ],
   "source": [
    "!pip list"
   ]
  },
  {
   "cell_type": "markdown",
   "id": "fc26130f-6cd0-4f79-a482-ac8148fdefa0",
   "metadata": {
    "jp-MarkdownHeadingCollapsed": true
   },
   "source": [
    "## Quantum Machine Learning"
   ]
  },
  {
   "cell_type": "markdown",
   "id": "510d1b46-e17a-4a78-aa19-e8251a4fa4ab",
   "metadata": {},
   "source": [
    "Quantum Support Vector Machine:\n",
    "\n",
    "Some kernels are diffcult to computer classically."
   ]
  },
  {
   "cell_type": "code",
   "execution_count": 8,
   "id": "ee090c73-f762-4434-8fdf-87bbbc89e68a",
   "metadata": {},
   "outputs": [],
   "source": [
    "#import qiskit\n",
    "import matplotlib.pyplot as plt\n",
    "from qiskit_machine_learning.datasets import ad_hoc_data # from qiskit-community github\n",
    "import numpy as np\n",
    "from qiskit_algorithms.utils import algorithm_globals\n",
    "from qiskit_aer import AerSimulator"
   ]
  },
  {
   "cell_type": "code",
   "execution_count": 29,
   "id": "e48a5cae-3e96-46e0-bd54-4f661620ad9f",
   "metadata": {},
   "outputs": [],
   "source": [
    "# Generates a dataset that can be fully separated\n",
    "adhoc_dimension = 2\n",
    "train_features, train_labels, test_features, test_labels, adhoc_total = ad_hoc_data(\n",
    "    training_size=20,\n",
    "    test_size=5,\n",
    "    n=adhoc_dimension,\n",
    "    gap=0.3,\n",
    "    plot_data=False,\n",
    "    one_hot=False,\n",
    "    include_sample_total=True,\n",
    ")\n",
    "\n",
    "# seems that dataset is always twice the size?\n",
    "# all numpy format"
   ]
  },
  {
   "cell_type": "code",
   "execution_count": 30,
   "id": "47f7d1bc-382c-4b95-a478-4f806552eed7",
   "metadata": {},
   "outputs": [],
   "source": [
    "def plot_features(ax, features, labels, class_label, marker, face, edge, label):\n",
    "    # A train plot\n",
    "    ax.scatter(\n",
    "        # x coordinate of labels where class is class_label\n",
    "        features[np.where(labels[:] == class_label), 0],\n",
    "        # y coordinate of labels where class is class_label\n",
    "        features[np.where(labels[:] == class_label), 1],\n",
    "        marker=marker,\n",
    "        facecolors=face,\n",
    "        edgecolors=edge,\n",
    "        label=label,\n",
    "    )\n",
    "\n",
    "\n",
    "def plot_dataset(train_features, train_labels, test_features, test_labels, adhoc_total):\n",
    "\n",
    "    plt.figure(figsize=(5, 5))\n",
    "    plt.ylim(0, 2 * np.pi)\n",
    "    plt.xlim(0, 2 * np.pi)\n",
    "    plt.imshow(\n",
    "        np.asmatrix(adhoc_total).T,\n",
    "        interpolation=\"nearest\",\n",
    "        origin=\"lower\",\n",
    "        cmap=\"RdBu\",\n",
    "        extent=[0, 2 * np.pi, 0, 2 * np.pi],\n",
    "    )\n",
    "\n",
    "    # A train plot\n",
    "    plot_features(plt, train_features, train_labels, 0, \"s\", \"w\", \"b\", \"A train\")\n",
    "\n",
    "    # B train plot\n",
    "    plot_features(plt, train_features, train_labels, 1, \"o\", \"w\", \"r\", \"B train\")\n",
    "\n",
    "    # A test plot\n",
    "    plot_features(plt, test_features, test_labels, 0, \"s\", \"b\", \"w\", \"A test\")\n",
    "\n",
    "    # B test plot\n",
    "    plot_features(plt, test_features, test_labels, 1, \"o\", \"r\", \"w\", \"B test\")\n",
    "\n",
    "    plt.legend(bbox_to_anchor=(1.05, 1), loc=\"upper left\", borderaxespad=0.0)\n",
    "    plt.title(\"Ad hoc dataset\")\n",
    "\n",
    "    plt.show()"
   ]
  },
  {
   "cell_type": "markdown",
   "id": "e1c0cf37-9eca-46a1-a4dc-e744078b019e",
   "metadata": {},
   "source": [
    "Clearly not linearly separable without a kernel"
   ]
  },
  {
   "cell_type": "code",
   "execution_count": 31,
   "id": "f85a50fa-2a69-4130-adfb-2dc870c72a3b",
   "metadata": {},
   "outputs": [
    {
     "data": {
      "image/png": "[encoded data removed]",
      "text/plain": [
       "<Figure size 500x500 with 1 Axes>"
      ]
     },
     "metadata": {},
     "output_type": "display_data"
    }
   ],
   "source": [
    "plot_dataset(train_features, train_labels, test_features, test_labels, adhoc_total)"
   ]
  },
  {
   "cell_type": "code",
   "execution_count": 34,
   "id": "774a977d-18c2-4a74-9870-12611e5276b6",
   "metadata": {},
   "outputs": [],
   "source": [
    "from qiskit.circuit.library import ZZFeatureMap\n",
    "\n",
    "# The first 2 get passed into the kernel as arguments\n",
    "from qiskit.primitives import Sampler\n",
    "from qiskit_algorithms.state_fidelities import ComputeUncompute\n",
    "from qiskit_machine_learning.kernels import FidelityQuantumKernel\n",
    "\n",
    "\n",
    "adhoc_feature_map = ZZFeatureMap(feature_dimension=adhoc_dimension, reps=2, entanglement=\"linear\")\n",
    "sampler = Sampler()\n",
    "fidelity = ComputeUncompute(sampler=sampler)\n",
    "adhoc_kernel = FidelityQuantumKernel(fidelity=fidelity, feature_map=adhoc_feature_map)"
   ]
  },
  {
   "cell_type": "markdown",
   "id": "bb285cdb-7cd6-41bd-851c-b11b490cfb10",
   "metadata": {},
   "source": [
    "Hm, there's that callable function trick again..."
   ]
  },
  {
   "cell_type": "code",
   "execution_count": 35,
   "id": "2d0fb37c-4e3e-4d6c-8a3a-d67a27eb6618",
   "metadata": {},
   "outputs": [
    {
     "name": "stdout",
     "output_type": "stream",
     "text": [
      "Callable kernel classification test score: 1.0\n"
     ]
    }
   ],
   "source": [
    "from sklearn.svm import SVC\n",
    "\n",
    "# Note that the \"evaluate\" method is being passed into the adhoc_svc as a callable function\n",
    "adhoc_svc = SVC(kernel=adhoc_kernel.evaluate)\n",
    "adhoc_svc.fit(train_features, train_labels)\n",
    "adhoc_score_callable_function = adhoc_svc.score(test_features, test_labels)\n",
    "\n",
    "print(f\"Callable kernel classification test score: {adhoc_score_callable_function}\")"
   ]
  },
  {
   "cell_type": "code",
   "execution_count": 36,
   "id": "3e16cf9f-8819-46aa-98a8-354666649c2b",
   "metadata": {},
   "outputs": [
    {
     "data": {
      "image/png": "[encoded data removed]",
      "text/plain": [
       "<Figure size 1000x500 with 2 Axes>"
      ]
     },
     "metadata": {},
     "output_type": "display_data"
    }
   ],
   "source": [
    "# Here the function is not \"callable\" but instead the training is pre-computer and then passed into a plotting fxn\n",
    "\n",
    "adhoc_matrix_train = adhoc_kernel.evaluate(x_vec=train_features)\n",
    "adhoc_matrix_test = adhoc_kernel.evaluate(x_vec=test_features, y_vec=train_features)\n",
    "\n",
    "fig, axs = plt.subplots(1, 2, figsize=(10, 5))\n",
    "\n",
    "axs[0].imshow(\n",
    "    np.asmatrix(adhoc_matrix_train), interpolation=\"nearest\", origin=\"upper\", cmap=\"Blues\"\n",
    ")\n",
    "axs[0].set_title(\"Ad hoc training kernel matrix\")\n",
    "\n",
    "axs[1].imshow(np.asmatrix(adhoc_matrix_test), interpolation=\"nearest\", origin=\"upper\", cmap=\"Reds\")\n",
    "axs[1].set_title(\"Ad hoc testing kernel matrix\")\n",
    "\n",
    "plt.show()"
   ]
  },
  {
   "cell_type": "code",
   "execution_count": 37,
   "id": "60ed6c04-d734-4d47-9456-60b5d3a910dc",
   "metadata": {},
   "outputs": [
    {
     "name": "stdout",
     "output_type": "stream",
     "text": [
      "Precomputed kernel classification test score: 1.0\n"
     ]
    }
   ],
   "source": [
    "# I guess you have to explicitly tell SVC that you are passing in precomputer matrices\n",
    "adhoc_svc = SVC(kernel=\"precomputed\")\n",
    "\n",
    "adhoc_svc.fit(adhoc_matrix_train, train_labels)\n",
    "\n",
    "adhoc_score_precomputed_kernel = adhoc_svc.score(adhoc_matrix_test, test_labels)\n",
    "\n",
    "print(f\"Precomputed kernel classification test score: {adhoc_score_precomputed_kernel}\")"
   ]
  },
  {
   "cell_type": "markdown",
   "id": "2a9c5622-a4f6-4d81-94e3-a1710fefbb18",
   "metadata": {},
   "source": [
    "The QSVC takes in the quantum kernel without it having to be callable (without precomputing the matrices). It's a little redundant but I think it is just here for convenience"
   ]
  },
  {
   "cell_type": "code",
   "execution_count": 38,
   "id": "90989d75-f357-434b-9ccc-c6cb8178d39d",
   "metadata": {},
   "outputs": [
    {
     "name": "stdout",
     "output_type": "stream",
     "text": [
      "QSVC classification test score: 1.0\n"
     ]
    }
   ],
   "source": [
    "from qiskit_machine_learning.algorithms import QSVC\n",
    "\n",
    "qsvc = QSVC(quantum_kernel=adhoc_kernel)\n",
    "qsvc.fit(train_features, train_labels)\n",
    "qsvc_score = qsvc.score(test_features, test_labels)\n",
    "\n",
    "print(f\"QSVC classification test score: {qsvc_score}\")"
   ]
  },
  {
   "cell_type": "code",
   "execution_count": 39,
   "id": "2e2d96d0-57db-44b2-83bb-a1c31b6f8cba",
   "metadata": {},
   "outputs": [
    {
     "name": "stdout",
     "output_type": "stream",
     "text": [
      "Classification Model                    | Accuracy Score\n",
      "---------------------------------------------------------\n",
      "SVC using kernel as a callable function |       1.00\n",
      "SVC using precomputed kernel matrix     |       1.00\n",
      "QSVC                                    |       1.00\n"
     ]
    }
   ],
   "source": [
    "print(f\"Classification Model                    | Accuracy Score\")\n",
    "print(f\"---------------------------------------------------------\")\n",
    "print(f\"SVC using kernel as a callable function | {adhoc_score_callable_function:10.2f}\")\n",
    "print(f\"SVC using precomputed kernel matrix     | {adhoc_score_precomputed_kernel:10.2f}\")\n",
    "print(f\"QSVC                                    | {qsvc_score:10.2f}\")"
   ]
  },
  {
   "cell_type": "markdown",
   "id": "e9256872-30f3-4976-bfa0-7673957c613c",
   "metadata": {
    "jp-MarkdownHeadingCollapsed": true,
    "tags": []
   },
   "source": [
    "# Circuit Library"
   ]
  },
  {
   "cell_type": "code",
   "execution_count": null,
   "id": "099a1226-2c73-4d12-8cb2-3b5a05e6412b",
   "metadata": {},
   "outputs": [],
   "source": [
    "plot_dataset(train_features, train_labels, test_features, test_labels, adhoc_total)"
   ]
  },
  {
   "cell_type": "markdown",
   "id": "114910cf-4e8a-4905-a4ac-15d96009b99e",
   "metadata": {
    "jp-MarkdownHeadingCollapsed": true,
    "tags": []
   },
   "source": [
    "## N-local circuit"
   ]
  },
  {
   "cell_type": "markdown",
   "id": "b77b92bc-f683-4357-be27-450761cf3fde",
   "metadata": {},
   "source": [
    "An exmaple of an N-local circuit which alternates between entanglement gates and rotation gates. This could be parameterized by the angle of rotation so that you have a variational circuit (where the angle is tunable). This is apparently helpful for solving optimization problems."
   ]
  },
  {
   "cell_type": "code",
   "execution_count": 21,
   "id": "ed2d1259-8e8c-4856-826a-e5f420d145fa",
   "metadata": {},
   "outputs": [
    {
     "data": {
      "image/png": "[encoded data removed]",
      "text/plain": [
       "<Figure size 869.197x204.68 with 1 Axes>"
      ]
     },
     "execution_count": 21,
     "metadata": {},
     "output_type": "execute_result"
    }
   ],
   "source": [
    "from qiskit.circuit.library import TwoLocal\n",
    "two_local = TwoLocal(3, 'rx', 'cz')\n",
    "two_local.decompose().draw('mpl')"
   ]
  },
  {
   "cell_type": "code",
   "execution_count": 30,
   "id": "dc32f5c3-0ecb-4eda-a2ad-94c5054d89ae",
   "metadata": {},
   "outputs": [
    {
     "data": {
      "text/plain": [
       "0"
      ]
     },
     "execution_count": 30,
     "metadata": {},
     "output_type": "execute_result"
    }
   ],
   "source": [
    "# all the different tunable angles\n",
    "two_local.parameters[0].index"
   ]
  },
  {
   "cell_type": "code",
   "execution_count": 32,
   "id": "0d59d399-42a2-42d8-9b2e-49bd617ede14",
   "metadata": {},
   "outputs": [
    {
     "data": {
      "image/png": "[encoded data removed]",
      "text/plain": [
       "<Figure size 869.197x204.68 with 1 Axes>"
      ]
     },
     "execution_count": 32,
     "metadata": {},
     "output_type": "execute_result"
    }
   ],
   "source": [
    "# now I can assign values to these params\n",
    "import numpy as np\n",
    "bound_circuit = two_local.assign_parameters({p: np.pi/(1+p.index) for p in two_local.parameters})\n",
    "bound_circuit.decompose().draw('mpl')"
   ]
  },
  {
   "cell_type": "code",
   "execution_count": 33,
   "id": "511ba459-b349-4513-9f20-4dba45923bce",
   "metadata": {},
   "outputs": [
    {
     "data": {
      "image/png": "[encoded data removed]",
      "text/plain": [
       "<Figure size 387.597x204.68 with 1 Axes>"
      ]
     },
     "execution_count": 33,
     "metadata": {},
     "output_type": "execute_result"
    }
   ],
   "source": [
    "# if you don't decompose you get the block circuit\n",
    "bound_circuit.draw('mpl')"
   ]
  },
  {
   "cell_type": "markdown",
   "id": "d611558c-c395-45ba-bb3a-d80a91cf2c37",
   "metadata": {
    "jp-MarkdownHeadingCollapsed": true,
    "tags": []
   },
   "source": [
    "## Data-encoding circuits"
   ]
  },
  {
   "cell_type": "markdown",
   "id": "f40dfad1-bb0f-475e-aed5-85d9ec4387c3",
   "metadata": {},
   "source": [
    "This is a parameterized circuit that is useful in quantum machine learning. There's lots of different encoding schemes to store data into these quantum states; below is a version of \"angle-encoding\". To be honest I don't completely understand what is going on here yet."
   ]
  },
  {
   "cell_type": "code",
   "execution_count": 34,
   "id": "3b28aeaa-3577-4427-9d94-b9d08ece1f44",
   "metadata": {},
   "outputs": [
    {
     "data": {
      "image/png": "[encoded data removed]",
      "text/plain": [
       "<Figure size 267.197x204.68 with 1 Axes>"
      ]
     },
     "execution_count": 34,
     "metadata": {},
     "output_type": "execute_result"
    }
   ],
   "source": [
    "from qiskit.circuit.library import ZZFeatureMap\n",
    "features = [0.2, 0.4, 0.8]\n",
    "feature_map = ZZFeatureMap(feature_dimension=len(features))\n",
    "\n",
    "encoded = feature_map.assign_parameters(features)\n",
    "encoded.draw('mpl')"
   ]
  },
  {
   "cell_type": "code",
   "execution_count": null,
   "id": "61d15b61-eac7-4313-a5c2-05def017771f",
   "metadata": {},
   "outputs": [],
   "source": []
  },
  {
   "cell_type": "code",
   "execution_count": null,
   "id": "ec616f28-4d05-41df-853b-f9dd1a467426",
   "metadata": {},
   "outputs": [],
   "source": []
  },
  {
   "cell_type": "code",
   "execution_count": null,
   "id": "a4255ecb-beb1-4a62-81ca-c8497c8f5f51",
   "metadata": {},
   "outputs": [],
   "source": []
  },
  {
   "cell_type": "code",
   "execution_count": null,
   "id": "ef11abb4-f10e-4e52-a19b-2643f3753d2c",
   "metadata": {},
   "outputs": [],
   "source": []
  },
  {
   "cell_type": "markdown",
   "id": "f5e5446d-7d7a-41a5-b3fb-459be9ebb865",
   "metadata": {
    "jp-MarkdownHeadingCollapsed": true,
    "tags": []
   },
   "source": [
    "# Qiskit primitives"
   ]
  },
  {
   "cell_type": "code",
   "execution_count": 46,
   "id": "c897e9d5-8e0d-48cd-930e-45b7137fc199",
   "metadata": {},
   "outputs": [],
   "source": [
    "# This is just if you want to use some backend Estimator\n",
    "# Not 100% sure the difference between backend versions\n",
    "\n",
    "# from qiskit.primitives import BackendEstimator\n",
    "# provider = IBMQ.get_provider('ibm-q')\n",
    "# backend = provider.get_backend('ibm_osaka')\n",
    "# estimator = BackendEstimator(backend)"
   ]
  },
  {
   "cell_type": "markdown",
   "id": "7fc8df22-510d-4a2c-9b3c-7d52f1caf433",
   "metadata": {},
   "source": [
    "Hm, what are observables exactly in quantum computing?"
   ]
  },
  {
   "cell_type": "code",
   "execution_count": 49,
   "id": "2fc8f66c-8942-4142-8185-29db89591f5c",
   "metadata": {},
   "outputs": [],
   "source": [
    "from qiskit.quantum_info import SparsePauliOp\n",
    "\n",
    "observable = SparsePauliOp([\"II\", \"XX\", \"YY\", \"ZZ\"], coeffs = [1, 1, -1, 1])"
   ]
  },
  {
   "cell_type": "code",
   "execution_count": 50,
   "id": "da86bb86-541c-44bd-93bd-108a89af12ec",
   "metadata": {},
   "outputs": [
    {
     "data": {
      "text/plain": [
       "SparsePauliOp(['II', 'XX', 'YY', 'ZZ'],\n",
       "              coeffs=[ 1.+0.j,  1.+0.j, -1.+0.j,  1.+0.j])"
      ]
     },
     "execution_count": 50,
     "metadata": {},
     "output_type": "execute_result"
    }
   ],
   "source": [
    "observable"
   ]
  },
  {
   "cell_type": "code",
   "execution_count": 51,
   "id": "b3bbf0e5-981e-4052-8290-36340d096640",
   "metadata": {},
   "outputs": [
    {
     "data": {
      "image/png": "[encoded data removed]",
      "text/plain": [
       "<Figure size 206.852x144.48 with 1 Axes>"
      ]
     },
     "execution_count": 51,
     "metadata": {},
     "output_type": "execute_result"
    }
   ],
   "source": [
    "qc = QuantumCircuit(2)\n",
    "qc.h(0)\n",
    "qc.cnot(0, 1)\n",
    "qc.draw('mpl')"
   ]
  },
  {
   "cell_type": "code",
   "execution_count": 52,
   "id": "4f1c08b8-cc56-451c-8c2e-742ddaec1c27",
   "metadata": {},
   "outputs": [],
   "source": [
    "from qiskit.primitives import Estimator\n",
    "\n",
    "estimator = Estimator()"
   ]
  },
  {
   "cell_type": "code",
   "execution_count": 53,
   "id": "08c397de-df8e-4955-85f1-78c086e33f8e",
   "metadata": {},
   "outputs": [
    {
     "name": "stdout",
     "output_type": "stream",
     "text": [
      "EstimatorResult(values=array([4.]), metadata=[{}])\n"
     ]
    }
   ],
   "source": [
    "job = estimator.run(qc, observable)\n",
    "result = job.result()\n",
    "print(result)"
   ]
  },
  {
   "cell_type": "code",
   "execution_count": 54,
   "id": "97aea5ed-c11d-4567-a4bb-1a4abc8b6e50",
   "metadata": {},
   "outputs": [
    {
     "data": {
      "text/plain": [
       "3.999999999999999"
      ]
     },
     "execution_count": 54,
     "metadata": {},
     "output_type": "execute_result"
    }
   ],
   "source": [
    "result.values[0]"
   ]
  },
  {
   "cell_type": "markdown",
   "id": "02a50c4f-8c54-4dd8-94be-142010929575",
   "metadata": {},
   "source": [
    "You can make parameterized circuits in which a parameter must be provided to specify the circuit operation"
   ]
  },
  {
   "cell_type": "code",
   "execution_count": 56,
   "id": "b8c6b1c0-6509-4715-bda2-b78f13d814af",
   "metadata": {},
   "outputs": [
    {
     "data": {
      "image/png": "[encoded data removed]",
      "text/plain": [
       "<Figure size 206.852x144.48 with 1 Axes>"
      ]
     },
     "execution_count": 56,
     "metadata": {},
     "output_type": "execute_result"
    }
   ],
   "source": [
    "from qiskit.circuit import Parameter\n",
    "\n",
    "delta = Parameter('∆')\n",
    "param_qc = QuantumCircuit(2)\n",
    "param_qc.ry(delta, 0)\n",
    "param_qc.cx(0, 1)\n",
    "param_qc.draw('mpl')"
   ]
  },
  {
   "cell_type": "markdown",
   "id": "cd23efbc-e344-49b8-8ffc-546c5597f01d",
   "metadata": {},
   "source": [
    "In this next case, we give it a list of circuits and list of observables (of the same size), to get a list of results."
   ]
  },
  {
   "cell_type": "code",
   "execution_count": 59,
   "id": "3aa48b63-94cc-4dfc-a61d-428f321b18dc",
   "metadata": {},
   "outputs": [
    {
     "name": "stdout",
     "output_type": "stream",
     "text": [
      "Parameter: 0.00000\t Expectation value: 2.0\n",
      "Parameter: 0.52360\t Expectation value: 3.0\n",
      "Parameter: 1.57080\t Expectation value: 4.0\n"
     ]
    }
   ],
   "source": [
    "import numpy as np\n",
    "\n",
    "parameter_values = [[0], [np.pi/6], [np.pi/2]]\n",
    "\n",
    "#Observable the same each time, but the different param values change the circuit\n",
    "job = estimator.run([param_qc]*3, [observable]*3, parameter_values=parameter_values)\n",
    "values = job.result().values\n",
    "\n",
    "for i in range(3):\n",
    "    print(f\"Parameter: {parameter_values[i][0]:.5f}\\t Expectation value: {values[i]}\")"
   ]
  },
  {
   "cell_type": "code",
   "execution_count": null,
   "id": "e87943c6-9c75-4942-ab9a-650c0a92ea46",
   "metadata": {},
   "outputs": [],
   "source": []
  },
  {
   "cell_type": "markdown",
   "id": "c9be12dc-f6e4-454b-9a29-07efcccb28d2",
   "metadata": {
    "tags": []
   },
   "source": [
    "# Notes"
   ]
  },
  {
   "cell_type": "markdown",
   "id": "98487e8f-f452-4aaa-8d44-54780816a651",
   "metadata": {},
   "source": [
    "Aer and IBMQ are different providers. Aer gives you access to simulator backends while IBMQ gives you access to simulators and actual quantum machines (though it looks like the queue is extremely long)."
   ]
  },
  {
   "cell_type": "markdown",
   "id": "97b46788-4d60-4de0-8b13-cc8029eecc3b",
   "metadata": {},
   "source": [
    "Some of the documentation for Qiskit is incompatible with the Qiskit-Aer version. Keep this in mind when debugging"
   ]
  },
  {
   "cell_type": "markdown",
   "id": "686ade2d-e821-4b5b-b2e4-7aee66da3c3a",
   "metadata": {
    "jp-MarkdownHeadingCollapsed": true
   },
   "source": [
    "# Quantum Games"
   ]
  },
  {
   "cell_type": "code",
   "execution_count": null,
   "id": "4b329b23-3408-4566-9d69-1794af38cbd9",
   "metadata": {},
   "outputs": [],
   "source": []
  },
  {
   "cell_type": "code",
   "execution_count": null,
   "id": "bf18d38a-1e22-4b62-b698-130a43f05474",
   "metadata": {},
   "outputs": [],
   "source": []
  },
  {
   "cell_type": "code",
   "execution_count": null,
   "id": "c31b92a5-59b2-4fd0-b4ef-2c19a5df3cbd",
   "metadata": {},
   "outputs": [],
   "source": []
  },
  {
   "cell_type": "code",
   "execution_count": null,
   "id": "09fc287b-85ae-45fc-b9f9-80333bdbdd0c",
   "metadata": {},
   "outputs": [],
   "source": []
  },
  {
   "cell_type": "markdown",
   "id": "8a4aab80-d0ab-46e1-a899-be2456a954f0",
   "metadata": {
    "jp-MarkdownHeadingCollapsed": true,
    "tags": []
   },
   "source": [
    "## Open Source contributions"
   ]
  },
  {
   "cell_type": "markdown",
   "id": "7ad36c7c-a3c6-4006-be56-6aca41b7cc88",
   "metadata": {},
   "source": [
    "Here are some steps to contributing to Qiskit (or any open source repo!)\n",
    "\n",
    "- Fork the repo onto your own personl github (this is why people have a e.g. johnjeang/Qiskit page!)\n",
    "- Clone YOUR OWN fork onto your local computer (you'll be on the master branch of this)\n",
    "- `git remote -v` should show that the remote of your local repo is pointing to your own github\n",
    "- add an upstream to the ORIGINAL qiskit repo with `git remote add upstream <insert clone address>` (Now you will have both an \"origin\" remote and an \"upstream\" remote)\n",
    "- create branch with `git branch <insert branch name>`\n",
    "- git checkout <insert name> (can confirm with \"git status\")\n",
    "- Good to do this in a new environment - install qiskit from source (matybe even newest version). Can create environment after cloning (so you don't have to do the clone step all over again). Review Qiskit video to do this correctly.\n",
    "- Can cnofirm installation by importing qiskit \n",
    "- qiskit.__qiskit_version__ in terminal to confirm version\n",
    "- create kernal for new envrionment! (link in description of video by Abe)\n",
    "- Find and fix the code that is causing the issue (save, debug manually)\n",
    "- Run tests (`make lint`, `make style`, `make test`)\n",
    "- add, and commit (just the file you changed)\n",
    "- `git push --set-upstream origin <branch_name>` (otherwise there will be an error that the branch has no upsteam set yet)\n",
    "- Submit pull request on Github\n",
    "- Sign contributor license agreement\n",
    "\n",
    "\n"
   ]
  },
  {
   "cell_type": "code",
   "execution_count": null,
   "id": "2b14aaaa-7d19-4d85-912c-d15e7ceed8a5",
   "metadata": {},
   "outputs": [],
   "source": [
    "#help(circuit_all.draw()\n",
    "\n",
    "# Helpfull for finding out where code lives"
   ]
  },
  {
   "cell_type": "code",
   "execution_count": null,
   "id": "3ec3e071-b97c-4e42-bc23-9ad2393aee42",
   "metadata": {},
   "outputs": [],
   "source": []
  },
  {
   "cell_type": "code",
   "execution_count": null,
   "id": "1bbfd45b-e1d8-4a6b-a95d-efcbbcf05cec",
   "metadata": {},
   "outputs": [],
   "source": []
  },
  {
   "cell_type": "markdown",
   "id": "b6a2c989-a7ca-45c0-9282-02b25808f4aa",
   "metadata": {
    "jp-MarkdownHeadingCollapsed": true,
    "tags": []
   },
   "source": [
    "## Ecosystem"
   ]
  },
  {
   "cell_type": "markdown",
   "id": "a38ad1d0-cb7c-4eb8-aae7-032c118bad88",
   "metadata": {},
   "source": [
    "Open source software live in github (several repos). The ecosystem is split into 4 components\n",
    "\n",
    "- Qiskit Terra (foundational layer)\n",
    "- Qiskit Ignis\n",
    "- Qiskit Aer\n",
    "- Qiskit Aqua\n",
    "\n",
    "Qiskit Terra does not seem to be the name of any repo anymore; some of this is deprecated."
   ]
  },
  {
   "cell_type": "markdown",
   "id": "4731457e-3553-449a-a0d3-84b2431ef082",
   "metadata": {},
   "source": [
    "Ignis and Aqua are deprecated, and Aer got moved to its own package called qiskit-aer (`pip install qiskit-aer`)"
   ]
  },
  {
   "cell_type": "markdown",
   "id": "a2d9eec7-f9ce-41a7-8413-0171324f636a",
   "metadata": {},
   "source": [
    "Python 3.7 support is deprecated, needs python 3.8 or later"
   ]
  },
  {
   "cell_type": "markdown",
   "id": "a9360d27-6462-4d7a-b2b4-d2d009844753",
   "metadata": {},
   "source": [
    "`pip install qiskit-ibm-provider` is not part of the meta package, so you need to install it separately"
   ]
  },
  {
   "cell_type": "markdown",
   "id": "897b3b91-8b03-4988-a459-4c0e29c23112",
   "metadata": {},
   "source": [
    "qiskit-experiments replaced qiskit-ignis, while \"aqua\" was replaced by \"applications\" module (now it is not installed with the meta package?)"
   ]
  },
  {
   "cell_type": "markdown",
   "id": "f2a46f5b-a882-42fa-984a-f002a47b7744",
   "metadata": {},
   "source": [
    "qiskit-terra was renamed to just qiskit. Previously \"qiskit\" was a metapackage with multiple things including qiskit-terra, but now since it is just qiskit-terra you have to install the other stuff separately (like the ibm_runtime and aer)"
   ]
  },
  {
   "cell_type": "code",
   "execution_count": null,
   "id": "3cf2fbc5-c04b-45e0-8b19-b1d137f982f6",
   "metadata": {},
   "outputs": [],
   "source": []
  },
  {
   "cell_type": "code",
   "execution_count": null,
   "id": "8886839d-09e1-4388-8b08-6c32ee43dea5",
   "metadata": {},
   "outputs": [],
   "source": []
  },
  {
   "cell_type": "code",
   "execution_count": null,
   "id": "ed27a527-04d2-4ba4-9d84-8d03888f75df",
   "metadata": {},
   "outputs": [],
   "source": []
  },
  {
   "cell_type": "code",
   "execution_count": null,
   "id": "08a2bd6d-e2aa-455f-a902-9be207c7bd14",
   "metadata": {},
   "outputs": [],
   "source": []
  },
  {
   "cell_type": "markdown",
   "id": "4af4e063-d046-4ddb-9255-2e545e6d34cd",
   "metadata": {
    "jp-MarkdownHeadingCollapsed": true,
    "tags": []
   },
   "source": [
    "## Qiskit Runtime "
   ]
  },
  {
   "cell_type": "markdown",
   "id": "ce6a8c1a-52c5-4546-8031-eea34c03f615",
   "metadata": {},
   "source": [
    "The main principle of `Qiskit Rnutime` is to be a layer of abstraction for software developers who don't want to deal with the nitty gritty of the code's interaction with hardware.\n",
    "\n",
    "Part of the advantage comes from \"containerization\" with facillitates the way your local machine interacts with a cloud service."
   ]
  },
  {
   "cell_type": "markdown",
   "id": "9dc38d79-398e-4b99-8e2e-cbc03d331097",
   "metadata": {},
   "source": [
    "\"Qiskit Runtime\" specializes in \"Primitives\" which is `estimator` and `sampler`. They have built in interactions with hardware so you don't have to code it up. `Estimator` deals with expected values so you don't have to interpret count distributions. `Sampler` is a deeper dive into the distribution and returns \"quasiprobabilities\""
   ]
  },
  {
   "cell_type": "code",
   "execution_count": null,
   "id": "6314e238-9539-489d-a839-1d7dd9111fca",
   "metadata": {},
   "outputs": [],
   "source": []
  }
 ],
 "metadata": {
  "kernelspec": {
   "display_name": "Python 3 (ipykernel)",
   "language": "python",
   "name": "python3"
  },
  "language_info": {
   "codemirror_mode": {
    "name": "ipython",
    "version": 3
   },
   "file_extension": ".py",
   "mimetype": "text/x-python",
   "name": "python",
   "nbconvert_exporter": "python",
   "pygments_lexer": "ipython3",
   "version": "3.12.2"
  }
 },
 "nbformat": 4,
 "nbformat_minor": 5
}
